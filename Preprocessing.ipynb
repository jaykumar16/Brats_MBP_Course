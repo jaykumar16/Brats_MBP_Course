{
 "cells": [
  {
   "cell_type": "markdown",
   "metadata": {},
   "source": [
    "## Dataset:\n",
    "\n",
    "File:                     Multi-Modal MRI Data/person\n",
    "\n",
    "File Format:          nii.gz\n",
    "\n",
    "Image Shape:       240(Slide Width) × 240(Slide Height) × 155(Number of Slide) × 4(Multi-mode)\n",
    "\n",
    "Image Mode:        4 (Multi-mode)\n",
    "\n"
   ]
  },
  {
   "cell_type": "markdown",
   "metadata": {},
   "source": [
    "# Multimodal data\n",
    "channel 0: FLAIR                    \n",
    "channel 1: T1                     \n",
    "channel 2: T1c                            \n",
    "channel 3: T2                           \n"
   ]
  },
  {
   "cell_type": "markdown",
   "metadata": {},
   "source": [
    "## Labels\n",
    "\n",
    "channel 0: background \\\n",
    "channel 1: necrotic and non-enhancing tumor \\\n",
    "channel 2: edema \\\n",
    "channel 3: enhancing tumor \n",
    "\n",
    "will change the intensity of the mask to different values to create the binary class problem \\\n",
    "C1 = 50     # Necrotic and Non-enhancing Tumor \\\n",
    "C2 = 100    # Edema \\\n",
    "C3 = 150    # Enhancing Tumor"
   ]
  },
  {
   "cell_type": "code",
   "execution_count": 6,
   "metadata": {},
   "outputs": [],
   "source": [
    "import numpy as np\n",
    "import matplotlib.pyplot as plt\n",
    "import nibabel as nib\n",
    "import torch\n",
    "import glob\n",
    "import os, sys, time\n",
    "import h5py\n",
    "import random\n",
    "from torch.utils import data\n",
    "import helpers\n",
    "from pathlib import Path\n",
    "import matplotlib.gridspec as gridspec\n",
    "import cv2\n",
    "import shutil"
   ]
  },
  {
   "cell_type": "code",
   "execution_count": 2,
   "metadata": {},
   "outputs": [],
   "source": [
    "def getfilename(rootdir,volume):\n",
    "    filename = rootdir+f'volume_{int(volume)}_slice*.h5'\n",
    "    #print(filename)\n",
    "    file = glob.glob(filename)\n",
    "    \n",
    "    return file"
   ]
  },
  {
   "cell_type": "code",
   "execution_count": 39,
   "metadata": {},
   "outputs": [
    {
     "data": {
      "text/plain": [
       "130"
      ]
     },
     "execution_count": 39,
     "metadata": {},
     "output_type": "execute_result"
    }
   ],
   "source": []
  },
  {
   "cell_type": "code",
   "execution_count": 3,
   "metadata": {},
   "outputs": [],
   "source": [
    "rootdir = '/home/jay/Documents/courses/Aicourse/Brats/BraTS2020_training_data/content/data/'\n",
    "volume = []\n",
    "allfilename = glob.glob(rootdir+'/*.h5')\n",
    "for i in range(len(allfilename)):\n",
    "    name = allfilename[i].split('volume_')[1].split('_')[0]\n",
    "    if name not in volume:\n",
    "        volume.append(name)"
   ]
  },
  {
   "cell_type": "code",
   "execution_count": null,
   "metadata": {},
   "outputs": [],
   "source": []
  },
  {
   "cell_type": "code",
   "execution_count": null,
   "metadata": {},
   "outputs": [],
   "source": []
  },
  {
   "cell_type": "code",
   "execution_count": 13,
   "metadata": {},
   "outputs": [
    {
     "data": {
      "text/plain": [
       "(369,)"
      ]
     },
     "execution_count": 13,
     "metadata": {},
     "output_type": "execute_result"
    }
   ],
   "source": [
    "np.shape(volume)"
   ]
  },
  {
   "cell_type": "code",
   "execution_count": 4,
   "metadata": {},
   "outputs": [],
   "source": [
    "volume = volume[0:10]"
   ]
  },
  {
   "cell_type": "code",
   "execution_count": 4,
   "metadata": {},
   "outputs": [
    {
     "name": "stdout",
     "output_type": "stream",
     "text": [
      "Train: 313, Valid: 28, Test: 28\n",
      "Train: 0, Valid: 0, Test: 0\n"
     ]
    }
   ],
   "source": [
    "rootdir = '/home/jay/Documents/courses/Aicourse/Brats/BraTS2020_training_data/content/data/'\n",
    "outputdir = '/home/jay/Documents/courses/Aicourse/Brats/'\n",
    "try:\n",
    "    shutil.rmtree(outputdir +'/train/')\n",
    "except:\n",
    "    pass\n",
    "\n",
    "try:\n",
    "    shutil.rmtree(outputdir +'/test/')\n",
    "except:\n",
    "    pass\n",
    "\n",
    "try:\n",
    "    shutil.rmtree(outputdir +'/validation/')\n",
    "except:\n",
    "    pass\n",
    "\n",
    "try:\n",
    "    os.makedirs(outputdir +'/train/')\n",
    "except:\n",
    "    pass\n",
    "try:   \n",
    "    os.makedirs(outputdir +'/test/')\n",
    "except:\n",
    "    pass\n",
    "try:    \n",
    "    os.makedirs(outputdir +'/validation/')\n",
    "except:\n",
    "    pass\n",
    "\n",
    "np.random.seed(20894573)\n",
    "np.random.shuffle(volume)\n",
    "\n",
    "train_size = 0.85\n",
    "validation_size = 0.075\n",
    "\n",
    "\n",
    "train, validate, test=np.split(np.array(volume), [int(train_size*len(volume)), int((1-validation_size)*len(volume))])\n",
    "\n",
    "do_save = False\n",
    "\n",
    "print(f'Train: {np.shape(train)[0]}, Valid: {np.shape(validate)[0]}, Test: {np.shape(test)[0]}')\n",
    "trainfile=0\n",
    "validfiles=0\n",
    "testfiles=0\n",
    "volumetrain=[]\n",
    "volumevalid=[]\n",
    "volumetest=[]\n",
    "for i in range(len(train)):\n",
    "    nametrain = getfilename(rootdir, train[i])\n",
    "    data=[]\n",
    "    for j in range(len(nametrain)):\n",
    "        data.append(h5py.File(nametrain[j], 'r')['mask'])\n",
    "    volumetrain.append(np.sum(data))\n",
    "\n",
    "    if do_save==True:\n",
    "        for name in nametrain:\n",
    "        #print(name)\n",
    "            shutil.copy(name, outputdir +'/train/')\n",
    "            trainfile = trainfile+1\n",
    "        \n",
    "for i in range(len(validate)):\n",
    "    namevalid = getfilename(rootdir, validate[i])\n",
    "    data=[]\n",
    "    for j in range(len(namevalid)):\n",
    "        data.append(h5py.File(namevalid[j], 'r')['mask'])\n",
    "    volumevalid.append(np.sum(data))\n",
    "    if do_save==True:\n",
    "        for name in namevalid:\n",
    "            shutil.copy(name, outputdir +'/validation/')\n",
    "            validfiles= validfiles+ 1\n",
    "        \n",
    "for i in range(len(test)):\n",
    "    nametest = getfilename(rootdir, test[i])\n",
    "    data=[]\n",
    "    for j in range(len(nametest)):\n",
    "        data.append(h5py.File(nametest[j], 'r')['mask'])\n",
    "    volumetest.append(np.sum(data))\n",
    "\n",
    "    if do_save==True:\n",
    "        for name in nametest:\n",
    "            shutil.copy(name, outputdir +'/test/')\n",
    "            testfiles =  testfiles+1\n",
    "        \n",
    "print(f'Train: {trainfile}, Valid: {validfiles}, Test: {testfiles}')\n"
   ]
  },
  {
   "cell_type": "code",
   "execution_count": 63,
   "metadata": {},
   "outputs": [
    {
     "data": {
      "text/plain": [
       "Text(0.5, 1.0, 'Test: Volume of the tumor')"
      ]
     },
     "execution_count": 63,
     "metadata": {},
     "output_type": "execute_result"
    },
    {
     "data": {
      "image/png": "[encoded data removed]",
      "text/plain": [
       "<Figure size 1440x216 with 3 Axes>"
      ]
     },
     "metadata": {
      "needs_background": "light"
     },
     "output_type": "display_data"
    }
   ],
   "source": [
    "plt.figure(figsize=[20,3])\n",
    "plt.subplot(1,3,1)\n",
    "plt.hist(volumetrain, bins='auto',  facecolor='g')\n",
    "plt.ylabel('Number of pateints')\n",
    "plt.xlabel(r'Volume (mm$^3$)')\n",
    "plt.title('Train: Volume of the tumor')\n",
    "plt.subplot(1,3,2)\n",
    "plt.hist(volumevalid, bins='auto',facecolor='r')\n",
    "plt.xlim([0,375000])\n",
    "plt.xlabel(r'Volume (mm$^3$)')\n",
    "plt.title('Validation: Volume of the tumor')\n",
    "\n",
    "plt.subplot(1,3,3)\n",
    "plt.hist(volumetest, bins='auto',facecolor='b')\n",
    "plt.xlim([0,375000])\n",
    "plt.xlabel(r'Volume (mm$^3$)')\n",
    "plt.title('Test: Volume of the tumor')\n"
   ]
  },
  {
   "cell_type": "code",
   "execution_count": 14,
   "metadata": {},
   "outputs": [
    {
     "name": "stderr",
     "output_type": "stream",
     "text": [
      "<ipython-input-14-ef66cc0c3313>:21: UserWarning: This figure includes Axes that are not compatible with tight_layout, so results might be incorrect.\n",
      "  plt.tight_layout()\n"
     ]
    },
    {
     "data": {
      "image/png": "[encoded data removed]",
      "text/plain": [
       "<Figure size 1440x576 with 3 Axes>"
      ]
     },
     "metadata": {
      "needs_background": "light"
     },
     "output_type": "display_data"
    }
   ],
   "source": [
    "gs = gridspec.GridSpec(2, 4)\n",
    "gs.update(wspace=0.5)\n",
    "plt.figure(figsize=[20,8])\n",
    "ax1 = plt.subplot(gs[0, :2], )\n",
    "plt.hist(volumetrain, bins='auto',  facecolor='g')\n",
    "plt.ylabel('Number of pateints')\n",
    "plt.xlabel(r'Volume (mm$^3$)')\n",
    "plt.title('Train: Volume of the tumor')\n",
    "ax2 = plt.subplot(gs[0, 2:])\n",
    "plt.hist(volumevalid, bins='auto',facecolor='r')\n",
    "plt.xlim([0,375000])\n",
    "plt.xlabel(r'Volume (mm$^3$)')\n",
    "plt.ylabel('Number of pateints')\n",
    "plt.title('Validation: Volume of the tumor')\n",
    "ax3 = plt.subplot(gs[1, 1:3])\n",
    "plt.hist(volumetest, bins='auto',facecolor='b')\n",
    "plt.xlim([0,375000])\n",
    "plt.xlabel(r'Volume (mm$^3$)')\n",
    "plt.title('Test: Volume of the tumor')\n",
    "plt.ylabel('Number of pateints')\n",
    "plt.tight_layout()\n",
    "\n",
    "plt.savefig('Volume.png', dpi=600)\n",
    "plt.show()"
   ]
  },
  {
   "cell_type": "code",
   "execution_count": null,
   "metadata": {},
   "outputs": [],
   "source": []
  }
 ],
 "metadata": {
  "kernelspec": {
   "display_name": "Python 3",
   "language": "python",
   "name": "python3"
  },
  "language_info": {
   "codemirror_mode": {
    "name": "ipython",
    "version": 3
   },
   "file_extension": ".py",
   "mimetype": "text/x-python",
   "name": "python",
   "nbconvert_exporter": "python",
   "pygments_lexer": "ipython3",
   "version": "3.8.10"
  }
 },
 "nbformat": 4,
 "nbformat_minor": 4
}
