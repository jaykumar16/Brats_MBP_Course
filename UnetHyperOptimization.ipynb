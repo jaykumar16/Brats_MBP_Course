{
 "cells": [
  {
   "cell_type": "code",
   "execution_count": 1,
   "metadata": {},
   "outputs": [],
   "source": [
    "#!/usr/bin/env python3\n",
    "\n",
    "\n",
    "## Before running the script change term_width to an integer in utils.py\n",
    "import torch\n",
    "import torch.backends.cudnn as cudnn\n",
    "import argparse\n",
    "import logging\n",
    "import pdb\n",
    "import joblib\n",
    "from torch.optim import Adam, SGD\n",
    "from dataprepaug import *\n",
    "from utils import *\n",
    "from models import *\n",
    "import numpy as np\n",
    "from functools import partial\n",
    "#from models.unet_model import UNet\n",
    "#from models.UnetPlusPlus import NestedUNet\n",
    "\n",
    "#from .pspnet import *\n",
    "#from .deeplab import *\n",
    "import torch.optim as optim\n",
    "import optuna\n",
    "from models.unet import *\n",
    "import glob\n",
    "import os\n",
    "import numbers\n",
    "import math\n",
    "import PIL\n",
    "import cv2\n",
    "import h5py\n",
    "\n",
    "import random\n",
    "import collections\n",
    "import torch.utils.data\n",
    "import torchvision\n",
    "import torchvision.transforms as transforms\n",
    "from optuna import Trial\n",
    "import optuna\n",
    "from models.unet_model import uNet\n"
   ]
  },
  {
   "cell_type": "code",
   "execution_count": 4,
   "metadata": {},
   "outputs": [
    {
     "name": "stderr",
     "output_type": "stream",
     "text": [
      "\u001b[32m[I 2022-03-22 19:08:47,617]\u001b[0m A new study created in memory with name: studyUnet\u001b[0m\n"
     ]
    },
    {
     "name": "stdout",
     "output_type": "stream",
     "text": [
      "Layers: 3, Layer Multiplyer: 23, Batch size: 6, LR: 1.6215728687378243e-05, Optimizer: SGD, dropout: 0.058775869070122444\n",
      "Epoch: 0\n",
      " [=================================================>]  Step: 155ms | Tot: 1m12s | Loss: 0.91032, Dice-Coef: 0.0896 320/320 0  \n",
      "Training epoch error: \n",
      " Acc: 1.1%, Avg loss: 0.909493, Dice: 0.090507 \n",
      "\n",
      "\n",
      "\n",
      "<Validation>\n",
      " [===============================================>..]  Step: 414ms | Tot: 3s592ms | Loss: 0.90900, Dice-Coef: 0.0910 20/20 \n",
      "Validation error: \n",
      " Acc: 0.5%, Avg loss: 0.908999, Dice: 0.091001 \n",
      "\n",
      "Epoch: 1\n",
      " [=================================================>]  Step: 154ms | Tot: 50s941ms | Loss: 0.91243, Dice-Coef: 0.0875 320/320 \n",
      "Training epoch error: \n",
      " Acc: 1.1%, Avg loss: 0.909335, Dice: 0.090665 \n",
      "\n",
      "\n",
      "\n",
      "<Validation>\n",
      " [===============================================>..]  Step: 84ms | Tot: 1s694ms | Loss: 0.90914, Dice-Coef: 0.0908 20/20 \n",
      "Validation error: \n",
      " Acc: 0.6%, Avg loss: 0.909145, Dice: 0.090855 \n",
      "\n",
      "Epoch: 2\n",
      " [=================================================>]  Step: 160ms | Tot: 50s813ms | Loss: 0.90449, Dice-Coef: 0.0955 320/320 \n",
      "Training epoch error: \n",
      " Acc: 1.2%, Avg loss: 0.909252, Dice: 0.090748 \n",
      "\n",
      "\n",
      "\n",
      "<Validation>\n",
      " [===============================================>..]  Step: 85ms | Tot: 1s713ms | Loss: 0.90876, Dice-Coef: 0.0912 20/20 \n",
      "Validation error: \n",
      " Acc: 0.8%, Avg loss: 0.908760, Dice: 0.091240 \n",
      "\n",
      "Epoch: 3\n",
      " [=================================================>]  Step: 159ms | Tot: 51s275ms | Loss: 0.91273, Dice-Coef: 0.0872 320/320 \n",
      "Training epoch error: \n",
      " Acc: 1.2%, Avg loss: 0.909129, Dice: 0.090871 \n",
      "\n",
      "\n",
      "\n",
      "<Validation>\n",
      " [===============================================>..]  Step: 90ms | Tot: 1s689ms | Loss: 0.90965, Dice-Coef: 0.0903 20/20 \n",
      "Validation error: \n",
      " Acc: 0.7%, Avg loss: 0.909650, Dice: 0.090350 \n",
      "\n",
      "Epoch: 4\n",
      " [=================================================>]  Step: 161ms | Tot: 51s253ms | Loss: 0.90826, Dice-Coef: 0.0917 320/320 \n",
      "Training epoch error: \n",
      " Acc: 1.4%, Avg loss: 0.908882, Dice: 0.091118 \n",
      "\n",
      "\n",
      "\n",
      "<Validation>\n",
      " [===============================================>..]  Step: 90ms | Tot: 1s696ms | Loss: 0.90937, Dice-Coef: 0.0906 20/20 \n",
      "Validation error: \n",
      " Acc: 0.8%, Avg loss: 0.909368, Dice: 0.090632 \n",
      "\n",
      "Epoch: 5\n",
      " [=================================================>]  Step: 156ms | Tot: 51s451ms | Loss: 0.91075, Dice-Coef: 0.0892 320/320 \n",
      "Training epoch error: \n",
      " Acc: 1.7%, Avg loss: 0.908707, Dice: 0.091293 \n",
      "\n",
      "\n",
      "\n",
      "<Validation>\n",
      " [===============================================>..]  Step: 92ms | Tot: 1s665ms | Loss: 0.90899, Dice-Coef: 0.0910 20/20 \n",
      "Validation error: \n",
      " Acc: 0.9%, Avg loss: 0.908988, Dice: 0.091012 \n",
      "\n",
      "Epoch: 6\n",
      " [=================================================>]  Step: 160ms | Tot: 51s152ms | Loss: 0.90340, Dice-Coef: 0.0966 320/320 \n",
      "Training epoch error: \n",
      " Acc: 1.6%, Avg loss: 0.908620, Dice: 0.091380 \n",
      "\n",
      "\n",
      "\n",
      "<Validation>\n",
      " [===============================================>..]  Step: 83ms | Tot: 1s672ms | Loss: 0.90872, Dice-Coef: 0.0912 20/20 \n"
     ]
    },
    {
     "name": "stderr",
     "output_type": "stream",
     "text": [
      "\u001b[32m[I 2022-03-22 19:15:22,796]\u001b[0m Trial 0 finished with value: 0.9079156190156936 and parameters: {'layer_multipler': 23, 'lr': 1.6215728687378243e-05, 'drop_rate': 0.058775869070122444, 'n_layers': 3, 'batch_size': 6, 'optimizer': 'SGD'}. Best is trial 0 with value: 0.9079156190156936.\u001b[0m\n"
     ]
    },
    {
     "name": "stdout",
     "output_type": "stream",
     "text": [
      "Validation error: \n",
      " Acc: 0.8%, Avg loss: 0.908725, Dice: 0.091275 \n",
      "\n",
      "Layers: 3, Layer Multiplyer: 39, Batch size: 17, LR: 0.05805036404284333, Optimizer: RMSprop, dropout: 0.03921593757833808\n",
      "Epoch: 0\n",
      " [=================================================>]  Step: 665ms | Tot: 1m13s | Loss: 0.74046, Dice-Coef: 0.2595 112/112   \n",
      "Training epoch error: \n",
      " Acc: 98.2%, Avg loss: 0.752637, Dice: 0.247363 \n",
      "\n",
      "\n",
      "\n",
      "<Validation>\n",
      " [==========================================>.......]  Step: 257ms | Tot: 1s582ms | Loss: 0.75090, Dice-Coef: 0.2491 7/7 \n",
      "Validation error: \n",
      " Acc: 99.0%, Avg loss: 0.750900, Dice: 0.249100 \n",
      "\n",
      "Epoch: 1\n",
      " [=================================================>]  Step: 662ms | Tot: 1m13s | Loss: 0.75100, Dice-Coef: 0.2490 112/112   \n",
      "Training epoch error: \n",
      " Acc: 98.9%, Avg loss: 0.751239, Dice: 0.248761 \n",
      "\n",
      "\n",
      "\n",
      "<Validation>\n",
      " [==========================================>.......]  Step: 265ms | Tot: 1s622ms | Loss: 0.75090, Dice-Coef: 0.2491 7/7 \n",
      "Validation error: \n",
      " Acc: 99.0%, Avg loss: 0.750901, Dice: 0.249099 \n",
      "\n",
      "Epoch: 2\n",
      " [=================================================>]  Step: 664ms | Tot: 1m13s | Loss: 0.75180, Dice-Coef: 0.2482 112/112   \n",
      "Training epoch error: \n",
      " Acc: 98.9%, Avg loss: 0.751382, Dice: 0.248618 \n",
      "\n",
      "\n",
      "\n",
      "<Validation>\n",
      " [==========================================>.......]  Step: 285ms | Tot: 1s669ms | Loss: 0.75090, Dice-Coef: 0.2491 7/7 \n",
      "Validation error: \n",
      " Acc: 99.0%, Avg loss: 0.750900, Dice: 0.249100 \n",
      "\n",
      "Epoch: 3\n",
      " [=================================================>]  Step: 673ms | Tot: 1m13s | Loss: 0.75160, Dice-Coef: 0.2484 112/112   \n",
      "Training epoch error: \n",
      " Acc: 98.9%, Avg loss: 0.751363, Dice: 0.248637 \n",
      "\n",
      "\n",
      "\n",
      "<Validation>\n",
      " [==========================================>.......]  Step: 280ms | Tot: 1s657ms | Loss: 0.75090, Dice-Coef: 0.2491 7/7 \n",
      "Validation error: \n",
      " Acc: 99.0%, Avg loss: 0.750900, Dice: 0.249100 \n",
      "\n",
      "Epoch: 4\n",
      " [=================================================>]  Step: 658ms | Tot: 1m13s | Loss: 0.75081, Dice-Coef: 0.2491 112/112   \n",
      "Training epoch error: \n",
      " Acc: 98.9%, Avg loss: 0.751356, Dice: 0.248644 \n",
      "\n",
      "\n",
      "\n",
      "<Validation>\n",
      " [==========================================>.......]  Step: 274ms | Tot: 1s643ms | Loss: 0.75090, Dice-Coef: 0.2491 7/7 \n",
      "Validation error: \n",
      " Acc: 99.0%, Avg loss: 0.750900, Dice: 0.249100 \n",
      "\n",
      "Epoch: 5\n",
      " [=================================================>]  Step: 655ms | Tot: 1m13s | Loss: 0.75129, Dice-Coef: 0.2487 112/112   \n",
      "Training epoch error: \n",
      " Acc: 98.9%, Avg loss: 0.751370, Dice: 0.248630 \n",
      "\n",
      "\n",
      "\n",
      "<Validation>\n",
      " [==========================================>.......]  Step: 283ms | Tot: 1s663ms | Loss: 0.75090, Dice-Coef: 0.2491 7/7 \n",
      "Validation error: \n",
      " Acc: 99.0%, Avg loss: 0.750900, Dice: 0.249100 \n",
      "\n",
      "Epoch: 6\n",
      " [=================================================>]  Step: 664ms | Tot: 1m13s | Loss: 0.75138, Dice-Coef: 0.2486 112/112   \n",
      "Training epoch error: \n",
      " Acc: 98.9%, Avg loss: 0.751355, Dice: 0.248645 \n",
      "\n",
      "\n",
      "\n",
      "<Validation>\n",
      " [==========================================>.......]  Step: 266ms | Tot: 1s618ms | Loss: 0.75090, Dice-Coef: 0.2491 7/7 \n",
      "Validation error: \n",
      " Acc: 99.0%, Avg loss: 0.750900, Dice: 0.249100 \n",
      "\n",
      "Epoch: 7\n",
      " [=================================================>]  Step: 661ms | Tot: 1m13s | Loss: 0.74980, Dice-Coef: 0.2502 112/112   \n",
      "Training epoch error: \n",
      " Acc: 98.8%, Avg loss: 0.750828, Dice: 0.249172 \n",
      "\n",
      "\n",
      "\n",
      "<Validation>\n",
      " [==========================================>.......]  Step: 270ms | Tot: 1s630ms | Loss: 0.76344, Dice-Coef: 0.2365 7/7 \n",
      "Validation error: \n",
      " Acc: 87.6%, Avg loss: 0.763443, Dice: 0.236557 \n",
      "\n",
      "Epoch: 8\n",
      " [=================================================>]  Step: 655ms | Tot: 1m13s | Loss: 0.66272, Dice-Coef: 0.3372 112/112   \n",
      "Training epoch error: \n",
      " Acc: 98.4%, Avg loss: 0.699668, Dice: 0.300332 \n",
      "\n",
      "\n",
      "\n",
      "<Validation>\n",
      " [==========================================>.......]  Step: 278ms | Tot: 1s629ms | Loss: 0.71062, Dice-Coef: 0.2893 7/7 \n",
      "Validation error: \n",
      " Acc: 98.7%, Avg loss: 0.710617, Dice: 0.289383 \n",
      "\n",
      "Epoch: 9\n",
      " [=================================================>]  Step: 655ms | Tot: 1m13s | Loss: 0.65557, Dice-Coef: 0.3444 112/112   \n",
      "Training epoch error: \n",
      " Acc: 98.0%, Avg loss: 0.682845, Dice: 0.317155 \n",
      "\n",
      "\n",
      "\n",
      "<Validation>\n",
      " [==========================================>.......]  Step: 277ms | Tot: 1s644ms | Loss: 0.72764, Dice-Coef: 0.2723 7/7 \n",
      "Validation error: \n",
      " Acc: 99.0%, Avg loss: 0.727644, Dice: 0.272356 \n",
      "\n",
      "Epoch: 10\n",
      " [=================================================>]  Step: 660ms | Tot: 1m13s | Loss: 0.56392, Dice-Coef: 0.4360 112/112   \n",
      "Training epoch error: \n",
      " Acc: 98.7%, Avg loss: 0.632545, Dice: 0.367455 \n",
      "\n",
      "\n",
      "\n",
      "<Validation>\n",
      " [==========================================>.......]  Step: 274ms | Tot: 1s667ms | Loss: 0.62552, Dice-Coef: 0.3744 7/7 \n",
      "Validation error: \n",
      " Acc: 98.7%, Avg loss: 0.625522, Dice: 0.374478 \n",
      "\n",
      "Epoch: 11\n",
      " [=================================================>]  Step: 661ms | Tot: 1m13s | Loss: 0.69524, Dice-Coef: 0.3047 112/112   \n",
      "Training epoch error: \n",
      " Acc: 98.7%, Avg loss: 0.633094, Dice: 0.366906 \n",
      "\n",
      "\n",
      "\n",
      "<Validation>\n",
      " [==========================================>.......]  Step: 267ms | Tot: 1s684ms | Loss: 0.62872, Dice-Coef: 0.3712 7/7 \n",
      "Validation error: \n",
      " Acc: 98.9%, Avg loss: 0.628723, Dice: 0.371277 \n",
      "\n",
      "Epoch: 12\n",
      " [=================================================>]  Step: 660ms | Tot: 1m13s | Loss: 0.60450, Dice-Coef: 0.3955 112/112   \n",
      "Training epoch error: \n",
      " Acc: 98.9%, Avg loss: 0.635482, Dice: 0.364518 \n",
      "\n",
      "\n",
      "\n",
      "<Validation>\n",
      " [==========================================>.......]  Step: 273ms | Tot: 1s622ms | Loss: 0.60120, Dice-Coef: 0.3988 7/7 \n",
      "Validation error: \n",
      " Acc: 99.2%, Avg loss: 0.601201, Dice: 0.398799 \n",
      "\n",
      "Epoch: 13\n",
      " [=================================================>]  Step: 678ms | Tot: 1m13s | Loss: 0.63494, Dice-Coef: 0.3650 112/112   \n",
      "Training epoch error: \n",
      " Acc: 98.9%, Avg loss: 0.628179, Dice: 0.371821 \n",
      "\n",
      "\n",
      "\n",
      "<Validation>\n",
      " [==========================================>.......]  Step: 281ms | Tot: 1s627ms | Loss: 0.59930, Dice-Coef: 0.4007 7/7 \n",
      "Validation error: \n",
      " Acc: 99.1%, Avg loss: 0.599299, Dice: 0.400701 \n",
      "\n",
      "Epoch: 14\n",
      " [=================================================>]  Step: 653ms | Tot: 1m13s | Loss: 0.64821, Dice-Coef: 0.3517 112/112   \n",
      "Training epoch error: \n",
      " Acc: 99.0%, Avg loss: 0.634038, Dice: 0.365962 \n",
      "\n",
      "\n",
      "\n",
      "<Validation>\n",
      " [==========================================>.......]  Step: 271ms | Tot: 1s657ms | Loss: 0.60946, Dice-Coef: 0.3905 7/7 \n",
      "Validation error: \n",
      " Acc: 99.1%, Avg loss: 0.609460, Dice: 0.390540 \n",
      "\n",
      "Epoch: 15\n",
      " [=================================================>]  Step: 672ms | Tot: 1m13s | Loss: 0.62204, Dice-Coef: 0.3779 112/112   \n",
      "Training epoch error: \n",
      " Acc: 99.0%, Avg loss: 0.620011, Dice: 0.379989 \n",
      "\n",
      "\n",
      "\n",
      "<Validation>\n",
      " [==========================================>.......]  Step: 258ms | Tot: 1s579ms | Loss: 0.63136, Dice-Coef: 0.3686 7/7 \n",
      "Validation error: \n",
      " Acc: 99.2%, Avg loss: 0.631360, Dice: 0.368640 \n",
      "\n",
      "Epoch: 16\n",
      " [=================================================>]  Step: 668ms | Tot: 1m13s | Loss: 0.64778, Dice-Coef: 0.3522 112/112   \n",
      "Training epoch error: \n",
      " Acc: 99.0%, Avg loss: 0.623460, Dice: 0.376540 \n",
      "\n",
      "\n",
      "\n",
      "<Validation>\n",
      " [==========================================>.......]  Step: 269ms | Tot: 1s635ms | Loss: 0.66116, Dice-Coef: 0.3388 7/7 \n",
      "Validation error: \n",
      " Acc: 99.1%, Avg loss: 0.661159, Dice: 0.338841 \n",
      "\n",
      "Epoch: 17\n",
      " [=================================================>]  Step: 668ms | Tot: 1m13s | Loss: 0.68221, Dice-Coef: 0.3177 112/112   \n",
      "Training epoch error: \n",
      " Acc: 99.0%, Avg loss: 0.615463, Dice: 0.384537 \n",
      "\n",
      "\n",
      "\n",
      "<Validation>\n",
      " [==========================================>.......]  Step: 274ms | Tot: 1s646ms | Loss: 0.64253, Dice-Coef: 0.3574 7/7 \n",
      "Validation error: \n",
      " Acc: 99.2%, Avg loss: 0.642530, Dice: 0.357470 \n",
      "\n",
      "Epoch: 18\n",
      " [=================================================>]  Step: 661ms | Tot: 1m13s | Loss: 0.73203, Dice-Coef: 0.2679 112/112   \n",
      "Training epoch error: \n",
      " Acc: 99.1%, Avg loss: 0.623095, Dice: 0.376905 \n",
      "\n",
      "\n",
      "\n",
      "<Validation>\n",
      " [==========================================>.......]  Step: 257ms | Tot: 1s612ms | Loss: 0.59856, Dice-Coef: 0.4014 7/7 \n",
      "Validation error: \n",
      " Acc: 99.2%, Avg loss: 0.598558, Dice: 0.401442 \n",
      "\n",
      "Epoch: 19\n",
      " [=================================================>]  Step: 657ms | Tot: 1m13s | Loss: 0.56351, Dice-Coef: 0.4364 112/112   \n",
      "Training epoch error: \n",
      " Acc: 99.1%, Avg loss: 0.618243, Dice: 0.381757 \n",
      "\n",
      "\n",
      "\n",
      "<Validation>\n",
      " [==========================================>.......]  Step: 283ms | Tot: 1s627ms | Loss: 0.60229, Dice-Coef: 0.3977 7/7 \n"
     ]
    },
    {
     "name": "stderr",
     "output_type": "stream",
     "text": [
      "\u001b[32m[I 2022-03-22 19:40:45,980]\u001b[0m Trial 1 finished with value: 0.6022211057799203 and parameters: {'layer_multipler': 39, 'lr': 0.05805036404284333, 'drop_rate': 0.03921593757833808, 'n_layers': 3, 'batch_size': 17, 'optimizer': 'RMSprop'}. Best is trial 1 with value: 0.6022211057799203.\u001b[0m\n"
     ]
    },
    {
     "name": "stdout",
     "output_type": "stream",
     "text": [
      "Validation error: \n",
      " Acc: 99.3%, Avg loss: 0.602293, Dice: 0.397707 \n",
      "\n",
      "Layers: 3, Layer Multiplyer: 31, Batch size: 6, LR: 0.015520849729255876, Optimizer: SGD, dropout: 0.011571629043218743\n",
      "Epoch: 0\n",
      " [=================================================>]  Step: 197ms | Tot: 1m2s | Loss: 0.80361, Dice-Coef: 0.1963 320/320 20  ................................]  Step: 201ms | Tot: 404ms | Loss: 0.90388, Dice-Coef: 0.0961 3/320 5/320 ......................................]  Step: 200ms | Tot: 1s205ms | Loss: 0.90864, Dice-Coef: 0.0913 7/320 \n",
      "Training epoch error: \n",
      " Acc: 75.9%, Avg loss: 0.861166, Dice: 0.138834 \n",
      "\n",
      "\n",
      "\n",
      "<Validation>\n",
      " [===============================================>..]  Step: 86ms | Tot: 1s679ms | Loss: 0.82667, Dice-Coef: 0.1733 20/20 \n",
      "Validation error: \n",
      " Acc: 94.6%, Avg loss: 0.826670, Dice: 0.173330 \n",
      "\n",
      "Epoch: 1\n",
      " [=================================================>]  Step: 204ms | Tot: 1m2s | Loss: 0.79963, Dice-Coef: 0.2003 320/320 20  ....................................]  Step: 201ms | Tot: 4s136ms | Loss: 0.82223, Dice-Coef: 0.1777 22/320 ===>...................................]  Step: 200ms | Tot: 17s706ms | Loss: 0.78797, Dice-Coef: 0.2120 92/320 ==>...................................]  Step: 200ms | Tot: 18s304ms | Loss: 0.78938, Dice-Coef: 0.2106 95/320 ..........................]  Step: 201ms | Tot: 21s242ms | Loss: 0.78499, Dice-Coef: 0.2150 110/320 ..........................]  Step: 201ms | Tot: 24s743ms | Loss: 0.80864, Dice-Coef: 0.1913 128/320 ==================>.........]  Step: 200ms | Tot: 50s806ms | Loss: 0.74750, Dice-Coef: 0.2525 262/320 \n",
      "Training epoch error: \n",
      " Acc: 96.1%, Avg loss: 0.794119, Dice: 0.205881 \n",
      "\n",
      "\n",
      "\n",
      "<Validation>\n",
      " [===============================================>..]  Step: 87ms | Tot: 1s663ms | Loss: 0.77118, Dice-Coef: 0.2288 20/20 \n",
      "Validation error: \n",
      " Acc: 96.1%, Avg loss: 0.771180, Dice: 0.228820 \n",
      "\n",
      "Epoch: 2\n",
      " [=================================================>]  Step: 199ms | Tot: 1m2s | Loss: 0.64406, Dice-Coef: 0.3559 320/320 20  .....................................]  Step: 201ms | Tot: 4s563ms | Loss: 0.78527, Dice-Coef: 0.2147 24/320 ....................................]  Step: 201ms | Tot: 14s510ms | Loss: 0.73651, Dice-Coef: 0.2634 75/320 =====>.................................]  Step: 200ms | Tot: 20s562ms | Loss: 0.65481, Dice-Coef: 0.3451 106/320 233/320 =====================>...........]  Step: 200ms | Tot: 48s398ms | Loss: 0.73987, Dice-Coef: 0.2601 249/320 ======================================>.........]  Step: 200ms | Tot: 50s355ms | Loss: 0.75681, Dice-Coef: 0.2431 259/320 ======================================>..]  Step: 201ms | Tot: 59s362ms | Loss: 0.70069, Dice-Coef: 0.2993 305/320 \n",
      "Training epoch error: \n",
      " Acc: 97.0%, Avg loss: 0.735539, Dice: 0.264461 \n",
      "\n",
      "\n",
      "\n",
      "<Validation>\n",
      " [===============================================>..]  Step: 92ms | Tot: 1s743ms | Loss: 0.71191, Dice-Coef: 0.2880 20/20 \n",
      "Validation error: \n",
      " Acc: 97.7%, Avg loss: 0.711914, Dice: 0.288086 \n",
      "\n",
      "Epoch: 3\n",
      " [=================================================>]  Step: 189ms | Tot: 1m2s | Loss: 0.75702, Dice-Coef: 0.2429 320/320 20  .......................................]  Step: 201ms | Tot: 2s979ms | Loss: 0.59919, Dice-Coef: 0.4008 16/320 ................................]  Step: 201ms | Tot: 17s956ms | Loss: 0.63209, Dice-Coef: 0.3679 93/320 ====================>..................]  Step: 200ms | Tot: 39s765ms | Loss: 0.66904, Dice-Coef: 0.3309 205/320 =========================>..............]  Step: 200ms | Tot: 43s849ms | Loss: 0.75626, Dice-Coef: 0.2437 226/320 ======================>..............]  Step: 200ms | Tot: 44s640ms | Loss: 0.67586, Dice-Coef: 0.3241 230/320 \n",
      "Training epoch error: \n",
      " Acc: 98.2%, Avg loss: 0.670487, Dice: 0.329513 \n",
      "\n",
      "\n",
      "\n",
      "<Validation>\n",
      " [===============================================>..]  Step: 87ms | Tot: 1s684ms | Loss: 0.59933, Dice-Coef: 0.4006 20/20 \n",
      "Validation error: \n",
      " Acc: 96.9%, Avg loss: 0.599334, Dice: 0.400666 \n",
      "\n",
      "Epoch: 4\n",
      " [=================================================>]  Step: 193ms | Tot: 1m2s | Loss: 0.61263, Dice-Coef: 0.3873 320/320 20  .............................]  Step: 200ms | Tot: 9s320ms | Loss: 0.53905, Dice-Coef: 0.4609 48/320 ==============================>...................]  Step: 200ms | Tot: 38s18ms | Loss: 0.40909, Dice-Coef: 0.5909 195/320 ==================>.................]  Step: 201ms | Tot: 40s797ms | Loss: 0.75249, Dice-Coef: 0.2475 209/320 ========>...............]  Step: 200ms | Tot: 42s920ms | Loss: 0.44266, Dice-Coef: 0.5573 220/320 \n",
      "Training epoch error: \n",
      " Acc: 98.7%, Avg loss: 0.590393, Dice: 0.409607 \n",
      "\n",
      "\n",
      "\n",
      "<Validation>\n",
      " [===============================================>..]  Step: 89ms | Tot: 1s704ms | Loss: 0.51064, Dice-Coef: 0.4893 20/20 \n",
      "Validation error: \n",
      " Acc: 98.4%, Avg loss: 0.510643, Dice: 0.489357 \n",
      "\n",
      "Epoch: 5\n",
      " [=================================================>]  Step: 195ms | Tot: 1m2s | Loss: 0.75207, Dice-Coef: 0.2479 320/320 20  .............................................]  Step: 200ms | Tot: 1s568ms | Loss: 0.54025, Dice-Coef: 0.4597 9/320 >............................................]  Step: 200ms | Tot: 6s342ms | Loss: 0.48388, Dice-Coef: 0.5161 33/320 .............................]  Step: 200ms | Tot: 8s140ms | Loss: 0.65889, Dice-Coef: 0.3411 42/320 =================>........................]  Step: 201ms | Tot: 31s693ms | Loss: 0.52299, Dice-Coef: 0.4770 163/32 228/320 ======================================>...........]  Step: 200ms | Tot: 48s724ms | Loss: 0.35218, Dice-Coef: 0.6478 250/320 ==============>..........]  Step: 200ms | Tot: 48s924ms | Loss: 0.55853, Dice-Coef: 0.4414 251/320 \n",
      "Training epoch error: \n",
      " Acc: 98.9%, Avg loss: 0.538327, Dice: 0.461673 \n",
      "\n",
      "\n",
      "\n",
      "<Validation>\n",
      " [===============================================>..]  Step: 87ms | Tot: 1s706ms | Loss: 0.61973, Dice-Coef: 0.3802 20/20 \n",
      "Validation error: \n",
      " Acc: 99.0%, Avg loss: 0.619732, Dice: 0.380268 \n",
      "\n",
      "Epoch: 6\n",
      " [=================================================>]  Step: 199ms | Tot: 1m2s | Loss: 0.39910, Dice-Coef: 0.6009 320/320 20  ........................................]  Step: 200ms | Tot: 3s354ms | Loss: 0.36723, Dice-Coef: 0.6327 18/320 =========================================>........]  Step: 201ms | Tot: 51s249ms | Loss: 0.41103, Dice-Coef: 0.5889 264/320 =========>.....]  Step: 200ms | Tot: 55s217ms | Loss: 0.60144, Dice-Coef: 0.3985 284/320 \n",
      "Training epoch error: \n",
      " Acc: 99.0%, Avg loss: 0.497753, Dice: 0.502247 \n",
      "\n",
      "\n",
      "\n",
      "<Validation>\n",
      " [===============================================>..]  Step: 87ms | Tot: 1s701ms | Loss: 0.35388, Dice-Coef: 0.6461 20/20 \n",
      "Validation error: \n",
      " Acc: 99.3%, Avg loss: 0.353882, Dice: 0.646118 \n",
      "\n",
      "Epoch: 7\n",
      " [=================================================>]  Step: 194ms | Tot: 1m2s | Loss: 0.31637, Dice-Coef: 0.6836 320/320 20  ....................................]  Step: 201ms | Tot: 2s547ms | Loss: 0.53809, Dice-Coef: 0.4619 14/320 ................]  Step: 200ms | Tot: 9s22ms | Loss: 0.49927, Dice-Coef: 0.5007 47/320 =========>........................................]  Step: 201ms | Tot: 11s762ms | Loss: 0.35918, Dice-Coef: 0.6408 61/320 .............................]  Step: 201ms | Tot: 13s969ms | Loss: 0.41904, Dice-Coef: 0.5809 72/320 ............]  Step: 200ms | Tot: 21s917ms | Loss: 0.51797, Dice-Coef: 0.4820 113/320 =================>...........]  Step: 200ms | Tot: 47s672ms | Loss: 0.33785, Dice-Coef: 0.6621 245/320 =================================>.....]  Step: 200ms | Tot: 55s800ms | Loss: 0.44753, Dice-Coef: 0.5524 287/320 \n",
      "Training epoch error: \n",
      " Acc: 99.0%, Avg loss: 0.477513, Dice: 0.522487 \n",
      "\n",
      "\n",
      "\n",
      "<Validation>\n",
      " [===============================================>..]  Step: 87ms | Tot: 1s691ms | Loss: 0.30348, Dice-Coef: 0.6965 20/20 \n",
      "Validation error: \n",
      " Acc: 99.4%, Avg loss: 0.303484, Dice: 0.696516 \n",
      "\n",
      "Epoch: 8\n",
      " [=================================================>]  Step: 194ms | Tot: 1m2s | Loss: 0.36176, Dice-Coef: 0.6382 320/320 20  ...........................]  Step: 200ms | Tot: 2s356ms | Loss: 0.75185, Dice-Coef: 0.2481 13/320 ====>...................................]  Step: 201ms | Tot: 17s687ms | Loss: 0.22575, Dice-Coef: 0.7742 92/320 =====================>..................]  Step: 201ms | Tot: 39s306ms | Loss: 0.61751, Dice-Coef: 0.3824 203/320 \n",
      "Training epoch error: \n",
      " Acc: 99.1%, Avg loss: 0.449121, Dice: 0.550879 \n",
      "\n",
      "\n",
      "\n",
      "<Validation>\n",
      " [===============================================>..]  Step: 87ms | Tot: 1s704ms | Loss: 0.43238, Dice-Coef: 0.5676 20/20 \n",
      "Validation error: \n",
      " Acc: 99.2%, Avg loss: 0.432376, Dice: 0.567624 \n",
      "\n",
      "Epoch: 9\n",
      " [=================================================>]  Step: 192ms | Tot: 1m2s | Loss: 0.57445, Dice-Coef: 0.4255 320/320 20  .......................................]  Step: 201ms | Tot: 12s265ms | Loss: 0.27577, Dice-Coef: 0.7242 63/320 ================================>...]  Step: 200ms | Tot: 58s688ms | Loss: 0.18261, Dice-Coef: 0.8173 301/320 \n",
      "Training epoch error: \n",
      " Acc: 99.2%, Avg loss: 0.432909, Dice: 0.567091 \n",
      "\n",
      "\n",
      "\n",
      "<Validation>\n",
      " [===============================================>..]  Step: 90ms | Tot: 1s694ms | Loss: 0.26191, Dice-Coef: 0.7380 20/20 \n",
      "Validation error: \n",
      " Acc: 99.4%, Avg loss: 0.261910, Dice: 0.738090 \n",
      "\n",
      "Epoch: 10\n",
      " [=================================================>]  Step: 200ms | Tot: 1m2s | Loss: 0.43044, Dice-Coef: 0.5695 320/320 20  ..................................]  Step: 200ms | Tot: 4s380ms | Loss: 0.32817, Dice-Coef: 0.6718 23/320 ......................................]  Step: 201ms | Tot: 10s46ms | Loss: 0.44293, Dice-Coef: 0.5570 52/320 \n",
      "Training epoch error: \n",
      " Acc: 99.3%, Avg loss: 0.413591, Dice: 0.586409 \n",
      "\n",
      "\n",
      "\n",
      "<Validation>\n",
      " [===============================================>..]  Step: 90ms | Tot: 1s723ms | Loss: 0.56859, Dice-Coef: 0.4314 20/20 \n",
      "Validation error: \n",
      " Acc: 99.1%, Avg loss: 0.568588, Dice: 0.431412 \n",
      "\n",
      "Epoch: 11\n",
      " [=================================================>]  Step: 189ms | Tot: 1m2s | Loss: 0.38899, Dice-Coef: 0.6110 320/320 20  .....................................]  Step: 201ms | Tot: 3s926ms | Loss: 0.22000, Dice-Coef: 0.7800 21/320 .....]  Step: 199ms | Tot: 38s382ms | Loss: 0.27630, Dice-Coef: 0.7237 198/320 =======>.............]  Step: 200ms | Tot: 45s14ms | Loss: 0.36965, Dice-Coef: 0.6303 232/320 \n",
      "Training epoch error: \n",
      " Acc: 99.3%, Avg loss: 0.407850, Dice: 0.592150 \n",
      "\n",
      "\n",
      "\n",
      "<Validation>\n",
      " [===============================================>..]  Step: 85ms | Tot: 1s700ms | Loss: 0.17582, Dice-Coef: 0.8241 20/20  \n",
      "Validation error: \n",
      " Acc: 99.5%, Avg loss: 0.175818, Dice: 0.824182 \n",
      "\n",
      "Epoch: 12\n",
      " [=================================================>]  Step: 189ms | Tot: 1m2s | Loss: 0.23549, Dice-Coef: 0.7645 320/320 20  ...................................]  Step: 200ms | Tot: 4s335ms | Loss: 0.50449, Dice-Coef: 0.4955 23/320 ==========>..............................]  Step: 200ms | Tot: 24s240ms | Loss: 0.31016, Dice-Coef: 0.6898 125/320 =======================>......................]  Step: 200ms | Tot: 34s47ms | Loss: 0.75052, Dice-Coef: 0.2494 175/320 ===========================>......................]  Step: 200ms | Tot: 34s248ms | Loss: 0.20222, Dice-Coef: 0.7977 176/320 ==============>....................]  Step: 200ms | Tot: 37s427ms | Loss: 0.53514, Dice-Coef: 0.4648 192/320 ==========================>...........]  Step: 200ms | Tot: 48s188ms | Loss: 0.65462, Dice-Coef: 0.3453 247/320 ===========================>........]  Step: 201ms | Tot: 51s703ms | Loss: 0.27481, Dice-Coef: 0.7251 265/320 =========================================>........]  Step: 200ms | Tot: 51s903ms | Loss: 0.45895, Dice-Coef: 0.54 266/320 \n",
      "Training epoch error: \n",
      " Acc: 99.4%, Avg loss: 0.404036, Dice: 0.595964 \n",
      "\n",
      "\n",
      "\n",
      "<Validation>\n",
      " [===============================================>..]  Step: 88ms | Tot: 1s707ms | Loss: 0.23486, Dice-Coef: 0.7651 20/20 \n",
      "Validation error: \n",
      " Acc: 99.0%, Avg loss: 0.234865, Dice: 0.765135 \n",
      "\n",
      "Epoch: 13\n",
      " [=================================================>]  Step: 193ms | Tot: 1m2s | Loss: 0.32259, Dice-Coef: 0.6774 320/320 20  ...................................]  Step: 201ms | Tot: 5s161ms | Loss: 0.26147, Dice-Coef: 0.7385 27/320 =====>...........................]  Step: 201ms | Tot: 27s501ms | Loss: 0.16624, Dice-Coef: 0.8337 142/320 ]  Step: 200ms | Tot: 49s663ms | Loss: 0.75204, Dice-Coef: 0.2479 256/320 \n",
      "Training epoch error: \n",
      " Acc: 99.4%, Avg loss: 0.386354, Dice: 0.613646 \n",
      "\n",
      "\n",
      "\n",
      "<Validation>\n",
      " [===============================================>..]  Step: 88ms | Tot: 1s703ms | Loss: 0.21856, Dice-Coef: 0.7814 20/20 \n",
      "Validation error: \n",
      " Acc: 98.4%, Avg loss: 0.218562, Dice: 0.781438 \n",
      "\n",
      "Epoch: 14\n",
      " [=================================================>]  Step: 191ms | Tot: 1m2s | Loss: 0.56594, Dice-Coef: 0.4340 320/320 20  .....................................]  Step: 200ms | Tot: 1s750ms | Loss: 0.16695, Dice-Coef: 0.8330 10/320 \n",
      "Training epoch error: \n",
      " Acc: 99.4%, Avg loss: 0.382988, Dice: 0.617012 \n",
      "\n",
      "\n",
      "\n",
      "<Validation>\n",
      " [===============================================>..]  Step: 92ms | Tot: 1s701ms | Loss: 0.37464, Dice-Coef: 0.6253 20/20 \n",
      "Validation error: \n",
      " Acc: 99.3%, Avg loss: 0.374639, Dice: 0.625361 \n",
      "\n",
      "Epoch: 15\n",
      " [=================================================>]  Step: 196ms | Tot: 1m2s | Loss: 0.39407, Dice-Coef: 0.6059 320/320 20  ...............................................]  Step: 200ms | Tot: 1s750ms | Loss: 0.29002, Dice-Coef: 0.7099 10/320 21/320 ========================>...............]  Step: 200ms | Tot: 42s874ms | Loss: 0.52472, Dice-Coef: 0.4752 221/320 =========================================>....]  Step: 200ms | Tot: 56s108ms | Loss: 0.18559, Dice-Coef: 0.8144 289/320 =====================================>]  Step: 200ms | Tot: 1m2s | Loss: 0.27637, Dice-Coef: 0.7236 319/320 \n",
      "Training epoch error: \n",
      " Acc: 99.4%, Avg loss: 0.377306, Dice: 0.622694 \n",
      "\n",
      "\n",
      "\n",
      "<Validation>\n",
      " [===============================================>..]  Step: 89ms | Tot: 1s718ms | Loss: 0.12149, Dice-Coef: 0.8785 20/20 \n",
      "Validation error: \n",
      " Acc: 99.5%, Avg loss: 0.121491, Dice: 0.878509 \n",
      "\n",
      "Epoch: 16\n",
      " [=================================================>]  Step: 193ms | Tot: 1m2s | Loss: 0.70146, Dice-Coef: 0.2985 320/320 20  ......................................]  Step: 201ms | Tot: 3s171ms | Loss: 0.20827, Dice-Coef: 0.7917 17/320 ======>..........................]  Step: 201ms | Tot: 29s642ms | Loss: 0.44946, Dice-Coef: 0.5505 153/320 =================>....................]  Step: 200ms | Tot: 36s869ms | Loss: 0.21762, Dice-Coef: 0.7823 190/320 \n",
      "Training epoch error: \n",
      " Acc: 99.4%, Avg loss: 0.373140, Dice: 0.626860 \n",
      "\n",
      "\n",
      "\n",
      "<Validation>\n",
      " [===============================================>..]  Step: 88ms | Tot: 1s676ms | Loss: 0.21996, Dice-Coef: 0.7800 20/20 \n",
      "Validation error: \n",
      " Acc: 99.3%, Avg loss: 0.219963, Dice: 0.780037 \n",
      "\n",
      "Epoch: 17\n",
      " [=================================================>]  Step: 199ms | Tot: 1m3s | Loss: 0.30989, Dice-Coef: 0.6901 320/320 20  ......................................]  Step: 201ms | Tot: 1s375ms | Loss: 0.24361, Dice-Coef: 0.7563 8/320 ......................................]  Step: 201ms | Tot: 2s160ms | Loss: 0.23944, Dice-Coef: 0.7605 12/320 =>................................................]  Step: 199ms | Tot: 2s360ms | Loss: 0.26832, Dice-Coef: 0.7316 13/320 ==========>..............................]  Step: 200ms | Tot: 24s17ms | Loss: 0.26979, Dice-Coef: 0.7302 124/320 ===================>..............................]  Step: 200ms | Tot: 24s218ms | Loss: 0.52595, Dice-Coef: 0.4740 125/320 ================================>.................]  Step: 200ms | Tot: 41s561ms | Loss: 0.61843, Dice-Coef: 0.3815 212/320 =======================>..............]  Step: 201ms | Tot: 44s726ms | Loss: 0.17769, Dice-Coef: 0.8223 228/320 ==============================>...........]  Step: 200ms | Tot: 48s677ms | Loss: 0.52405, Dice-Coef: 0.4759 248/320 274/320 =====================================>..]  Step: 200ms | Tot: 1m296ms | Loss: 0.16252, Dice-Coef: 0.8374 306/320 \n",
      "Training epoch error: \n",
      " Acc: 99.4%, Avg loss: 0.368729, Dice: 0.631271 \n",
      "\n",
      "\n",
      "\n",
      "<Validation>\n",
      " [===============================================>..]  Step: 88ms | Tot: 1s711ms | Loss: 0.13106, Dice-Coef: 0.8689 20/20 \n",
      "Validation error: \n",
      " Acc: 99.6%, Avg loss: 0.131058, Dice: 0.868942 \n",
      "\n",
      "Epoch: 18\n",
      " [=================================================>]  Step: 191ms | Tot: 1m2s | Loss: 0.75013, Dice-Coef: 0.2498 320/320 20  .]  Step: 200ms | Tot: 6s907ms | Loss: 0.51372, Dice-Coef: 0.4862 36/320 100/320 =====================>.................]  Step: 199ms | Tot: 40s620ms | Loss: 0.20586, Dice-Coef: 0.7941 209/320 =====================>..............]  Step: 201ms | Tot: 44s144ms | Loss: 0.66279, Dice-Coef: 0.3372 227/320 ===============================>..............]  Step: 200ms | Tot: 44s345ms | Loss: 0.44475, Dice-Coef: 0.55 228/320 ===========================================>..]  Step: 201ms | Tot: 59s266ms | Loss: 0.24773, Dice-Coef: 0.7522 305/320 \n",
      "Training epoch error: \n",
      " Acc: 99.4%, Avg loss: 0.355862, Dice: 0.644138 \n",
      "\n",
      "\n",
      "\n",
      "<Validation>\n",
      " [===============================================>..]  Step: 87ms | Tot: 1s700ms | Loss: 0.14356, Dice-Coef: 0.8564 20/20 \n",
      "Validation error: \n",
      " Acc: 99.5%, Avg loss: 0.143565, Dice: 0.856435 \n",
      "\n",
      "Epoch: 19\n",
      " [=================================================>]  Step: 195ms | Tot: 1m1s | Loss: 0.29624, Dice-Coef: 0.7037 320/320 20  /320 ..........]  Step: 200ms | Tot: 6s234ms | Loss: 0.35111, Dice-Coef: 0.6488 33/320 \n",
      "Training epoch error: \n",
      " Acc: 99.5%, Avg loss: 0.346747, Dice: 0.653253 \n",
      "\n",
      "\n",
      "\n",
      "<Validation>\n",
      " [===============================================>..]  Step: 87ms | Tot: 1s694ms | Loss: 0.16267, Dice-Coef: 0.8373 20/20 \n",
      "Validation error: \n",
      " Acc: 99.5%, Avg loss: 0.162666, Dice: 0.837334 \n",
      "\n"
     ]
    },
    {
     "name": "stderr",
     "output_type": "stream",
     "text": [
      "\u001b[32m[I 2022-03-22 20:02:10,758]\u001b[0m Trial 2 finished with value: 0.40245755612850187 and parameters: {'layer_multipler': 31, 'lr': 0.015520849729255876, 'drop_rate': 0.011571629043218743, 'n_layers': 3, 'batch_size': 6, 'optimizer': 'SGD'}. Best is trial 2 with value: 0.40245755612850187.\u001b[0m\n"
     ]
    },
    {
     "name": "stdout",
     "output_type": "stream",
     "text": [
      "Layers: 3, Layer Multiplyer: 30, Batch size: 8, LR: 0.04089638247042096, Optimizer: SGD, dropout: 0.037118264572595615\n",
      "Epoch: 0\n",
      " [=================================================>]  Step: 250ms | Tot: 59s744ms | Loss: 0.76154, Dice-Coef: 0.2384 240/240 \n",
      "Training epoch error: \n",
      " Acc: 92.4%, Avg loss: 0.798472, Dice: 0.201528 \n",
      "\n",
      "\n",
      "\n",
      "<Validation>\n",
      " [==============================================>...]  Step: 110ms | Tot: 1s594ms | Loss: 0.73879, Dice-Coef: 0.2612 15/15 \n",
      "Validation error: \n",
      " Acc: 98.4%, Avg loss: 0.738787, Dice: 0.261213 \n",
      "\n",
      "Epoch: 1\n",
      " [=================================================>]  Step: 245ms | Tot: 59s997ms | Loss: 0.64843, Dice-Coef: 0.3515 240/240 \n",
      "Training epoch error: \n",
      " Acc: 98.0%, Avg loss: 0.680402, Dice: 0.319598 \n",
      "\n",
      "\n",
      "\n",
      "<Validation>\n",
      " [==============================================>...]  Step: 120ms | Tot: 1s649ms | Loss: 0.61153, Dice-Coef: 0.3884 15/15 \n",
      "Validation error: \n",
      " Acc: 98.6%, Avg loss: 0.611526, Dice: 0.388474 \n",
      "\n",
      "Epoch: 2\n",
      " [=================================================>]  Step: 243ms | Tot: 1m351ms | Loss: 0.60213, Dice-Coef: 0.3978 240/240  \n",
      "Training epoch error: \n",
      " Acc: 98.5%, Avg loss: 0.595236, Dice: 0.404764 \n",
      "\n",
      "\n",
      "\n",
      "<Validation>\n",
      " [==============================================>...]  Step: 119ms | Tot: 1s668ms | Loss: 0.56018, Dice-Coef: 0.4398 15/15 \n",
      "Validation error: \n",
      " Acc: 98.3%, Avg loss: 0.560182, Dice: 0.439818 \n",
      "\n",
      "Epoch: 3\n",
      " [=================================================>]  Step: 253ms | Tot: 1m258ms | Loss: 0.57349, Dice-Coef: 0.4265 240/240  \n",
      "Training epoch error: \n",
      " Acc: 98.8%, Avg loss: 0.538128, Dice: 0.461872 \n",
      "\n",
      "\n",
      "\n",
      "<Validation>\n",
      " [==============================================>...]  Step: 122ms | Tot: 1s673ms | Loss: 0.43344, Dice-Coef: 0.5665 15/15 \n",
      "Validation error: \n",
      " Acc: 98.7%, Avg loss: 0.433445, Dice: 0.566555 \n",
      "\n",
      "Epoch: 4\n",
      " [=================================================>]  Step: 251ms | Tot: 1m455ms | Loss: 0.33537, Dice-Coef: 0.6646 240/240  \n",
      "Training epoch error: \n",
      " Acc: 98.9%, Avg loss: 0.511538, Dice: 0.488462 \n",
      "\n",
      "\n",
      "\n",
      "<Validation>\n",
      " [==============================================>...]  Step: 118ms | Tot: 1s663ms | Loss: 0.34129, Dice-Coef: 0.6587 15/15 \n",
      "Validation error: \n",
      " Acc: 99.1%, Avg loss: 0.341288, Dice: 0.658712 \n",
      "\n",
      "Epoch: 5\n",
      " [=================================================>]  Step: 252ms | Tot: 1m340ms | Loss: 0.33015, Dice-Coef: 0.6698 240/240  \n",
      "Training epoch error: \n",
      " Acc: 98.9%, Avg loss: 0.495529, Dice: 0.504471 \n",
      "\n",
      "\n",
      "\n",
      "<Validation>\n",
      " [==============================================>...]  Step: 114ms | Tot: 1s642ms | Loss: 0.25662, Dice-Coef: 0.7433 15/15 \n",
      "Validation error: \n",
      " Acc: 99.0%, Avg loss: 0.256624, Dice: 0.743376 \n",
      "\n",
      "Epoch: 6\n",
      " [=================================================>]  Step: 252ms | Tot: 1m251ms | Loss: 0.35876, Dice-Coef: 0.6412 240/240  \n",
      "Training epoch error: \n",
      " Acc: 99.1%, Avg loss: 0.466870, Dice: 0.533130 \n",
      "\n",
      "\n",
      "\n",
      "<Validation>\n",
      " [==============================================>...]  Step: 118ms | Tot: 1s668ms | Loss: 0.35424, Dice-Coef: 0.6457 15/15 \n",
      "Validation error: \n",
      " Acc: 98.9%, Avg loss: 0.354244, Dice: 0.645756 \n",
      "\n",
      "Epoch: 7\n",
      " [=================================================>]  Step: 255ms | Tot: 1m643ms | Loss: 0.36967, Dice-Coef: 0.6303 240/240  \n",
      "Training epoch error: \n",
      " Acc: 99.1%, Avg loss: 0.429579, Dice: 0.570421 \n",
      "\n",
      "\n",
      "\n",
      "<Validation>\n",
      " [==============================================>...]  Step: 119ms | Tot: 1s649ms | Loss: 0.20081, Dice-Coef: 0.7991 15/15 \n",
      "Validation error: \n",
      " Acc: 99.4%, Avg loss: 0.200806, Dice: 0.799194 \n",
      "\n",
      "Epoch: 8\n",
      " [=================================================>]  Step: 255ms | Tot: 1m478ms | Loss: 0.29597, Dice-Coef: 0.7040 240/240  \n",
      "Training epoch error: \n",
      " Acc: 99.2%, Avg loss: 0.416758, Dice: 0.583242 \n",
      "\n",
      "\n",
      "\n",
      "<Validation>\n",
      " [==============================================>...]  Step: 118ms | Tot: 1s631ms | Loss: 0.19867, Dice-Coef: 0.8013 15/15 \n",
      "Validation error: \n",
      " Acc: 99.4%, Avg loss: 0.198672, Dice: 0.801328 \n",
      "\n",
      "Epoch: 9\n",
      " [=================================================>]  Step: 253ms | Tot: 1m1s | Loss: 0.55365, Dice-Coef: 0.4463 240/240 40  \n",
      "Training epoch error: \n",
      " Acc: 99.3%, Avg loss: 0.400185, Dice: 0.599815 \n",
      "\n",
      "\n",
      "\n",
      "<Validation>\n",
      " [==============================================>...]  Step: 111ms | Tot: 1s657ms | Loss: 0.28679, Dice-Coef: 0.7132 15/15 \n",
      "Validation error: \n",
      " Acc: 99.3%, Avg loss: 0.286791, Dice: 0.713209 \n",
      "\n",
      "Epoch: 10\n",
      " [=================================================>]  Step: 243ms | Tot: 1m740ms | Loss: 0.18903, Dice-Coef: 0.8109 240/240  \n",
      "Training epoch error: \n",
      " Acc: 99.3%, Avg loss: 0.389566, Dice: 0.610434 \n",
      "\n",
      "\n",
      "\n",
      "<Validation>\n",
      " [==============================================>...]  Step: 128ms | Tot: 1s620ms | Loss: 0.24200, Dice-Coef: 0.7580 15/15 \n",
      "Validation error: \n",
      " Acc: 99.4%, Avg loss: 0.241999, Dice: 0.758001 \n",
      "\n",
      "Epoch: 11\n",
      " [=================================================>]  Step: 256ms | Tot: 1m531ms | Loss: 0.57021, Dice-Coef: 0.4297 240/240  \n",
      "Training epoch error: \n",
      " Acc: 99.3%, Avg loss: 0.361886, Dice: 0.638114 \n",
      "\n",
      "\n",
      "\n",
      "<Validation>\n",
      " [==============================================>...]  Step: 118ms | Tot: 1s640ms | Loss: 0.14069, Dice-Coef: 0.8593 15/15 \n",
      "Validation error: \n",
      " Acc: 99.5%, Avg loss: 0.140687, Dice: 0.859313 \n",
      "\n",
      "Epoch: 12\n",
      " [=================================================>]  Step: 253ms | Tot: 1m292ms | Loss: 0.35189, Dice-Coef: 0.6481 240/240  \n",
      "Training epoch error: \n",
      " Acc: 99.3%, Avg loss: 0.367745, Dice: 0.632255 \n",
      "\n",
      "\n",
      "\n",
      "<Validation>\n",
      " [==============================================>...]  Step: 121ms | Tot: 1s664ms | Loss: 0.26622, Dice-Coef: 0.7337 15/15 \n",
      "Validation error: \n",
      " Acc: 99.4%, Avg loss: 0.266221, Dice: 0.733779 \n",
      "\n",
      "Epoch: 13\n",
      " [=================================================>]  Step: 248ms | Tot: 1m359ms | Loss: 0.35792, Dice-Coef: 0.6420 240/240  \n",
      "Training epoch error: \n",
      " Acc: 99.4%, Avg loss: 0.358672, Dice: 0.641328 \n",
      "\n",
      "\n",
      "\n",
      "<Validation>\n",
      " [==============================================>...]  Step: 120ms | Tot: 1s680ms | Loss: 0.21654, Dice-Coef: 0.7834 15/15 \n",
      "Validation error: \n",
      " Acc: 99.5%, Avg loss: 0.216543, Dice: 0.783457 \n",
      "\n",
      "Epoch: 14\n",
      " [=================================================>]  Step: 250ms | Tot: 1m318ms | Loss: 0.47790, Dice-Coef: 0.5221 240/240  \n",
      "Training epoch error: \n",
      " Acc: 99.4%, Avg loss: 0.348291, Dice: 0.651709 \n",
      "\n",
      "\n",
      "\n",
      "<Validation>\n",
      " [==============================================>...]  Step: 122ms | Tot: 1s657ms | Loss: 0.22563, Dice-Coef: 0.7743 15/15 \n",
      "Validation error: \n",
      " Acc: 99.3%, Avg loss: 0.225629, Dice: 0.774371 \n",
      "\n",
      "Epoch: 15\n",
      " [=================================================>]  Step: 248ms | Tot: 1m407ms | Loss: 0.20826, Dice-Coef: 0.7917 240/240  \n",
      "Training epoch error: \n",
      " Acc: 99.4%, Avg loss: 0.338207, Dice: 0.661793 \n",
      "\n",
      "\n",
      "\n",
      "<Validation>\n",
      " [==============================================>...]  Step: 118ms | Tot: 1s671ms | Loss: 0.14889, Dice-Coef: 0.8511 15/15 \n"
     ]
    },
    {
     "name": "stderr",
     "output_type": "stream",
     "text": [
      "\u001b[32m[I 2022-03-22 20:18:49,792]\u001b[0m Trial 3 finished with value: 0.3270519971847534 and parameters: {'layer_multipler': 30, 'lr': 0.04089638247042096, 'drop_rate': 0.037118264572595615, 'n_layers': 3, 'batch_size': 8, 'optimizer': 'SGD'}. Best is trial 3 with value: 0.3270519971847534.\u001b[0m\n"
     ]
    },
    {
     "name": "stdout",
     "output_type": "stream",
     "text": [
      "Validation error: \n",
      " Acc: 99.5%, Avg loss: 0.148885, Dice: 0.851115 \n",
      "\n",
      "Layers: 3, Layer Multiplyer: 24, Batch size: 12, LR: 0.05174324330990907, Optimizer: Adam, dropout: 0.03104663865253043\n",
      "Epoch: 0\n",
      " [=================================================>]  Step: 327ms | Tot: 53s93ms | Loss: 0.66176, Dice-Coef: 0.3382 160/160  \n",
      "Training epoch error: \n",
      " Acc: 98.1%, Avg loss: 0.652182, Dice: 0.347818 \n",
      "\n",
      "\n",
      "\n",
      "<Validation>\n",
      " [=============================================>....]  Step: 159ms | Tot: 1s461ms | Loss: 0.59749, Dice-Coef: 0.4025 10/10 \n",
      "Validation error: \n",
      " Acc: 98.6%, Avg loss: 0.597485, Dice: 0.402515 \n",
      "\n",
      "Epoch: 1\n",
      " [=================================================>]  Step: 336ms | Tot: 53s179ms | Loss: 0.60896, Dice-Coef: 0.3910 160/160 \n",
      "Training epoch error: \n",
      " Acc: 98.7%, Avg loss: 0.626243, Dice: 0.373757 \n",
      "\n",
      "\n",
      "\n",
      "<Validation>\n",
      " [=============================================>....]  Step: 155ms | Tot: 1s472ms | Loss: 0.59751, Dice-Coef: 0.4024 10/10 \n",
      "Validation error: \n",
      " Acc: 98.6%, Avg loss: 0.597509, Dice: 0.402491 \n",
      "\n",
      "Epoch: 2\n",
      " [=================================================>]  Step: 327ms | Tot: 53s437ms | Loss: 0.66229, Dice-Coef: 0.3377 160/160 \n",
      "Training epoch error: \n",
      " Acc: 98.3%, Avg loss: 0.621925, Dice: 0.378075 \n",
      "\n",
      "\n",
      "\n",
      "<Validation>\n",
      " [=============================================>....]  Step: 161ms | Tot: 1s492ms | Loss: 0.74168, Dice-Coef: 0.2583 10/10 \n",
      "Validation error: \n",
      " Acc: 99.1%, Avg loss: 0.741676, Dice: 0.258324 \n",
      "\n",
      "Epoch: 3\n",
      " [=================================================>]  Step: 333ms | Tot: 53s225ms | Loss: 0.55558, Dice-Coef: 0.4444 160/160 \n",
      "Training epoch error: \n",
      " Acc: 98.6%, Avg loss: 0.618729, Dice: 0.381271 \n",
      "\n",
      "\n",
      "\n",
      "<Validation>\n",
      " [=============================================>....]  Step: 171ms | Tot: 1s508ms | Loss: 0.55606, Dice-Coef: 0.4439 10/10 \n",
      "Validation error: \n",
      " Acc: 98.3%, Avg loss: 0.556056, Dice: 0.443944 \n",
      "\n",
      "Epoch: 4\n",
      " [=================================================>]  Step: 326ms | Tot: 53s281ms | Loss: 0.56454, Dice-Coef: 0.4354 160/160 \n",
      "Training epoch error: \n",
      " Acc: 98.3%, Avg loss: 0.610255, Dice: 0.389745 \n",
      "\n",
      "\n",
      "\n",
      "<Validation>\n",
      " [=============================================>....]  Step: 166ms | Tot: 1s504ms | Loss: 0.57052, Dice-Coef: 0.4294 10/10 \n",
      "Validation error: \n",
      " Acc: 98.8%, Avg loss: 0.570523, Dice: 0.429477 \n",
      "\n",
      "Epoch: 5\n",
      " [=================================================>]  Step: 331ms | Tot: 53s337ms | Loss: 0.59525, Dice-Coef: 0.4047 160/160 \n",
      "Training epoch error: \n",
      " Acc: 98.4%, Avg loss: 0.613138, Dice: 0.386862 \n",
      "\n",
      "\n",
      "\n",
      "<Validation>\n",
      " [=============================================>....]  Step: 167ms | Tot: 1s503ms | Loss: 0.59026, Dice-Coef: 0.4097 10/10 \n",
      "Validation error: \n",
      " Acc: 98.9%, Avg loss: 0.590265, Dice: 0.409735 \n",
      "\n",
      "Epoch: 6\n",
      " [=================================================>]  Step: 328ms | Tot: 53s290ms | Loss: 0.69971, Dice-Coef: 0.3002 160/160 \n",
      "Training epoch error: \n",
      " Acc: 98.5%, Avg loss: 0.601331, Dice: 0.398669 \n",
      "\n",
      "\n",
      "\n",
      "<Validation>\n",
      " [=============================================>....]  Step: 173ms | Tot: 1s512ms | Loss: 0.60196, Dice-Coef: 0.3980 10/10 \n",
      "Validation error: \n",
      " Acc: 99.0%, Avg loss: 0.601963, Dice: 0.398037 \n",
      "\n",
      "Epoch: 7\n",
      " [=================================================>]  Step: 348ms | Tot: 53s280ms | Loss: 0.59888, Dice-Coef: 0.4011 160/160 \n",
      "Training epoch error: \n",
      " Acc: 98.6%, Avg loss: 0.566764, Dice: 0.433236 \n",
      "\n",
      "\n",
      "\n",
      "<Validation>\n",
      " [=============================================>....]  Step: 168ms | Tot: 1s511ms | Loss: 0.51510, Dice-Coef: 0.4849 10/10 \n",
      "Validation error: \n",
      " Acc: 99.2%, Avg loss: 0.515097, Dice: 0.484903 \n",
      "\n",
      "Epoch: 8\n",
      " [=================================================>]  Step: 339ms | Tot: 53s314ms | Loss: 0.56510, Dice-Coef: 0.4349 160/160 \n",
      "Training epoch error: \n",
      " Acc: 99.0%, Avg loss: 0.544245, Dice: 0.455755 \n",
      "\n",
      "\n",
      "\n",
      "<Validation>\n",
      " [=============================================>....]  Step: 161ms | Tot: 1s500ms | Loss: 0.43867, Dice-Coef: 0.5613 10/10 \n",
      "Validation error: \n",
      " Acc: 98.5%, Avg loss: 0.438668, Dice: 0.561332 \n",
      "\n",
      "Epoch: 9\n",
      " [=================================================>]  Step: 329ms | Tot: 53s256ms | Loss: 0.58989, Dice-Coef: 0.4101 160/160 \n",
      "Training epoch error: \n",
      " Acc: 99.0%, Avg loss: 0.522315, Dice: 0.477685 \n",
      "\n",
      "\n",
      "\n",
      "<Validation>\n",
      " [=============================================>....]  Step: 171ms | Tot: 1s522ms | Loss: 0.51000, Dice-Coef: 0.4900 10/10 \n",
      "Validation error: \n",
      " Acc: 98.4%, Avg loss: 0.510002, Dice: 0.489998 \n",
      "\n",
      "Epoch: 10\n",
      " [=================================================>]  Step: 332ms | Tot: 53s340ms | Loss: 0.53122, Dice-Coef: 0.4687 160/160 \n",
      "Training epoch error: \n",
      " Acc: 98.9%, Avg loss: 0.521831, Dice: 0.478169 \n",
      "\n",
      "\n",
      "\n",
      "<Validation>\n",
      " [=============================================>....]  Step: 168ms | Tot: 1s515ms | Loss: 0.47288, Dice-Coef: 0.5271 10/10 \n",
      "Validation error: \n",
      " Acc: 98.9%, Avg loss: 0.472879, Dice: 0.527121 \n",
      "\n",
      "Epoch: 11\n",
      " [=================================================>]  Step: 340ms | Tot: 53s218ms | Loss: 0.58357, Dice-Coef: 0.4164 160/160 \n",
      "Training epoch error: \n",
      " Acc: 99.0%, Avg loss: 0.506544, Dice: 0.493456 \n",
      "\n",
      "\n",
      "\n",
      "<Validation>\n",
      " [=============================================>....]  Step: 165ms | Tot: 1s490ms | Loss: 0.62633, Dice-Coef: 0.3736 10/10 \n",
      "Validation error: \n",
      " Acc: 99.2%, Avg loss: 0.626329, Dice: 0.373671 \n",
      "\n",
      "Epoch: 12\n",
      " [=================================================>]  Step: 336ms | Tot: 53s371ms | Loss: 0.56696, Dice-Coef: 0.4330 160/160 \n",
      "Training epoch error: \n",
      " Acc: 99.0%, Avg loss: 0.512823, Dice: 0.487177 \n",
      "\n",
      "\n",
      "\n",
      "<Validation>\n",
      " [=============================================>....]  Step: 170ms | Tot: 1s494ms | Loss: 0.50461, Dice-Coef: 0.4953 10/10 \n"
     ]
    },
    {
     "name": "stderr",
     "output_type": "stream",
     "text": [
      "\u001b[32m[I 2022-03-22 20:30:48,633]\u001b[0m Trial 4 finished with value: 0.5668200492858887 and parameters: {'layer_multipler': 24, 'lr': 0.05174324330990907, 'drop_rate': 0.03104663865253043, 'n_layers': 3, 'batch_size': 12, 'optimizer': 'Adam'}. Best is trial 3 with value: 0.3270519971847534.\u001b[0m\n"
     ]
    },
    {
     "name": "stdout",
     "output_type": "stream",
     "text": [
      "Validation error: \n",
      " Acc: 99.3%, Avg loss: 0.504606, Dice: 0.495394 \n",
      "\n",
      "Layers: 3, Layer Multiplyer: 17, Batch size: 15, LR: 0.04850739203314769, Optimizer: RMSprop, dropout: 0.11755977398092894\n",
      "Epoch: 0\n",
      " [=================================================>]  Step: 343ms | Tot: 46s192ms | Loss: 0.56715, Dice-Coef: 0.4328 128/128 \n",
      "Training epoch error: \n",
      " Acc: 97.4%, Avg loss: 0.668246, Dice: 0.331754 \n",
      "\n",
      "\n",
      "\n",
      "<Validation>\n",
      " [===========================================>......]  Step: 192ms | Tot: 1s364ms | Loss: 0.60082, Dice-Coef: 0.3991 8/8 \n",
      "Validation error: \n",
      " Acc: 98.4%, Avg loss: 0.600818, Dice: 0.399182 \n",
      "\n",
      "Epoch: 1\n",
      " [=================================================>]  Step: 368ms | Tot: 45s905ms | Loss: 0.71035, Dice-Coef: 0.2896 128/128 \n",
      "Training epoch error: \n",
      " Acc: 98.2%, Avg loss: 0.611703, Dice: 0.388297 \n",
      "\n",
      "\n",
      "\n",
      "<Validation>\n",
      " [===========================================>......]  Step: 196ms | Tot: 1s378ms | Loss: 0.56217, Dice-Coef: 0.4378 8/8 \n",
      "Validation error: \n",
      " Acc: 98.1%, Avg loss: 0.562173, Dice: 0.437827 \n",
      "\n",
      "Epoch: 2\n",
      " [=================================================>]  Step: 352ms | Tot: 45s858ms | Loss: 0.53479, Dice-Coef: 0.4652 128/128 \n",
      "Training epoch error: \n",
      " Acc: 98.5%, Avg loss: 0.568316, Dice: 0.431684 \n",
      "\n",
      "\n",
      "\n",
      "<Validation>\n",
      " [===========================================>......]  Step: 189ms | Tot: 1s362ms | Loss: 0.66664, Dice-Coef: 0.3333 8/8 ========================>............]  Step: 201ms | Tot: 1s172ms | Loss: 0.46554, Dice-Coef: 0.5344 7/8 \n",
      "Validation error: \n",
      " Acc: 98.5%, Avg loss: 0.666639, Dice: 0.333361 \n",
      "\n",
      "Epoch: 3\n",
      " [=================================================>]  Step: 368ms | Tot: 45s801ms | Loss: 0.51380, Dice-Coef: 0.4862 128/128 \n",
      "Training epoch error: \n",
      " Acc: 98.6%, Avg loss: 0.549768, Dice: 0.450232 \n",
      "\n",
      "\n",
      "\n",
      "<Validation>\n",
      " [===========================================>......]  Step: 193ms | Tot: 1s334ms | Loss: 0.67916, Dice-Coef: 0.3208 8/8 \n",
      "Validation error: \n",
      " Acc: 97.6%, Avg loss: 0.679162, Dice: 0.320838 \n",
      "\n",
      "Epoch: 4\n",
      " [=================================================>]  Step: 359ms | Tot: 45s935ms | Loss: 0.44972, Dice-Coef: 0.5502 128/128 \n",
      "Training epoch error: \n",
      " Acc: 98.7%, Avg loss: 0.531803, Dice: 0.468197 \n",
      "\n",
      "\n",
      "\n",
      "<Validation>\n",
      " [===========================================>......]  Step: 194ms | Tot: 1s356ms | Loss: 0.54678, Dice-Coef: 0.4532 8/8 \n",
      "Validation error: \n",
      " Acc: 98.6%, Avg loss: 0.546781, Dice: 0.453219 \n",
      "\n",
      "Epoch: 5\n",
      " [=================================================>]  Step: 357ms | Tot: 45s806ms | Loss: 0.63005, Dice-Coef: 0.3699 128/128 \n",
      "Training epoch error: \n",
      " Acc: 98.7%, Avg loss: 0.540974, Dice: 0.459026 \n",
      "\n",
      "\n",
      "\n",
      "<Validation>\n",
      " [===========================================>......]  Step: 201ms | Tot: 1s358ms | Loss: 0.58506, Dice-Coef: 0.4149 8/8 \n",
      "Validation error: \n",
      " Acc: 99.0%, Avg loss: 0.585057, Dice: 0.414943 \n",
      "\n",
      "Epoch: 6\n",
      " [=================================================>]  Step: 367ms | Tot: 45s805ms | Loss: 0.50522, Dice-Coef: 0.4947 128/128 \n",
      "Training epoch error: \n",
      " Acc: 98.7%, Avg loss: 0.539659, Dice: 0.460341 \n",
      "\n",
      "\n",
      "\n",
      "<Validation>\n",
      " [===========================================>......]  Step: 187ms | Tot: 1s335ms | Loss: 0.50878, Dice-Coef: 0.4912 8/8 \n",
      "Validation error: \n",
      " Acc: 98.7%, Avg loss: 0.508775, Dice: 0.491225 \n",
      "\n",
      "Epoch: 7\n",
      " [=================================================>]  Step: 354ms | Tot: 45s783ms | Loss: 0.45625, Dice-Coef: 0.5437 128/128 \n",
      "Training epoch error: \n",
      " Acc: 98.7%, Avg loss: 0.527095, Dice: 0.472905 \n",
      "\n",
      "\n",
      "\n",
      "<Validation>\n",
      " [===========================================>......]  Step: 201ms | Tot: 1s370ms | Loss: 0.53663, Dice-Coef: 0.4633 8/8 \n"
     ]
    },
    {
     "name": "stderr",
     "output_type": "stream",
     "text": [
      "\u001b[32m[I 2022-03-22 20:37:11,165]\u001b[0m Trial 5 pruned. \u001b[0m\n"
     ]
    },
    {
     "name": "stdout",
     "output_type": "stream",
     "text": [
      "Validation error: \n",
      " Acc: 99.0%, Avg loss: 0.536626, Dice: 0.463374 \n",
      "\n",
      "Layers: 4, Layer Multiplyer: 16, Batch size: 4, LR: 0.017920605619154078, Optimizer: SGD, dropout: 0.055807429787728666\n",
      "Epoch: 0\n",
      " [=================================================>]  Step: 98ms | Tot: 48s860ms | Loss: 0.77178, Dice-Coef: 0.2282 480/480  ...................................]  Step: 100ms | Tot: 4s403ms | Loss: 0.86764, Dice-Coef: 0.1323 44/480 .....................................]  Step: 99ms | Tot: 8s200ms | Loss: 0.85125, Dice-Coef: 0.1487 82/480 =====>....................................]  Step: 100ms | Tot: 12s803ms | Loss: 0.83762, Dice-Coef: 0.1623 128/480 ====>.................................]  Step: 99ms | Tot: 15s825ms | Loss: 0.84642, Dice-Coef: 0.1535 158/480 =>................................]  Step: 99ms | Tot: 16s932ms | Loss: 0.83558, Dice-Coef: 0.1644 169/480 ========>.............................]  Step: 104ms | Tot: 19s465ms | Loss: 0.83744, Dice-Coef: 0.1625 194/480 =====================>............................]  Step: 99ms | Tot: 21s93ms | Loss: 0.83176, Dice-Coef: 0.1682 210/480 =========================>........................]  Step: 101ms | Tot: 25s17ms | Loss: 0.82940, Dice-Coef: 0.1706 249/480 ==========================>...........]  Step: 101ms | Tot: 37s186ms | Loss: 0.80256, Dice-Coef: 0.1974 366/480 ============================>...........]  Step: 101ms | Tot: 37s387ms | Loss: 0.79237, Dice-Coef: 0.2076 368/480 ===========================>...........]  Step: 99ms | Tot: 37s988ms | Loss: 0.77523, Dice-Coef: 0.2247 374/480 ===============================>........]  Step: 100ms | Tot: 40s223ms | Loss: 0.80191, Dice-Coef: 0.1980 396/480 ======================>........]  Step: 104ms | Tot: 40s826ms | Loss: 0.78974, Dice-Coef: 0.2102 402/480 ========================================>.......]  Step: 100ms | Tot: 41s535ms | Loss: 0.79176, Dice-Coef: 0.2082 409/480 ===========================================>......]  Step: 100ms | Tot: 42s750ms | Loss: 0.77699, Dice-Coef: 0.2230 421/480 ====================================>.]  Step: 99ms | Tot: 47s444ms | Loss: 0.74145, Dice-Coef: 0.2585 466/480 ==========>.]  Step: 100ms | Tot: 47s747ms | Loss: 0.76912, Dice-Coef: 0.2308 469/480 \n",
      "Training epoch error: \n",
      " Acc: 96.0%, Avg loss: 0.822919, Dice: 0.177081 \n",
      "\n",
      "\n",
      "\n",
      "<Validation>\n",
      " [================================================>.]  Step: 54ms | Tot: 1s581ms | Loss: 0.77901, Dice-Coef: 0.2209 30/30 \n"
     ]
    },
    {
     "name": "stderr",
     "output_type": "stream",
     "text": [
      "\u001b[32m[I 2022-03-22 20:38:01,919]\u001b[0m Trial 6 pruned. \u001b[0m\n"
     ]
    },
    {
     "name": "stdout",
     "output_type": "stream",
     "text": [
      "Validation error: \n",
      " Acc: 97.0%, Avg loss: 0.779011, Dice: 0.220989 \n",
      "\n",
      "Layers: 3, Layer Multiplyer: 35, Batch size: 4, LR: 4.299842856417831e-05, Optimizer: RMSprop, dropout: 0.03317679674658865\n",
      "Epoch: 0\n",
      " [=================================================>]  Step: 169ms | Tot: 1m18s | Loss: 0.83122, Dice-Coef: 0.1687 480/480 0  \n",
      "Training epoch error: \n",
      " Acc: 89.1%, Avg loss: 0.828670, Dice: 0.171330 \n",
      "\n",
      "\n",
      "\n",
      "<Validation>\n",
      " [================================================>.]  Step: 75ms | Tot: 2s69ms | Loss: 0.80930, Dice-Coef: 0.1907 30/30  \n"
     ]
    },
    {
     "name": "stderr",
     "output_type": "stream",
     "text": [
      "\u001b[32m[I 2022-03-22 20:39:22,776]\u001b[0m Trial 7 pruned. \u001b[0m\n"
     ]
    },
    {
     "name": "stdout",
     "output_type": "stream",
     "text": [
      "Validation error: \n",
      " Acc: 93.6%, Avg loss: 0.809302, Dice: 0.190698 \n",
      "\n",
      "Layers: 4, Layer Multiplyer: 16, Batch size: 10, LR: 0.07965386714649979, Optimizer: Adam, dropout: 0.05627529868075815\n",
      "Epoch: 0\n",
      " [=================================================>]  Step: 248ms | Tot: 46s487ms | Loss: 0.59326, Dice-Coef: 0.4067 192/192 \n",
      "Training epoch error: \n",
      " Acc: 97.9%, Avg loss: 0.644797, Dice: 0.355203 \n",
      "\n",
      "\n",
      "\n",
      "<Validation>\n",
      " [=============================================>....]  Step: 126ms | Tot: 1s399ms | Loss: 0.60826, Dice-Coef: 0.3917 12/12 \n",
      "Validation error: \n",
      " Acc: 97.8%, Avg loss: 0.608264, Dice: 0.391736 \n",
      "\n",
      "Epoch: 1\n",
      " [=================================================>]  Step: 249ms | Tot: 47s529ms | Loss: 0.63153, Dice-Coef: 0.3684 192/192 \n",
      "Training epoch error: \n",
      " Acc: 98.4%, Avg loss: 0.614926, Dice: 0.385074 \n",
      "\n",
      "\n",
      "\n",
      "<Validation>\n",
      " [=============================================>....]  Step: 137ms | Tot: 1s476ms | Loss: 0.58351, Dice-Coef: 0.4164 12/12 \n",
      "Validation error: \n",
      " Acc: 99.1%, Avg loss: 0.583505, Dice: 0.416495 \n",
      "\n",
      "Epoch: 2\n",
      " [=================================================>]  Step: 241ms | Tot: 47s335ms | Loss: 0.55871, Dice-Coef: 0.4412 192/192 \n",
      "Training epoch error: \n",
      " Acc: 98.2%, Avg loss: 0.606516, Dice: 0.393484 \n",
      "\n",
      "\n",
      "\n",
      "<Validation>\n",
      " [=============================================>....]  Step: 133ms | Tot: 1s475ms | Loss: 0.50081, Dice-Coef: 0.4991 12/12 \n",
      "Validation error: \n",
      " Acc: 98.4%, Avg loss: 0.500812, Dice: 0.499188 \n",
      "\n",
      "Epoch: 3\n",
      " [=================================================>]  Step: 249ms | Tot: 47s420ms | Loss: 0.55571, Dice-Coef: 0.4442 192/192 \n",
      "Training epoch error: \n",
      " Acc: 98.3%, Avg loss: 0.591602, Dice: 0.408398 \n",
      "\n",
      "\n",
      "\n",
      "<Validation>\n",
      " [=============================================>....]  Step: 130ms | Tot: 1s460ms | Loss: 0.55228, Dice-Coef: 0.4477 12/12 \n",
      "Validation error: \n",
      " Acc: 99.0%, Avg loss: 0.552280, Dice: 0.447720 \n",
      "\n",
      "Epoch: 4\n",
      " [=================================================>]  Step: 256ms | Tot: 47s536ms | Loss: 0.52569, Dice-Coef: 0.4743 192/192 \n",
      "Training epoch error: \n",
      " Acc: 98.3%, Avg loss: 0.605667, Dice: 0.394333 \n",
      "\n",
      "\n",
      "\n",
      "<Validation>\n",
      " [=============================================>....]  Step: 125ms | Tot: 1s457ms | Loss: 0.50537, Dice-Coef: 0.4946 12/12 \n",
      "Validation error: \n",
      " Acc: 98.9%, Avg loss: 0.505373, Dice: 0.494627 \n",
      "\n",
      "Epoch: 5\n",
      " [=================================================>]  Step: 250ms | Tot: 47s628ms | Loss: 0.47652, Dice-Coef: 0.5234 192/192 \n",
      "Training epoch error: \n",
      " Acc: 98.5%, Avg loss: 0.579004, Dice: 0.420996 \n",
      "\n",
      "\n",
      "\n",
      "<Validation>\n",
      " [=============================================>....]  Step: 132ms | Tot: 1s435ms | Loss: 0.46921, Dice-Coef: 0.5307 12/12 \n",
      "Validation error: \n",
      " Acc: 98.9%, Avg loss: 0.469206, Dice: 0.530794 \n",
      "\n",
      "Epoch: 6\n",
      " [=================================================>]  Step: 242ms | Tot: 47s426ms | Loss: 0.60264, Dice-Coef: 0.3973 192/192 \n",
      "Training epoch error: \n",
      " Acc: 98.5%, Avg loss: 0.584198, Dice: 0.415802 \n",
      "\n",
      "\n",
      "\n",
      "<Validation>\n",
      " [=============================================>....]  Step: 127ms | Tot: 1s435ms | Loss: 0.51755, Dice-Coef: 0.4824 12/12 \n",
      "Validation error: \n",
      " Acc: 98.9%, Avg loss: 0.517551, Dice: 0.482449 \n",
      "\n",
      "Epoch: 7\n",
      " [=================================================>]  Step: 246ms | Tot: 47s500ms | Loss: 0.57496, Dice-Coef: 0.4250 192/192 \n",
      "Training epoch error: \n",
      " Acc: 98.5%, Avg loss: 0.580979, Dice: 0.419021 \n",
      "\n",
      "\n",
      "\n",
      "<Validation>\n",
      " [=============================================>....]  Step: 137ms | Tot: 1s470ms | Loss: 0.45952, Dice-Coef: 0.5404 12/12 \n",
      "Validation error: \n",
      " Acc: 98.6%, Avg loss: 0.459521, Dice: 0.540479 \n",
      "\n",
      "Epoch: 8\n",
      " [=================================================>]  Step: 243ms | Tot: 47s569ms | Loss: 0.55976, Dice-Coef: 0.4402 192/192 \n",
      "Training epoch error: \n",
      " Acc: 98.4%, Avg loss: 0.580622, Dice: 0.419378 \n",
      "\n",
      "\n",
      "\n",
      "<Validation>\n",
      " [=============================================>....]  Step: 138ms | Tot: 1s442ms | Loss: 0.45827, Dice-Coef: 0.5417 12/12 \n",
      "Validation error: \n",
      " Acc: 98.8%, Avg loss: 0.458272, Dice: 0.541728 \n",
      "\n",
      "Epoch: 9\n",
      " [=================================================>]  Step: 248ms | Tot: 47s409ms | Loss: 0.60502, Dice-Coef: 0.3949 192/192 \n",
      "Training epoch error: \n",
      " Acc: 98.5%, Avg loss: 0.572954, Dice: 0.427046 \n",
      "\n",
      "\n",
      "\n",
      "<Validation>\n",
      " [=============================================>....]  Step: 133ms | Tot: 1s464ms | Loss: 0.54178, Dice-Coef: 0.4582 12/12 \n",
      "Validation error: \n",
      " Acc: 99.1%, Avg loss: 0.541782, Dice: 0.458218 \n",
      "\n",
      "Epoch: 10\n",
      " [=================================================>]  Step: 245ms | Tot: 47s416ms | Loss: 0.58451, Dice-Coef: 0.4154 192/192 \n",
      "Training epoch error: \n",
      " Acc: 98.6%, Avg loss: 0.567089, Dice: 0.432911 \n",
      "\n",
      "\n",
      "\n",
      "<Validation>\n",
      " [=============================================>....]  Step: 130ms | Tot: 1s450ms | Loss: 0.58395, Dice-Coef: 0.4160 12/12 \n",
      "Validation error: \n",
      " Acc: 99.0%, Avg loss: 0.583950, Dice: 0.416050 \n",
      "\n",
      "Epoch: 11\n",
      " [=================================================>]  Step: 246ms | Tot: 47s623ms | Loss: 0.56046, Dice-Coef: 0.4395 192/192 \n",
      "Training epoch error: \n",
      " Acc: 98.4%, Avg loss: 0.569471, Dice: 0.430529 \n",
      "\n",
      "\n",
      "\n",
      "<Validation>\n",
      " [=============================================>....]  Step: 133ms | Tot: 1s471ms | Loss: 0.57146, Dice-Coef: 0.4285 12/12 \n"
     ]
    },
    {
     "name": "stderr",
     "output_type": "stream",
     "text": [
      "\u001b[32m[I 2022-03-22 20:49:13,897]\u001b[0m Trial 8 pruned. \u001b[0m\n"
     ]
    },
    {
     "name": "stdout",
     "output_type": "stream",
     "text": [
      "Validation error: \n",
      " Acc: 99.1%, Avg loss: 0.571457, Dice: 0.428543 \n",
      "\n",
      "Layers: 4, Layer Multiplyer: 19, Batch size: 10, LR: 0.000650709351783496, Optimizer: Adam, dropout: 0.019482930235628016\n",
      "Epoch: 0\n",
      " [=================================================>]  Step: 265ms | Tot: 52s387ms | Loss: 0.69437, Dice-Coef: 0.3056 192/192 \n",
      "Training epoch error: \n",
      " Acc: 92.7%, Avg loss: 0.774883, Dice: 0.225117 \n",
      "\n",
      "\n",
      "\n",
      "<Validation>\n",
      " [=============================================>....]  Step: 141ms | Tot: 1s487ms | Loss: 0.73971, Dice-Coef: 0.2602 12/12 \n",
      "Validation error: \n",
      " Acc: 96.8%, Avg loss: 0.739711, Dice: 0.260289 \n",
      "\n",
      "Epoch: 1\n",
      " [=================================================>]  Step: 278ms | Tot: 53s161ms | Loss: 0.59809, Dice-Coef: 0.4019 192/192 \n",
      "Training epoch error: \n",
      " Acc: 98.8%, Avg loss: 0.596308, Dice: 0.403692 \n",
      "\n",
      "\n",
      "\n",
      "<Validation>\n",
      " [=============================================>....]  Step: 131ms | Tot: 1s489ms | Loss: 0.47877, Dice-Coef: 0.5212 12/12 \n",
      "Validation error: \n",
      " Acc: 99.3%, Avg loss: 0.478771, Dice: 0.521229 \n",
      "\n",
      "Epoch: 2\n",
      " [=================================================>]  Step: 291ms | Tot: 53s479ms | Loss: 0.41354, Dice-Coef: 0.5864 192/192 \n",
      "Training epoch error: \n",
      " Acc: 99.1%, Avg loss: 0.491516, Dice: 0.508484 \n",
      "\n",
      "\n",
      "\n",
      "<Validation>\n",
      " [=============================================>....]  Step: 146ms | Tot: 1s548ms | Loss: 0.41221, Dice-Coef: 0.5877 12/12 \n",
      "Validation error: \n",
      " Acc: 99.1%, Avg loss: 0.412214, Dice: 0.587786 \n",
      "\n",
      "Epoch: 3\n",
      " [=================================================>]  Step: 283ms | Tot: 53s521ms | Loss: 0.48117, Dice-Coef: 0.5188 192/192 \n",
      "Training epoch error: \n",
      " Acc: 99.2%, Avg loss: 0.440422, Dice: 0.559578 \n",
      "\n",
      "\n",
      "\n",
      "<Validation>\n",
      " [=============================================>....]  Step: 139ms | Tot: 1s547ms | Loss: 0.27158, Dice-Coef: 0.7284 12/12 \n",
      "Validation error: \n",
      " Acc: 99.4%, Avg loss: 0.271583, Dice: 0.728417 \n",
      "\n",
      "Epoch: 4\n",
      " [=================================================>]  Step: 275ms | Tot: 53s452ms | Loss: 0.36783, Dice-Coef: 0.6321 192/192 \n",
      "Training epoch error: \n",
      " Acc: 99.3%, Avg loss: 0.410528, Dice: 0.589472 \n",
      "\n",
      "\n",
      "\n",
      "<Validation>\n",
      " [=============================================>....]  Step: 138ms | Tot: 1s544ms | Loss: 0.25926, Dice-Coef: 0.7407 12/12 \n",
      "Validation error: \n",
      " Acc: 99.4%, Avg loss: 0.259261, Dice: 0.740739 \n",
      "\n",
      "Epoch: 5\n",
      " [=================================================>]  Step: 268ms | Tot: 53s575ms | Loss: 0.55619, Dice-Coef: 0.4438 192/192 \n",
      "Training epoch error: \n",
      " Acc: 99.3%, Avg loss: 0.398658, Dice: 0.601342 \n",
      "\n",
      "\n",
      "\n",
      "<Validation>\n",
      " [=============================================>....]  Step: 147ms | Tot: 1s547ms | Loss: 0.20139, Dice-Coef: 0.7986 12/12 \n",
      "Validation error: \n",
      " Acc: 99.4%, Avg loss: 0.201389, Dice: 0.798611 \n",
      "\n",
      "Epoch: 6\n",
      " [=================================================>]  Step: 272ms | Tot: 53s509ms | Loss: 0.39979, Dice-Coef: 0.6002 192/192 \n",
      "Training epoch error: \n",
      " Acc: 99.3%, Avg loss: 0.382949, Dice: 0.617051 \n",
      "\n",
      "\n",
      "\n",
      "<Validation>\n",
      " [=============================================>....]  Step: 145ms | Tot: 1s534ms | Loss: 0.20597, Dice-Coef: 0.7940 12/12 \n",
      "Validation error: \n",
      " Acc: 99.4%, Avg loss: 0.205971, Dice: 0.794029 \n",
      "\n",
      "Epoch: 7\n",
      " [=================================================>]  Step: 281ms | Tot: 53s423ms | Loss: 0.44485, Dice-Coef: 0.5551 192/192 \n",
      "Training epoch error: \n",
      " Acc: 99.3%, Avg loss: 0.378599, Dice: 0.621401 \n",
      "\n",
      "\n",
      "\n",
      "<Validation>\n",
      " [=============================================>....]  Step: 149ms | Tot: 1s551ms | Loss: 0.28708, Dice-Coef: 0.7129 12/12 \n",
      "Validation error: \n",
      " Acc: 99.4%, Avg loss: 0.287082, Dice: 0.712918 \n",
      "\n",
      "Epoch: 8\n",
      " [=================================================>]  Step: 277ms | Tot: 53s541ms | Loss: 0.34787, Dice-Coef: 0.6521 192/192 \n",
      "Training epoch error: \n",
      " Acc: 99.3%, Avg loss: 0.364766, Dice: 0.635234 \n",
      "\n",
      "\n",
      "\n",
      "<Validation>\n",
      " [=============================================>....]  Step: 137ms | Tot: 1s529ms | Loss: 0.22431, Dice-Coef: 0.7756 12/12 \n"
     ]
    },
    {
     "name": "stderr",
     "output_type": "stream",
     "text": [
      "\u001b[32m[I 2022-03-22 20:57:31,711]\u001b[0m Trial 9 finished with value: 0.3793478359778722 and parameters: {'layer_multipler': 19, 'lr': 0.000650709351783496, 'drop_rate': 0.019482930235628016, 'n_layers': 4, 'batch_size': 10, 'optimizer': 'Adam'}. Best is trial 3 with value: 0.3270519971847534.\u001b[0m\n"
     ]
    },
    {
     "name": "stdout",
     "output_type": "stream",
     "text": [
      "Validation error: \n",
      " Acc: 99.4%, Avg loss: 0.224313, Dice: 0.775687 \n",
      "\n",
      "Layers: 4, Layer Multiplyer: 29, Batch size: 20, LR: 0.0017840684190521148, Optimizer: SGD, dropout: 0.21125324703284687\n",
      "Epoch: 0\n",
      " [=================================================>]  Step: 636ms | Tot: 1m1s | Loss: 0.89486, Dice-Coef: 0.1051 96/96 96  \n",
      "Training epoch error: \n",
      " Acc: 15.6%, Avg loss: 0.897588, Dice: 0.102412 \n",
      "\n",
      "\n",
      "\n",
      "<Validation>\n",
      " [=========================================>........]  Step: 285ms | Tot: 1s449ms | Loss: 0.89437, Dice-Coef: 0.1056 6/6 \n"
     ]
    },
    {
     "name": "stderr",
     "output_type": "stream",
     "text": [
      "\u001b[32m[I 2022-03-22 20:58:35,237]\u001b[0m Trial 10 pruned. \u001b[0m\n"
     ]
    },
    {
     "name": "stdout",
     "output_type": "stream",
     "text": [
      "Validation error: \n",
      " Acc: 13.8%, Avg loss: 0.894374, Dice: 0.105626 \n",
      "\n",
      "Layers: 4, Layer Multiplyer: 25, Batch size: 9, LR: 0.0005044253600854292, Optimizer: Adam, dropout: 0.014738275564622724\n",
      "Epoch: 0\n",
      " [=================================================>]  Step: 279ms | Tot: 1m572ms | Loss: 0.72298, Dice-Coef: 0.2770 213/213  \n",
      "Training epoch error: \n",
      " Acc: 96.8%, Avg loss: 0.761312, Dice: 0.238688 \n",
      "\n",
      "\n",
      "\n",
      "<Validation>\n",
      " [==============================================>...]  Step: 127ms | Tot: 1s527ms | Loss: 0.73710, Dice-Coef: 0.2629 13/13 \n",
      "Validation error: \n",
      " Acc: 99.0%, Avg loss: 0.737099, Dice: 0.262901 \n",
      "\n",
      "Epoch: 1\n",
      " [=================================================>]  Step: 289ms | Tot: 1m1s | Loss: 0.65627, Dice-Coef: 0.3437 213/213 13  \n",
      "Training epoch error: \n",
      " Acc: 98.7%, Avg loss: 0.597289, Dice: 0.402711 \n",
      "\n",
      "\n",
      "\n",
      "<Validation>\n",
      " [==============================================>...]  Step: 134ms | Tot: 1s574ms | Loss: 0.62060, Dice-Coef: 0.3794 13/13 \n",
      "Validation error: \n",
      " Acc: 99.2%, Avg loss: 0.620603, Dice: 0.379397 \n",
      "\n",
      "Epoch: 2\n",
      " [=================================================>]  Step: 300ms | Tot: 1m1s | Loss: 0.34520, Dice-Coef: 0.6548 213/213 13  \n",
      "Training epoch error: \n",
      " Acc: 99.1%, Avg loss: 0.482320, Dice: 0.517680 \n",
      "\n",
      "\n",
      "\n",
      "<Validation>\n",
      " [==============================================>...]  Step: 127ms | Tot: 1s579ms | Loss: 0.29346, Dice-Coef: 0.7065 13/13 \n",
      "Validation error: \n",
      " Acc: 99.1%, Avg loss: 0.293463, Dice: 0.706537 \n",
      "\n",
      "Epoch: 3\n",
      " [=================================================>]  Step: 294ms | Tot: 1m1s | Loss: 0.60790, Dice-Coef: 0.3921 213/213 13  \n",
      "Training epoch error: \n",
      " Acc: 99.2%, Avg loss: 0.427573, Dice: 0.572427 \n",
      "\n",
      "\n",
      "\n",
      "<Validation>\n",
      " [==============================================>...]  Step: 135ms | Tot: 1s590ms | Loss: 0.27429, Dice-Coef: 0.7257 13/13 \n",
      "Validation error: \n",
      " Acc: 99.1%, Avg loss: 0.274287, Dice: 0.725713 \n",
      "\n",
      "Epoch: 4\n",
      " [=================================================>]  Step: 292ms | Tot: 1m1s | Loss: 0.57365, Dice-Coef: 0.4263 213/213 13  \n",
      "Training epoch error: \n",
      " Acc: 99.3%, Avg loss: 0.406162, Dice: 0.593838 \n",
      "\n",
      "\n",
      "\n",
      "<Validation>\n",
      " [==============================================>...]  Step: 131ms | Tot: 1s620ms | Loss: 0.33477, Dice-Coef: 0.6652 13/13 \n",
      "Validation error: \n",
      " Acc: 99.3%, Avg loss: 0.334774, Dice: 0.665226 \n",
      "\n",
      "Epoch: 5\n",
      " [=================================================>]  Step: 290ms | Tot: 1m1s | Loss: 0.31134, Dice-Coef: 0.6886 213/213 13  \n",
      "Training epoch error: \n",
      " Acc: 99.3%, Avg loss: 0.396220, Dice: 0.603780 \n",
      "\n",
      "\n",
      "\n",
      "<Validation>\n",
      " [==============================================>...]  Step: 135ms | Tot: 1s600ms | Loss: 0.25808, Dice-Coef: 0.7419 13/13 \n",
      "Validation error: \n",
      " Acc: 99.5%, Avg loss: 0.258080, Dice: 0.741920 \n",
      "\n",
      "Epoch: 6\n",
      " [=================================================>]  Step: 293ms | Tot: 1m1s | Loss: 0.27130, Dice-Coef: 0.7287 213/213 13  \n",
      "Training epoch error: \n",
      " Acc: 99.3%, Avg loss: 0.378230, Dice: 0.621770 \n",
      "\n",
      "\n",
      "\n",
      "<Validation>\n",
      " [==============================================>...]  Step: 135ms | Tot: 1s590ms | Loss: 0.17874, Dice-Coef: 0.8212 13/13 \n",
      "Validation error: \n",
      " Acc: 99.4%, Avg loss: 0.178738, Dice: 0.821262 \n",
      "\n",
      "Epoch: 7\n",
      " [=================================================>]  Step: 289ms | Tot: 1m1s | Loss: 0.37434, Dice-Coef: 0.6256 213/213 13  \n",
      "Training epoch error: \n",
      " Acc: 99.4%, Avg loss: 0.368503, Dice: 0.631497 \n",
      "\n",
      "\n",
      "\n",
      "<Validation>\n",
      " [==============================================>...]  Step: 136ms | Tot: 1s607ms | Loss: 0.24548, Dice-Coef: 0.7545 13/13 \n",
      "Validation error: \n",
      " Acc: 99.4%, Avg loss: 0.245477, Dice: 0.754523 \n",
      "\n",
      "Epoch: 8\n",
      " [=================================================>]  Step: 293ms | Tot: 1m1s | Loss: 0.29134, Dice-Coef: 0.7086 213/213 13  \n",
      "Training epoch error: \n",
      " Acc: 99.4%, Avg loss: 0.359560, Dice: 0.640440 \n",
      "\n",
      "\n",
      "\n",
      "<Validation>\n",
      " [==============================================>...]  Step: 129ms | Tot: 1s598ms | Loss: 0.16704, Dice-Coef: 0.8329 13/13 \n",
      "Validation error: \n",
      " Acc: 99.4%, Avg loss: 0.167042, Dice: 0.832958 \n",
      "\n",
      "Epoch: 9\n",
      " [=================================================>]  Step: 292ms | Tot: 1m1s | Loss: 0.40252, Dice-Coef: 0.5974 213/213 13  \n",
      "Training epoch error: \n",
      " Acc: 99.4%, Avg loss: 0.336397, Dice: 0.663603 \n",
      "\n",
      "\n",
      "\n",
      "<Validation>\n",
      " [==============================================>...]  Step: 137ms | Tot: 1s631ms | Loss: 0.17861, Dice-Coef: 0.8213 13/13 \n",
      "Validation error: \n",
      " Acc: 99.6%, Avg loss: 0.178613, Dice: 0.821387 \n",
      "\n",
      "Epoch: 10\n",
      " [=================================================>]  Step: 294ms | Tot: 1m1s | Loss: 0.20555, Dice-Coef: 0.7944 213/213 13  \n",
      "Training epoch error: \n",
      " Acc: 99.4%, Avg loss: 0.341914, Dice: 0.658086 \n",
      "\n",
      "\n",
      "\n",
      "<Validation>\n",
      " [==============================================>...]  Step: 133ms | Tot: 1s561ms | Loss: 0.20084, Dice-Coef: 0.7991 13/13 \n",
      "Validation error: \n",
      " Acc: 99.4%, Avg loss: 0.200841, Dice: 0.799159 \n",
      "\n",
      "Epoch: 11\n",
      " [=================================================>]  Step: 285ms | Tot: 1m1s | Loss: 0.40490, Dice-Coef: 0.5951 213/213 13  \n",
      "Training epoch error: \n",
      " Acc: 99.4%, Avg loss: 0.327527, Dice: 0.672473 \n",
      "\n",
      "\n",
      "\n",
      "<Validation>\n",
      " [==============================================>...]  Step: 133ms | Tot: 1s566ms | Loss: 0.17712, Dice-Coef: 0.8228 13/13 \n",
      "Validation error: \n",
      " Acc: 99.6%, Avg loss: 0.177121, Dice: 0.822879 \n",
      "\n",
      "Epoch: 12\n",
      " [=================================================>]  Step: 298ms | Tot: 1m1s | Loss: 0.34640, Dice-Coef: 0.6536 213/213 13  \n",
      "Training epoch error: \n",
      " Acc: 99.4%, Avg loss: 0.325847, Dice: 0.674153 \n",
      "\n",
      "\n",
      "\n",
      "<Validation>\n",
      " [==============================================>...]  Step: 136ms | Tot: 1s596ms | Loss: 0.16756, Dice-Coef: 0.8324 13/13 \n",
      "Validation error: \n",
      " Acc: 99.6%, Avg loss: 0.167559, Dice: 0.832441 \n",
      "\n",
      "Epoch: 13\n",
      " [=================================================>]  Step: 289ms | Tot: 1m1s | Loss: 0.67955, Dice-Coef: 0.3204 213/213 13  \n",
      "Training epoch error: \n",
      " Acc: 99.4%, Avg loss: 0.333892, Dice: 0.666108 \n",
      "\n",
      "\n",
      "\n",
      "<Validation>\n",
      " [==============================================>...]  Step: 128ms | Tot: 1s611ms | Loss: 0.15555, Dice-Coef: 0.8444 13/13 \n",
      "Validation error: \n",
      " Acc: 99.5%, Avg loss: 0.155555, Dice: 0.844445 \n",
      "\n",
      "Epoch: 14\n",
      " [=================================================>]  Step: 290ms | Tot: 1m1s | Loss: 0.39982, Dice-Coef: 0.6001 213/213 13  \n",
      "Training epoch error: \n",
      " Acc: 99.5%, Avg loss: 0.326433, Dice: 0.673567 \n",
      "\n",
      "\n",
      "\n",
      "<Validation>\n",
      " [==============================================>...]  Step: 123ms | Tot: 1s593ms | Loss: 0.19974, Dice-Coef: 0.8002 13/13 \n",
      "Validation error: \n",
      " Acc: 99.6%, Avg loss: 0.199741, Dice: 0.800259 \n",
      "\n",
      "Epoch: 15\n",
      " [=================================================>]  Step: 282ms | Tot: 1m1s | Loss: 0.36250, Dice-Coef: 0.6375 213/213 13  \n",
      "Training epoch error: \n",
      " Acc: 99.5%, Avg loss: 0.316206, Dice: 0.683794 \n",
      "\n",
      "\n",
      "\n",
      "<Validation>\n",
      " [==============================================>...]  Step: 132ms | Tot: 1s561ms | Loss: 0.16280, Dice-Coef: 0.8372 13/13 \n",
      "Validation error: \n",
      " Acc: 99.6%, Avg loss: 0.162798, Dice: 0.837202 \n",
      "\n",
      "Epoch: 16\n",
      " [=================================================>]  Step: 299ms | Tot: 1m1s | Loss: 0.31000, Dice-Coef: 0.6900 213/213 13  \n",
      "Training epoch error: \n",
      " Acc: 99.5%, Avg loss: 0.317896, Dice: 0.682104 \n",
      "\n",
      "\n",
      "\n",
      "<Validation>\n",
      " [==============================================>...]  Step: 138ms | Tot: 1s569ms | Loss: 0.18443, Dice-Coef: 0.8155 13/13 \n",
      "Validation error: \n",
      " Acc: 99.5%, Avg loss: 0.184430, Dice: 0.815570 \n",
      "\n",
      "Epoch: 17\n",
      " [=================================================>]  Step: 285ms | Tot: 1m1s | Loss: 0.24429, Dice-Coef: 0.7557 213/213 13  \n",
      "Training epoch error: \n",
      " Acc: 99.4%, Avg loss: 0.341355, Dice: 0.658645 \n",
      "\n",
      "\n",
      "\n",
      "<Validation>\n",
      " [==============================================>...]  Step: 135ms | Tot: 1s601ms | Loss: 0.23517, Dice-Coef: 0.7648 13/13 \n",
      "Validation error: \n",
      " Acc: 99.5%, Avg loss: 0.235171, Dice: 0.764829 \n",
      "\n",
      "Epoch: 18\n",
      " [=================================================>]  Step: 291ms | Tot: 1m1s | Loss: 0.13039, Dice-Coef: 0.8696 213/213 13  \n",
      "Training epoch error: \n",
      " Acc: 99.5%, Avg loss: 0.319270, Dice: 0.680730 \n",
      "\n",
      "\n",
      "\n",
      "<Validation>\n",
      " [==============================================>...]  Step: 126ms | Tot: 1s594ms | Loss: 0.17541, Dice-Coef: 0.8245 13/13 \n",
      "Validation error: \n",
      " Acc: 99.5%, Avg loss: 0.175408, Dice: 0.824592 \n",
      "\n",
      "Epoch: 19\n",
      " [=================================================>]  Step: 292ms | Tot: 1m1s | Loss: 0.20915, Dice-Coef: 0.7908 213/213 13  \n",
      "Training epoch error: \n",
      " Acc: 99.5%, Avg loss: 0.306933, Dice: 0.693067 \n",
      "\n",
      "\n",
      "\n",
      "<Validation>\n",
      " [==============================================>...]  Step: 131ms | Tot: 1s613ms | Loss: 0.16855, Dice-Coef: 0.8314 13/13 \n"
     ]
    },
    {
     "name": "stderr",
     "output_type": "stream",
     "text": [
      "\u001b[32m[I 2022-03-22 21:19:46,705]\u001b[0m Trial 11 finished with value: 0.3303191799383897 and parameters: {'layer_multipler': 25, 'lr': 0.0005044253600854292, 'drop_rate': 0.014738275564622724, 'n_layers': 4, 'batch_size': 9, 'optimizer': 'Adam'}. Best is trial 3 with value: 0.3270519971847534.\u001b[0m\n"
     ]
    },
    {
     "name": "stdout",
     "output_type": "stream",
     "text": [
      "Validation error: \n",
      " Acc: 99.6%, Avg loss: 0.168553, Dice: 0.831447 \n",
      "\n",
      "Layers: 4, Layer Multiplyer: 27, Batch size: 9, LR: 0.00043026946059601076, Optimizer: Adam, dropout: 0.010189449939658694\n",
      "Epoch: 0\n",
      " [=================================================>]  Step: 300ms | Tot: 1m3s | Loss: 0.74660, Dice-Coef: 0.2534 213/213 13  \n",
      "Training epoch error: \n",
      " Acc: 94.9%, Avg loss: 0.762487, Dice: 0.237513 \n",
      "\n",
      "\n",
      "\n",
      "<Validation>\n",
      " [==============================================>...]  Step: 133ms | Tot: 1s581ms | Loss: 0.70948, Dice-Coef: 0.2905 13/13 \n",
      "Validation error: \n",
      " Acc: 95.8%, Avg loss: 0.709483, Dice: 0.290517 \n",
      "\n",
      "Epoch: 1\n",
      " [=================================================>]  Step: 291ms | Tot: 1m3s | Loss: 0.52797, Dice-Coef: 0.4720 213/213 13  \n",
      "Training epoch error: \n",
      " Acc: 98.7%, Avg loss: 0.610075, Dice: 0.389925 \n",
      "\n",
      "\n",
      "\n",
      "<Validation>\n",
      " [==============================================>...]  Step: 129ms | Tot: 1s597ms | Loss: 0.53794, Dice-Coef: 0.4620 13/13 \n",
      "Validation error: \n",
      " Acc: 98.8%, Avg loss: 0.537941, Dice: 0.462059 \n",
      "\n",
      "Epoch: 2\n",
      " [=================================================>]  Step: 291ms | Tot: 1m3s | Loss: 0.40345, Dice-Coef: 0.5965 213/213 13  \n",
      "Training epoch error: \n",
      " Acc: 99.1%, Avg loss: 0.486990, Dice: 0.513010 \n",
      "\n",
      "\n",
      "\n",
      "<Validation>\n",
      " [==============================================>...]  Step: 131ms | Tot: 1s609ms | Loss: 0.33298, Dice-Coef: 0.6670 13/13 \n",
      "Validation error: \n",
      " Acc: 99.4%, Avg loss: 0.332979, Dice: 0.667021 \n",
      "\n",
      "Epoch: 3\n",
      " [=================================================>]  Step: 303ms | Tot: 1m3s | Loss: 0.36926, Dice-Coef: 0.6307 213/213 13  \n",
      "Training epoch error: \n",
      " Acc: 99.2%, Avg loss: 0.440297, Dice: 0.559703 \n",
      "\n",
      "\n",
      "\n",
      "<Validation>\n",
      " [==============================================>...]  Step: 178ms | Tot: 1s683ms | Loss: 0.30438, Dice-Coef: 0.6956 13/13 \n",
      "Validation error: \n",
      " Acc: 99.4%, Avg loss: 0.304375, Dice: 0.695625 \n",
      "\n",
      "Epoch: 4\n",
      " [=================================================>]  Step: 296ms | Tot: 1m3s | Loss: 0.30545, Dice-Coef: 0.6945 213/213 13  \n",
      "Training epoch error: \n",
      " Acc: 99.3%, Avg loss: 0.412190, Dice: 0.587810 \n",
      "\n",
      "\n",
      "\n",
      "<Validation>\n",
      " [==============================================>...]  Step: 132ms | Tot: 1s606ms | Loss: 0.33972, Dice-Coef: 0.6602 13/13 \n",
      "Validation error: \n",
      " Acc: 99.1%, Avg loss: 0.339718, Dice: 0.660282 \n",
      "\n",
      "Epoch: 5\n",
      " [=================================================>]  Step: 291ms | Tot: 1m3s | Loss: 0.22006, Dice-Coef: 0.7799 213/213 13  \n",
      "Training epoch error: \n",
      " Acc: 99.3%, Avg loss: 0.389962, Dice: 0.610038 \n",
      "\n",
      "\n",
      "\n",
      "<Validation>\n",
      " [==============================================>...]  Step: 139ms | Tot: 1s652ms | Loss: 0.27944, Dice-Coef: 0.7205 13/13 \n",
      "Validation error: \n",
      " Acc: 99.4%, Avg loss: 0.279442, Dice: 0.720558 \n",
      "\n",
      "Epoch: 6\n",
      " [=================================================>]  Step: 304ms | Tot: 1m3s | Loss: 0.40482, Dice-Coef: 0.5951 213/213 13  \n",
      "Training epoch error: \n",
      " Acc: 99.4%, Avg loss: 0.370272, Dice: 0.629728 \n",
      "\n",
      "\n",
      "\n",
      "<Validation>\n",
      " [==============================================>...]  Step: 141ms | Tot: 1s621ms | Loss: 0.17081, Dice-Coef: 0.8291 13/13 \n",
      "Validation error: \n",
      " Acc: 99.4%, Avg loss: 0.170809, Dice: 0.829191 \n",
      "\n",
      "Epoch: 7\n",
      " [=================================================>]  Step: 296ms | Tot: 1m3s | Loss: 0.29796, Dice-Coef: 0.7020 213/213 13  \n",
      "Training epoch error: \n",
      " Acc: 99.4%, Avg loss: 0.355588, Dice: 0.644412 \n",
      "\n",
      "\n",
      "\n",
      "<Validation>\n",
      " [==============================================>...]  Step: 135ms | Tot: 1s612ms | Loss: 0.26598, Dice-Coef: 0.7340 13/13 \n",
      "Validation error: \n",
      " Acc: 99.4%, Avg loss: 0.265976, Dice: 0.734024 \n",
      "\n",
      "Epoch: 8\n",
      " [=================================================>]  Step: 303ms | Tot: 1m3s | Loss: 0.73292, Dice-Coef: 0.2670 213/213 13  \n",
      "Training epoch error: \n",
      " Acc: 99.4%, Avg loss: 0.355113, Dice: 0.644887 \n",
      "\n",
      "\n",
      "\n",
      "<Validation>\n",
      " [==============================================>...]  Step: 137ms | Tot: 1s627ms | Loss: 0.17337, Dice-Coef: 0.8266 13/13 \n",
      "Validation error: \n",
      " Acc: 99.5%, Avg loss: 0.173370, Dice: 0.826630 \n",
      "\n",
      "Epoch: 9\n",
      " [=================================================>]  Step: 298ms | Tot: 1m3s | Loss: 0.19126, Dice-Coef: 0.8087 213/213 13  \n",
      "Training epoch error: \n",
      " Acc: 99.4%, Avg loss: 0.338560, Dice: 0.661440 \n",
      "\n",
      "\n",
      "\n",
      "<Validation>\n",
      " [==============================================>...]  Step: 129ms | Tot: 1s628ms | Loss: 0.12032, Dice-Coef: 0.8796 13/13 \n",
      "Validation error: \n",
      " Acc: 99.5%, Avg loss: 0.120316, Dice: 0.879684 \n",
      "\n",
      "Epoch: 10\n",
      " [=================================================>]  Step: 303ms | Tot: 1m3s | Loss: 0.29854, Dice-Coef: 0.7014 213/213 13  \n",
      "Training epoch error: \n",
      " Acc: 99.4%, Avg loss: 0.332200, Dice: 0.667800 \n",
      "\n",
      "\n",
      "\n",
      "<Validation>\n",
      " [==============================================>...]  Step: 137ms | Tot: 1s602ms | Loss: 0.19843, Dice-Coef: 0.8015 13/13 \n",
      "Validation error: \n",
      " Acc: 99.5%, Avg loss: 0.198432, Dice: 0.801568 \n",
      "\n",
      "Epoch: 11\n",
      " [=================================================>]  Step: 298ms | Tot: 1m3s | Loss: 0.29559, Dice-Coef: 0.7044 213/213 13  \n",
      "Training epoch error: \n",
      " Acc: 99.5%, Avg loss: 0.339023, Dice: 0.660977 \n",
      "\n",
      "\n",
      "\n",
      "<Validation>\n",
      " [==============================================>...]  Step: 140ms | Tot: 1s633ms | Loss: 0.24084, Dice-Coef: 0.7591 13/13 \n",
      "Validation error: \n",
      " Acc: 99.4%, Avg loss: 0.240844, Dice: 0.759156 \n",
      "\n",
      "Epoch: 12\n",
      " [=================================================>]  Step: 277ms | Tot: 1m1s | Loss: 0.35090, Dice-Coef: 0.6491 213/213 13  \n",
      "Training epoch error: \n",
      " Acc: 99.4%, Avg loss: 0.339158, Dice: 0.660842 \n",
      "\n",
      "\n",
      "\n",
      "<Validation>\n",
      " [==============================================>...]  Step: 119ms | Tot: 1s437ms | Loss: 0.20350, Dice-Coef: 0.7965 13/13 \n",
      "Validation error: \n",
      " Acc: 99.5%, Avg loss: 0.203503, Dice: 0.796497 \n",
      "\n",
      "Epoch: 13\n",
      " [=================================================>]  Step: 275ms | Tot: 59s225ms | Loss: 0.15824, Dice-Coef: 0.8417 213/213 \n",
      "Training epoch error: \n",
      " Acc: 99.5%, Avg loss: 0.319482, Dice: 0.680518 \n",
      "\n",
      "\n",
      "\n",
      "<Validation>\n",
      " [==============================================>...]  Step: 123ms | Tot: 1s436ms | Loss: 0.17267, Dice-Coef: 0.8273 13/13 \n",
      "Validation error: \n",
      " Acc: 99.5%, Avg loss: 0.172666, Dice: 0.827334 \n",
      "\n",
      "Epoch: 14\n",
      " [=================================================>]  Step: 281ms | Tot: 59s276ms | Loss: 0.22315, Dice-Coef: 0.7768 213/213 \n",
      "Training epoch error: \n",
      " Acc: 99.5%, Avg loss: 0.309292, Dice: 0.690708 \n",
      "\n",
      "\n",
      "\n",
      "<Validation>\n",
      " [==============================================>...]  Step: 118ms | Tot: 1s425ms | Loss: 0.13076, Dice-Coef: 0.8692 13/13 \n",
      "Validation error: \n",
      " Acc: 99.6%, Avg loss: 0.130764, Dice: 0.869236 \n",
      "\n",
      "Epoch: 15\n",
      " [=================================================>]  Step: 277ms | Tot: 59s235ms | Loss: 0.24337, Dice-Coef: 0.7566 213/213 \n",
      "Training epoch error: \n",
      " Acc: 99.5%, Avg loss: 0.313998, Dice: 0.686002 \n",
      "\n",
      "\n",
      "\n",
      "<Validation>\n",
      " [==============================================>...]  Step: 121ms | Tot: 1s436ms | Loss: 0.13085, Dice-Coef: 0.8691 13/13 \n",
      "Validation error: \n",
      " Acc: 99.5%, Avg loss: 0.130850, Dice: 0.869150 \n",
      "\n",
      "Epoch: 16\n",
      " [=================================================>]  Step: 290ms | Tot: 59s264ms | Loss: 0.48956, Dice-Coef: 0.5104 213/213 \n",
      "Training epoch error: \n",
      " Acc: 99.5%, Avg loss: 0.317201, Dice: 0.682799 \n",
      "\n",
      "\n",
      "\n",
      "<Validation>\n",
      " [==============================================>...]  Step: 121ms | Tot: 1s463ms | Loss: 0.14509, Dice-Coef: 0.8549 13/13 \n",
      "Validation error: \n",
      " Acc: 99.5%, Avg loss: 0.145095, Dice: 0.854905 \n",
      "\n",
      "Epoch: 17\n",
      " [=================================================>]  Step: 281ms | Tot: 59s282ms | Loss: 0.16851, Dice-Coef: 0.8314 213/213 \n",
      "Training epoch error: \n",
      " Acc: 99.5%, Avg loss: 0.320482, Dice: 0.679518 \n",
      "\n",
      "\n",
      "\n",
      "<Validation>\n",
      " [==============================================>...]  Step: 118ms | Tot: 1s455ms | Loss: 0.15572, Dice-Coef: 0.8442 13/13 \n",
      "Validation error: \n",
      " Acc: 99.6%, Avg loss: 0.155723, Dice: 0.844277 \n",
      "\n",
      "Epoch: 18\n",
      " [=================================================>]  Step: 298ms | Tot: 1m1s | Loss: 0.22762, Dice-Coef: 0.7723 213/213 13  \n",
      "Training epoch error: \n",
      " Acc: 99.5%, Avg loss: 0.301757, Dice: 0.698243 \n",
      "\n",
      "\n",
      "\n",
      "<Validation>\n",
      " [==============================================>...]  Step: 127ms | Tot: 1s591ms | Loss: 0.16464, Dice-Coef: 0.8353 13/13 \n"
     ]
    },
    {
     "name": "stderr",
     "output_type": "stream",
     "text": [
      "\u001b[32m[I 2022-03-22 21:40:06,361]\u001b[0m Trial 12 finished with value: 0.3348881739836473 and parameters: {'layer_multipler': 27, 'lr': 0.00043026946059601076, 'drop_rate': 0.010189449939658694, 'n_layers': 4, 'batch_size': 9, 'optimizer': 'Adam'}. Best is trial 3 with value: 0.3270519971847534.\u001b[0m\n"
     ]
    },
    {
     "name": "stdout",
     "output_type": "stream",
     "text": [
      "Validation error: \n",
      " Acc: 99.6%, Avg loss: 0.164637, Dice: 0.835363 \n",
      "\n",
      "Layers: 4, Layer Multiplyer: 34, Batch size: 8, LR: 0.00014212771846102895, Optimizer: Adam, dropout: 0.018053937686715236\n",
      "Epoch: 0\n",
      " [=================================================>]  Step: 340ms | Tot: 1m20s | Loss: 0.76049, Dice-Coef: 0.2395 240/240 0  \n",
      "Training epoch error: \n",
      " Acc: 89.5%, Avg loss: 0.802929, Dice: 0.197071 \n",
      "\n",
      "\n",
      "\n",
      "<Validation>\n",
      " [==============================================>...]  Step: 136ms | Tot: 1s940ms | Loss: 0.77551, Dice-Coef: 0.2244 15/15 \n"
     ]
    },
    {
     "name": "stderr",
     "output_type": "stream",
     "text": [
      "\u001b[32m[I 2022-03-22 21:41:29,749]\u001b[0m Trial 13 pruned. \u001b[0m\n"
     ]
    },
    {
     "name": "stdout",
     "output_type": "stream",
     "text": [
      "Validation error: \n",
      " Acc: 90.8%, Avg loss: 0.775508, Dice: 0.224492 \n",
      "\n",
      "Layers: 4, Layer Multiplyer: 24, Batch size: 12, LR: 0.0033537471835342796, Optimizer: SGD, dropout: 0.01865704257571534\n",
      "Epoch: 0\n",
      " [=================================================>]  Step: 350ms | Tot: 55s901ms | Loss: 0.88357, Dice-Coef: 0.1164 160/160 \n",
      "Training epoch error: \n",
      " Acc: 5.4%, Avg loss: 0.892494, Dice: 0.107506 \n",
      "\n",
      "\n",
      "\n",
      "<Validation>\n",
      " [=============================================>....]  Step: 175ms | Tot: 1s544ms | Loss: 0.88787, Dice-Coef: 0.1121 10/10 \n"
     ]
    },
    {
     "name": "stderr",
     "output_type": "stream",
     "text": [
      "\u001b[32m[I 2022-03-22 21:42:27,824]\u001b[0m Trial 14 pruned. \u001b[0m\n"
     ]
    },
    {
     "name": "stdout",
     "output_type": "stream",
     "text": [
      "Validation error: \n",
      " Acc: 6.9%, Avg loss: 0.887866, Dice: 0.112134 \n",
      "\n",
      "Layers: 3, Layer Multiplyer: 42, Batch size: 14, LR: 0.00848208811190075, Optimizer: Adam, dropout: 0.0967687630313388\n",
      "Epoch: 0\n",
      " [=================================================>]  Step: 553ms | Tot: 1m15s | Loss: 0.66488, Dice-Coef: 0.3351 137/137 7  \n",
      "Training epoch error: \n",
      " Acc: 97.2%, Avg loss: 0.632218, Dice: 0.367782 \n",
      "\n",
      "\n",
      "\n",
      "<Validation>\n",
      " [===========================================>......]  Step: 224ms | Tot: 1s616ms | Loss: 0.62186, Dice-Coef: 0.3781 8/8 \n",
      "Validation error: \n",
      " Acc: 96.6%, Avg loss: 0.621861, Dice: 0.378139 \n",
      "\n",
      "Epoch: 1\n",
      " [=================================================>]  Step: 562ms | Tot: 1m15s | Loss: 0.72513, Dice-Coef: 0.2748 137/137 7  \n",
      "Training epoch error: \n",
      " Acc: 98.5%, Avg loss: 0.572616, Dice: 0.427384 \n",
      "\n",
      "\n",
      "\n",
      "<Validation>\n",
      " [===========================================>......]  Step: 232ms | Tot: 1s656ms | Loss: 0.60618, Dice-Coef: 0.3938 8/8 \n",
      "Validation error: \n",
      " Acc: 98.4%, Avg loss: 0.606176, Dice: 0.393824 \n",
      "\n",
      "Epoch: 2\n",
      " [=================================================>]  Step: 551ms | Tot: 1m15s | Loss: 0.52848, Dice-Coef: 0.4715 137/137 7  \n",
      "Training epoch error: \n",
      " Acc: 98.6%, Avg loss: 0.541642, Dice: 0.458358 \n",
      "\n",
      "\n",
      "\n",
      "<Validation>\n",
      " [===========================================>......]  Step: 224ms | Tot: 1s605ms | Loss: 0.83774, Dice-Coef: 0.1622 8/8 \n",
      "Validation error: \n",
      " Acc: 24.9%, Avg loss: 0.837741, Dice: 0.162259 \n",
      "\n",
      "Epoch: 3\n",
      " [=================================================>]  Step: 555ms | Tot: 1m15s | Loss: 0.55727, Dice-Coef: 0.4427 137/137 7  \n",
      "Training epoch error: \n",
      " Acc: 98.7%, Avg loss: 0.530765, Dice: 0.469235 \n",
      "\n",
      "\n",
      "\n",
      "<Validation>\n",
      " [===========================================>......]  Step: 232ms | Tot: 1s607ms | Loss: 0.59153, Dice-Coef: 0.4084 8/8 \n",
      "Validation error: \n",
      " Acc: 98.9%, Avg loss: 0.591526, Dice: 0.408474 \n",
      "\n",
      "Epoch: 4\n",
      " [=================================================>]  Step: 551ms | Tot: 1m15s | Loss: 0.37906, Dice-Coef: 0.6209 137/137 7  \n",
      "Training epoch error: \n",
      " Acc: 98.8%, Avg loss: 0.504766, Dice: 0.495234 \n",
      "\n",
      "\n",
      "\n",
      "<Validation>\n",
      " [===========================================>......]  Step: 229ms | Tot: 1s616ms | Loss: 0.60159, Dice-Coef: 0.3984 8/8 \n"
     ]
    },
    {
     "name": "stderr",
     "output_type": "stream",
     "text": [
      "\u001b[32m[I 2022-03-22 21:48:57,951]\u001b[0m Trial 15 pruned. \u001b[0m\n"
     ]
    },
    {
     "name": "stdout",
     "output_type": "stream",
     "text": [
      "Validation error: \n",
      " Acc: 98.8%, Avg loss: 0.601585, Dice: 0.398415 \n",
      "\n",
      "Layers: 3, Layer Multiplyer: 32, Batch size: 7, LR: 0.00019049384754147417, Optimizer: SGD, dropout: 0.02338333189165614\n",
      "Epoch: 0\n",
      " [=================================================>]  Step: 228ms | Tot: 1m2s | Loss: 0.89242, Dice-Coef: 0.1075 274/274 74  \n",
      "Training epoch error: \n",
      " Acc: 9.9%, Avg loss: 0.896133, Dice: 0.103867 \n",
      "\n",
      "\n",
      "\n",
      "<Validation>\n",
      " [===============================================>..]  Step: 103ms | Tot: 1s643ms | Loss: 0.89660, Dice-Coef: 0.1034 17/17 \n"
     ]
    },
    {
     "name": "stderr",
     "output_type": "stream",
     "text": [
      "\u001b[32m[I 2022-03-22 21:50:02,191]\u001b[0m Trial 16 pruned. \u001b[0m\n"
     ]
    },
    {
     "name": "stdout",
     "output_type": "stream",
     "text": [
      "Validation error: \n",
      " Acc: 9.5%, Avg loss: 0.896597, Dice: 0.103403 \n",
      "\n",
      "Layers: 4, Layer Multiplyer: 27, Batch size: 11, LR: 0.0033128508123203234, Optimizer: SGD, dropout: 0.014672778849638668\n",
      "Epoch: 0\n",
      " [=================================================>]  Step: 358ms | Tot: 1m1s | Loss: 0.88422, Dice-Coef: 0.1157 174/174 74  \n",
      "Training epoch error: \n",
      " Acc: 38.6%, Avg loss: 0.885437, Dice: 0.114563 \n",
      "\n",
      "\n",
      "\n",
      "<Validation>\n",
      " [=============================================>....]  Step: 155ms | Tot: 1s450ms | Loss: 0.88005, Dice-Coef: 0.1199 10/10 \n"
     ]
    },
    {
     "name": "stderr",
     "output_type": "stream",
     "text": [
      "\u001b[32m[I 2022-03-22 21:51:05,442]\u001b[0m Trial 17 pruned. \u001b[0m\n"
     ]
    },
    {
     "name": "stdout",
     "output_type": "stream",
     "text": [
      "Validation error: \n",
      " Acc: 67.4%, Avg loss: 0.880048, Dice: 0.119952 \n",
      "\n",
      "Layers: 3, Layer Multiplyer: 20, Batch size: 14, LR: 9.655234637438895e-05, Optimizer: Adam, dropout: 0.08776961269328477\n",
      "Epoch: 0\n",
      " [=================================================>]  Step: 349ms | Tot: 47s788ms | Loss: 0.87523, Dice-Coef: 0.1247 137/137 \n",
      "Training epoch error: \n",
      " Acc: 24.5%, Avg loss: 0.895652, Dice: 0.104348 \n",
      "\n",
      "\n",
      "\n",
      "<Validation>\n",
      " [===========================================>......]  Step: 182ms | Tot: 1s287ms | Loss: 0.87639, Dice-Coef: 0.1236 8/8 \n"
     ]
    },
    {
     "name": "stderr",
     "output_type": "stream",
     "text": [
      "\u001b[32m[I 2022-03-22 21:51:55,194]\u001b[0m Trial 18 pruned. \u001b[0m\n"
     ]
    },
    {
     "name": "stdout",
     "output_type": "stream",
     "text": [
      "Validation error: \n",
      " Acc: 78.4%, Avg loss: 0.876386, Dice: 0.123614 \n",
      "\n",
      "Layers: 4, Layer Multiplyer: 36, Batch size: 8, LR: 0.0013554405474358495, Optimizer: RMSprop, dropout: 0.027577526795716876\n",
      "Epoch: 0\n",
      " [=================================================>]  Step: 338ms | Tot: 1m20s | Loss: 0.39230, Dice-Coef: 0.6077 240/240 0  \n",
      "Training epoch error: \n",
      " Acc: 97.7%, Avg loss: 0.609780, Dice: 0.390220 \n",
      "\n",
      "\n",
      "\n",
      "<Validation>\n",
      " [==============================================>...]  Step: 137ms | Tot: 1s946ms | Loss: 0.54360, Dice-Coef: 0.4564 15/15 \n",
      "Validation error: \n",
      " Acc: 99.1%, Avg loss: 0.543598, Dice: 0.456402 \n",
      "\n",
      "Epoch: 1\n",
      " [=================================================>]  Step: 329ms | Tot: 1m21s | Loss: 0.35802, Dice-Coef: 0.6419 240/240 0  \n",
      "Training epoch error: \n",
      " Acc: 99.0%, Avg loss: 0.507774, Dice: 0.492226 \n",
      "\n",
      "\n",
      "\n",
      "<Validation>\n",
      " [==============================================>...]  Step: 136ms | Tot: 1s950ms | Loss: 0.41137, Dice-Coef: 0.5886 15/15 \n",
      "Validation error: \n",
      " Acc: 99.2%, Avg loss: 0.411367, Dice: 0.588633 \n",
      "\n",
      "Epoch: 2\n",
      " [=================================================>]  Step: 341ms | Tot: 1m21s | Loss: 0.49903, Dice-Coef: 0.5009 240/240 0  \n",
      "Training epoch error: \n",
      " Acc: 99.0%, Avg loss: 0.484372, Dice: 0.515628 \n",
      "\n",
      "\n",
      "\n",
      "<Validation>\n",
      " [==============================================>...]  Step: 137ms | Tot: 2s1ms | Loss: 0.34782, Dice-Coef: 0.6521 15/15 5 \n",
      "Validation error: \n",
      " Acc: 99.3%, Avg loss: 0.347818, Dice: 0.652182 \n",
      "\n",
      "Epoch: 3\n",
      " [=================================================>]  Step: 342ms | Tot: 1m21s | Loss: 0.51073, Dice-Coef: 0.4892 240/240 0  \n",
      "Training epoch error: \n",
      " Acc: 99.1%, Avg loss: 0.468044, Dice: 0.531956 \n",
      "\n",
      "\n",
      "\n",
      "<Validation>\n",
      " [==============================================>...]  Step: 143ms | Tot: 1s983ms | Loss: 0.31951, Dice-Coef: 0.6804 15/15 \n",
      "Validation error: \n",
      " Acc: 99.3%, Avg loss: 0.319513, Dice: 0.680487 \n",
      "\n",
      "Epoch: 4\n",
      " [=================================================>]  Step: 341ms | Tot: 1m21s | Loss: 0.71579, Dice-Coef: 0.2842 240/240 0  \n",
      "Training epoch error: \n",
      " Acc: 99.1%, Avg loss: 0.461337, Dice: 0.538663 \n",
      "\n",
      "\n",
      "\n",
      "<Validation>\n",
      " [==============================================>...]  Step: 140ms | Tot: 2s1ms | Loss: 0.40607, Dice-Coef: 0.5939 15/15 5 \n",
      "Validation error: \n",
      " Acc: 99.1%, Avg loss: 0.406073, Dice: 0.593927 \n",
      "\n",
      "Epoch: 5\n",
      " [=================================================>]  Step: 345ms | Tot: 1m21s | Loss: 0.31294, Dice-Coef: 0.6870 240/240 0  \n",
      "Training epoch error: \n",
      " Acc: 99.1%, Avg loss: 0.454025, Dice: 0.545975 \n",
      "\n",
      "\n",
      "\n",
      "<Validation>\n",
      " [==============================================>...]  Step: 134ms | Tot: 1s961ms | Loss: 0.29378, Dice-Coef: 0.7062 15/15 \n",
      "Validation error: \n",
      " Acc: 99.2%, Avg loss: 0.293781, Dice: 0.706219 \n",
      "\n",
      "Epoch: 6\n",
      " [=================================================>]  Step: 338ms | Tot: 1m21s | Loss: 0.35411, Dice-Coef: 0.6458 240/240 0  \n",
      "Training epoch error: \n",
      " Acc: 99.2%, Avg loss: 0.447100, Dice: 0.552900 \n",
      "\n",
      "\n",
      "\n",
      "<Validation>\n",
      " [==============================================>...]  Step: 145ms | Tot: 2s15ms | Loss: 0.28195, Dice-Coef: 0.7180 15/15  \n",
      "Validation error: \n",
      " Acc: 99.3%, Avg loss: 0.281952, Dice: 0.718048 \n",
      "\n",
      "Epoch: 7\n",
      " [=================================================>]  Step: 345ms | Tot: 1m21s | Loss: 0.19082, Dice-Coef: 0.8091 240/240 0  \n",
      "Training epoch error: \n",
      " Acc: 99.1%, Avg loss: 0.445545, Dice: 0.554455 \n",
      "\n",
      "\n",
      "\n",
      "<Validation>\n",
      " [==============================================>...]  Step: 136ms | Tot: 1s978ms | Loss: 0.32119, Dice-Coef: 0.6788 15/15 \n"
     ]
    },
    {
     "name": "stderr",
     "output_type": "stream",
     "text": [
      "\u001b[32m[I 2022-03-22 22:03:06,798]\u001b[0m Trial 19 pruned. \u001b[0m\n"
     ]
    },
    {
     "name": "stdout",
     "output_type": "stream",
     "text": [
      "Validation error: \n",
      " Acc: 99.3%, Avg loss: 0.321194, Dice: 0.678806 \n",
      "\n",
      "Layers: 3, Layer Multiplyer: 27, Batch size: 6, LR: 0.0003668608330265674, Optimizer: Adam, dropout: 0.03958735539470833\n",
      "Epoch: 0\n",
      " [=================================================>]  Step: 177ms | Tot: 57s388ms | Loss: 0.76616, Dice-Coef: 0.2338 320/320 \n",
      "Training epoch error: \n",
      " Acc: 89.9%, Avg loss: 0.800152, Dice: 0.199848 \n",
      "\n",
      "\n",
      "\n",
      "<Validation>\n",
      " [===============================================>..]  Step: 85ms | Tot: 1s640ms | Loss: 0.73473, Dice-Coef: 0.2652 20/20 \n",
      "Validation error: \n",
      " Acc: 95.0%, Avg loss: 0.734729, Dice: 0.265271 \n",
      "\n",
      "Epoch: 1\n",
      " [=================================================>]  Step: 182ms | Tot: 57s606ms | Loss: 0.51149, Dice-Coef: 0.4885 320/320 \n",
      "Training epoch error: \n",
      " Acc: 97.7%, Avg loss: 0.648932, Dice: 0.351068 \n",
      "\n",
      "\n",
      "\n",
      "<Validation>\n",
      " [===============================================>..]  Step: 89ms | Tot: 1s668ms | Loss: 0.52143, Dice-Coef: 0.4785 20/20 \n",
      "Validation error: \n",
      " Acc: 97.6%, Avg loss: 0.521430, Dice: 0.478570 \n",
      "\n",
      "Epoch: 2\n",
      " [=================================================>]  Step: 177ms | Tot: 57s532ms | Loss: 0.49358, Dice-Coef: 0.5064 320/320 320 \n",
      "Training epoch error: \n",
      " Acc: 98.8%, Avg loss: 0.535511, Dice: 0.464489 \n",
      "\n",
      "\n",
      "\n",
      "<Validation>\n",
      " [===============================================>..]  Step: 86ms | Tot: 1s679ms | Loss: 0.42550, Dice-Coef: 0.5745 20/20 \n",
      "Validation error: \n",
      " Acc: 98.8%, Avg loss: 0.425497, Dice: 0.574503 \n",
      "\n",
      "Epoch: 3\n",
      " [=================================================>]  Step: 181ms | Tot: 57s526ms | Loss: 0.61491, Dice-Coef: 0.3850 320/320 \n",
      "Training epoch error: \n",
      " Acc: 99.0%, Avg loss: 0.496960, Dice: 0.503040 \n",
      "\n",
      "\n",
      "\n",
      "<Validation>\n",
      " [===============================================>..]  Step: 86ms | Tot: 1s676ms | Loss: 0.45302, Dice-Coef: 0.5469 20/20 \n",
      "Validation error: \n",
      " Acc: 98.9%, Avg loss: 0.453022, Dice: 0.546978 \n",
      "\n",
      "Epoch: 4\n",
      " [=================================================>]  Step: 180ms | Tot: 57s555ms | Loss: 0.46212, Dice-Coef: 0.5378 320/320 \n",
      "Training epoch error: \n",
      " Acc: 99.0%, Avg loss: 0.477589, Dice: 0.522411 \n",
      "\n",
      "\n",
      "\n",
      "<Validation>\n",
      " [===============================================>..]  Step: 89ms | Tot: 1s642ms | Loss: 0.35144, Dice-Coef: 0.6485 20/20 \n",
      "Validation error: \n",
      " Acc: 99.0%, Avg loss: 0.351435, Dice: 0.648565 \n",
      "\n",
      "Epoch: 5\n",
      " [=================================================>]  Step: 185ms | Tot: 57s750ms | Loss: 0.75129, Dice-Coef: 0.2487 320/320 \n",
      "Training epoch error: \n",
      " Acc: 99.0%, Avg loss: 0.466200, Dice: 0.533800 \n",
      "\n",
      "\n",
      "\n",
      "<Validation>\n",
      " [===============================================>..]  Step: 87ms | Tot: 1s672ms | Loss: 0.42994, Dice-Coef: 0.5700 20/20 \n",
      "Validation error: \n",
      " Acc: 99.0%, Avg loss: 0.429943, Dice: 0.570057 \n",
      "\n",
      "Epoch: 6\n",
      " [=================================================>]  Step: 174ms | Tot: 57s579ms | Loss: 0.44693, Dice-Coef: 0.5530 320/320 \n",
      "Training epoch error: \n",
      " Acc: 99.1%, Avg loss: 0.460476, Dice: 0.539524 \n",
      "\n",
      "\n",
      "\n",
      "<Validation>\n",
      " [===============================================>..]  Step: 87ms | Tot: 1s672ms | Loss: 0.28476, Dice-Coef: 0.7152 20/20 \n"
     ]
    },
    {
     "name": "stderr",
     "output_type": "stream",
     "text": [
      "\u001b[32m[I 2022-03-22 22:10:03,454]\u001b[0m Trial 20 pruned. \u001b[0m\n"
     ]
    },
    {
     "name": "stdout",
     "output_type": "stream",
     "text": [
      "Validation error: \n",
      " Acc: 98.7%, Avg loss: 0.284757, Dice: 0.715243 \n",
      "\n",
      "Layers: 4, Layer Multiplyer: 28, Batch size: 9, LR: 0.0004864966815635306, Optimizer: Adam, dropout: 0.01000895884293722\n",
      "Epoch: 0\n",
      " [=================================================>]  Step: 290ms | Tot: 1m2s | Loss: 0.76642, Dice-Coef: 0.2335 213/213 13  \n",
      "Training epoch error: \n",
      " Acc: 95.1%, Avg loss: 0.778410, Dice: 0.221590 \n",
      "\n",
      "\n",
      "\n",
      "<Validation>\n",
      " [==============================================>...]  Step: 127ms | Tot: 1s601ms | Loss: 0.69741, Dice-Coef: 0.3025 13/13 \n",
      "Validation error: \n",
      " Acc: 95.3%, Avg loss: 0.697410, Dice: 0.302590 \n",
      "\n",
      "Epoch: 1\n",
      " [=================================================>]  Step: 296ms | Tot: 1m3s | Loss: 0.56750, Dice-Coef: 0.4325 213/213 13  \n",
      "Training epoch error: \n",
      " Acc: 98.8%, Avg loss: 0.590898, Dice: 0.409102 \n",
      "\n",
      "\n",
      "\n",
      "<Validation>\n",
      " [==============================================>...]  Step: 129ms | Tot: 1s618ms | Loss: 0.48839, Dice-Coef: 0.5116 13/13 \n",
      "Validation error: \n",
      " Acc: 99.2%, Avg loss: 0.488385, Dice: 0.511615 \n",
      "\n",
      "Epoch: 2\n",
      " [=================================================>]  Step: 297ms | Tot: 1m4s | Loss: 0.30429, Dice-Coef: 0.6957 213/213 13  \n",
      "Training epoch error: \n",
      " Acc: 99.1%, Avg loss: 0.467285, Dice: 0.532715 \n",
      "\n",
      "\n",
      "\n",
      "<Validation>\n",
      " [==============================================>...]  Step: 146ms | Tot: 1s622ms | Loss: 0.23811, Dice-Coef: 0.7618 13/13 \n",
      "Validation error: \n",
      " Acc: 99.3%, Avg loss: 0.238107, Dice: 0.761893 \n",
      "\n",
      "Epoch: 3\n",
      " [=================================================>]  Step: 291ms | Tot: 1m4s | Loss: 0.23429, Dice-Coef: 0.7657 213/213 13  \n",
      "Training epoch error: \n",
      " Acc: 99.2%, Avg loss: 0.428680, Dice: 0.571320 \n",
      "\n",
      "\n",
      "\n",
      "<Validation>\n",
      " [==============================================>...]  Step: 127ms | Tot: 1s647ms | Loss: 0.44695, Dice-Coef: 0.5530 13/13 \n",
      "Validation error: \n",
      " Acc: 99.3%, Avg loss: 0.446950, Dice: 0.553050 \n",
      "\n",
      "Epoch: 4\n",
      " [=================================================>]  Step: 304ms | Tot: 1m4s | Loss: 0.56633, Dice-Coef: 0.4336 213/213 13  \n",
      "Training epoch error: \n",
      " Acc: 99.2%, Avg loss: 0.417220, Dice: 0.582780 \n",
      "\n",
      "\n",
      "\n",
      "<Validation>\n",
      " [==============================================>...]  Step: 137ms | Tot: 1s635ms | Loss: 0.25382, Dice-Coef: 0.7461 13/13 \n",
      "Validation error: \n",
      " Acc: 99.4%, Avg loss: 0.253820, Dice: 0.746180 \n",
      "\n",
      "Epoch: 5\n",
      " [=================================================>]  Step: 307ms | Tot: 1m4s | Loss: 0.42610, Dice-Coef: 0.5739 213/213 13  \n",
      "Training epoch error: \n",
      " Acc: 99.3%, Avg loss: 0.380605, Dice: 0.619395 \n",
      "\n",
      "\n",
      "\n",
      "<Validation>\n",
      " [==============================================>...]  Step: 141ms | Tot: 1s625ms | Loss: 0.25109, Dice-Coef: 0.7489 13/13 \n",
      "Validation error: \n",
      " Acc: 99.5%, Avg loss: 0.251091, Dice: 0.748909 \n",
      "\n",
      "Epoch: 6\n",
      " [=================================================>]  Step: 305ms | Tot: 1m3s | Loss: 0.47577, Dice-Coef: 0.5242 213/213 13  \n",
      "Training epoch error: \n",
      " Acc: 99.3%, Avg loss: 0.378142, Dice: 0.621858 \n",
      "\n",
      "\n",
      "\n",
      "<Validation>\n",
      " [==============================================>...]  Step: 137ms | Tot: 1s616ms | Loss: 0.16815, Dice-Coef: 0.8318 13/13 \n",
      "Validation error: \n",
      " Acc: 99.5%, Avg loss: 0.168151, Dice: 0.831849 \n",
      "\n",
      "Epoch: 7\n",
      " [=================================================>]  Step: 301ms | Tot: 1m4s | Loss: 0.42249, Dice-Coef: 0.5775 213/213 13  \n",
      "Training epoch error: \n",
      " Acc: 99.4%, Avg loss: 0.355262, Dice: 0.644738 \n",
      "\n",
      "\n",
      "\n",
      "<Validation>\n",
      " [==============================================>...]  Step: 137ms | Tot: 1s643ms | Loss: 0.17992, Dice-Coef: 0.8200 13/13 \n",
      "Validation error: \n",
      " Acc: 99.4%, Avg loss: 0.179920, Dice: 0.820080 \n",
      "\n",
      "Epoch: 8\n",
      " [=================================================>]  Step: 303ms | Tot: 1m4s | Loss: 0.33054, Dice-Coef: 0.6694 213/213 13  \n",
      "Training epoch error: \n",
      " Acc: 99.4%, Avg loss: 0.362630, Dice: 0.637370 \n",
      "\n",
      "\n",
      "\n",
      "<Validation>\n",
      " [==============================================>...]  Step: 133ms | Tot: 1s643ms | Loss: 0.18418, Dice-Coef: 0.8158 13/13 \n",
      "Validation error: \n",
      " Acc: 99.3%, Avg loss: 0.184185, Dice: 0.815815 \n",
      "\n",
      "Epoch: 9\n",
      " [=================================================>]  Step: 297ms | Tot: 1m4s | Loss: 0.63169, Dice-Coef: 0.3683 213/213 13  \n",
      "Training epoch error: \n",
      " Acc: 99.4%, Avg loss: 0.339003, Dice: 0.660997 \n",
      "\n",
      "\n",
      "\n",
      "<Validation>\n",
      " [==============================================>...]  Step: 133ms | Tot: 1s603ms | Loss: 0.24193, Dice-Coef: 0.7580 13/13 \n",
      "Validation error: \n",
      " Acc: 99.5%, Avg loss: 0.241933, Dice: 0.758067 \n",
      "\n",
      "Epoch: 10\n",
      " [=================================================>]  Step: 304ms | Tot: 1m4s | Loss: 0.19869, Dice-Coef: 0.8013 213/213 13  \n",
      "Training epoch error: \n",
      " Acc: 99.4%, Avg loss: 0.326157, Dice: 0.673843 \n",
      "\n",
      "\n",
      "\n",
      "<Validation>\n",
      " [==============================================>...]  Step: 135ms | Tot: 1s640ms | Loss: 0.15873, Dice-Coef: 0.8412 13/13 \n",
      "Validation error: \n",
      " Acc: 99.5%, Avg loss: 0.158734, Dice: 0.841266 \n",
      "\n",
      "Epoch: 11\n",
      " [=================================================>]  Step: 306ms | Tot: 1m4s | Loss: 0.33249, Dice-Coef: 0.6675 213/213 13  \n",
      "Training epoch error: \n",
      " Acc: 99.4%, Avg loss: 0.330600, Dice: 0.669400 \n",
      "\n",
      "\n",
      "\n",
      "<Validation>\n",
      " [==============================================>...]  Step: 134ms | Tot: 1s672ms | Loss: 0.14535, Dice-Coef: 0.8546 13/13 \n",
      "Validation error: \n",
      " Acc: 99.6%, Avg loss: 0.145353, Dice: 0.854647 \n",
      "\n",
      "Epoch: 12\n",
      " [=================================================>]  Step: 309ms | Tot: 1m4s | Loss: 0.27821, Dice-Coef: 0.7217 213/213 13  \n",
      "Training epoch error: \n",
      " Acc: 99.4%, Avg loss: 0.338319, Dice: 0.661681 \n",
      "\n",
      "\n",
      "\n",
      "<Validation>\n",
      " [==============================================>...]  Step: 127ms | Tot: 1s627ms | Loss: 0.17766, Dice-Coef: 0.8223 13/13 \n",
      "Validation error: \n",
      " Acc: 99.6%, Avg loss: 0.177656, Dice: 0.822344 \n",
      "\n",
      "Epoch: 13\n",
      " [=================================================>]  Step: 298ms | Tot: 1m4s | Loss: 0.25524, Dice-Coef: 0.7447 213/213 13  \n",
      "Training epoch error: \n",
      " Acc: 99.5%, Avg loss: 0.325848, Dice: 0.674152 \n",
      "\n",
      "\n",
      "\n",
      "<Validation>\n",
      " [==============================================>...]  Step: 144ms | Tot: 1s648ms | Loss: 0.15355, Dice-Coef: 0.8464 13/13 \n",
      "Validation error: \n",
      " Acc: 99.5%, Avg loss: 0.153546, Dice: 0.846454 \n",
      "\n",
      "Epoch: 14\n",
      " [=================================================>]  Step: 295ms | Tot: 1m4s | Loss: 0.22255, Dice-Coef: 0.7774 213/213 13  \n",
      "Training epoch error: \n",
      " Acc: 99.4%, Avg loss: 0.328045, Dice: 0.671955 \n",
      "\n",
      "\n",
      "\n",
      "<Validation>\n",
      " [==============================================>...]  Step: 138ms | Tot: 1s641ms | Loss: 0.14777, Dice-Coef: 0.8522 13/13 \n",
      "Validation error: \n",
      " Acc: 99.6%, Avg loss: 0.147766, Dice: 0.852234 \n",
      "\n",
      "Epoch: 15\n",
      " [=================================================>]  Step: 307ms | Tot: 1m4s | Loss: 0.19574, Dice-Coef: 0.8042 213/213 13  \n",
      "Training epoch error: \n",
      " Acc: 99.5%, Avg loss: 0.315306, Dice: 0.684694 \n",
      "\n",
      "\n",
      "\n",
      "<Validation>\n",
      " [==============================================>...]  Step: 137ms | Tot: 1s638ms | Loss: 0.17029, Dice-Coef: 0.8297 13/13 \n",
      "Validation error: \n",
      " Acc: 99.6%, Avg loss: 0.170285, Dice: 0.829715 \n",
      "\n",
      "Epoch: 16\n",
      " [=================================================>]  Step: 301ms | Tot: 1m4s | Loss: 0.27697, Dice-Coef: 0.7230 213/213 13  \n",
      "Training epoch error: \n",
      " Acc: 99.5%, Avg loss: 0.314017, Dice: 0.685983 \n",
      "\n",
      "\n",
      "\n",
      "<Validation>\n",
      " [==============================================>...]  Step: 127ms | Tot: 1s631ms | Loss: 0.17313, Dice-Coef: 0.8268 13/13 \n",
      "Validation error: \n",
      " Acc: 99.6%, Avg loss: 0.173126, Dice: 0.826874 \n",
      "\n",
      "Epoch: 17\n",
      " [=================================================>]  Step: 296ms | Tot: 1m4s | Loss: 0.30211, Dice-Coef: 0.6978 213/213 13  \n",
      "Training epoch error: \n",
      " Acc: 99.5%, Avg loss: 0.300905, Dice: 0.699095 \n",
      "\n",
      "\n",
      "\n",
      "<Validation>\n",
      " [==============================================>...]  Step: 136ms | Tot: 1s639ms | Loss: 0.16957, Dice-Coef: 0.8304 13/13 \n",
      "Validation error: \n",
      " Acc: 99.6%, Avg loss: 0.169566, Dice: 0.830434 \n",
      "\n",
      "Epoch: 18\n",
      " [=================================================>]  Step: 295ms | Tot: 1m3s | Loss: 0.59052, Dice-Coef: 0.4094 213/213 13  \n",
      "Training epoch error: \n",
      " Acc: 99.5%, Avg loss: 0.316505, Dice: 0.683495 \n",
      "\n",
      "\n",
      "\n",
      "<Validation>\n",
      " [==============================================>...]  Step: 138ms | Tot: 1s635ms | Loss: 0.15001, Dice-Coef: 0.8499 13/13 \n",
      "Validation error: \n",
      " Acc: 99.6%, Avg loss: 0.150007, Dice: 0.849993 \n",
      "\n",
      "Epoch: 19\n",
      " [=================================================>]  Step: 303ms | Tot: 1m4s | Loss: 0.30616, Dice-Coef: 0.6938 213/213 13  \n",
      "Training epoch error: \n",
      " Acc: 99.5%, Avg loss: 0.289137, Dice: 0.710863 \n",
      "\n",
      "\n",
      "\n",
      "<Validation>\n",
      " [==============================================>...]  Step: 139ms | Tot: 1s637ms | Loss: 0.10241, Dice-Coef: 0.8975 13/13 \n",
      "Validation error: \n",
      " Acc: 99.6%, Avg loss: 0.102411, Dice: 0.897589 \n",
      "\n"
     ]
    },
    {
     "name": "stderr",
     "output_type": "stream",
     "text": [
      "\u001b[32m[I 2022-03-22 22:32:05,491]\u001b[0m Trial 21 finished with value: 0.3263024275119488 and parameters: {'layer_multipler': 28, 'lr': 0.0004864966815635306, 'drop_rate': 0.01000895884293722, 'n_layers': 4, 'batch_size': 9, 'optimizer': 'Adam'}. Best is trial 21 with value: 0.3263024275119488.\u001b[0m\n"
     ]
    },
    {
     "name": "stdout",
     "output_type": "stream",
     "text": [
      "Layers: 4, Layer Multiplyer: 30, Batch size: 9, LR: 6.0378297403790475e-05, Optimizer: Adam, dropout: 0.014095229319944252\n",
      "Epoch: 0\n",
      " [=================================================>]  Step: 312ms | Tot: 1m7s | Loss: 0.82640, Dice-Coef: 0.1736 213/213 13  \n",
      "Training epoch error: \n",
      " Acc: 87.0%, Avg loss: 0.843878, Dice: 0.156122 \n",
      "\n",
      "\n",
      "\n",
      "<Validation>\n",
      " [==============================================>...]  Step: 141ms | Tot: 1s647ms | Loss: 0.83033, Dice-Coef: 0.1696 13/13 \n"
     ]
    },
    {
     "name": "stderr",
     "output_type": "stream",
     "text": [
      "\u001b[32m[I 2022-03-22 22:33:14,988]\u001b[0m Trial 22 pruned. \u001b[0m\n"
     ]
    },
    {
     "name": "stdout",
     "output_type": "stream",
     "text": [
      "Validation error: \n",
      " Acc: 90.5%, Avg loss: 0.830329, Dice: 0.169671 \n",
      "\n",
      "Layers: 4, Layer Multiplyer: 22, Batch size: 10, LR: 0.0003082247689492797, Optimizer: Adam, dropout: 0.013319326528370428\n",
      "Epoch: 0\n",
      " [=================================================>]  Step: 300ms | Tot: 57s773ms | Loss: 0.78616, Dice-Coef: 0.2138 192/192 \n",
      "Training epoch error: \n",
      " Acc: 88.7%, Avg loss: 0.824195, Dice: 0.175805 \n",
      "\n",
      "\n",
      "\n",
      "<Validation>\n",
      " [=============================================>....]  Step: 148ms | Tot: 1s604ms | Loss: 0.79475, Dice-Coef: 0.2052 12/12 \n"
     ]
    },
    {
     "name": "stderr",
     "output_type": "stream",
     "text": [
      "\u001b[32m[I 2022-03-22 22:34:14,947]\u001b[0m Trial 23 pruned. \u001b[0m\n"
     ]
    },
    {
     "name": "stdout",
     "output_type": "stream",
     "text": [
      "Validation error: \n",
      " Acc: 92.6%, Avg loss: 0.794746, Dice: 0.205254 \n",
      "\n",
      "Layers: 4, Layer Multiplyer: 26, Batch size: 8, LR: 0.0007905436365662616, Optimizer: Adam, dropout: 0.011101116894979116\n",
      "Epoch: 0\n",
      " [=================================================>]  Step: 255ms | Tot: 1m2s | Loss: 0.68460, Dice-Coef: 0.3154 240/240 40  \n",
      "Training epoch error: \n",
      " Acc: 96.7%, Avg loss: 0.759906, Dice: 0.240094 \n",
      "\n",
      "\n",
      "\n",
      "<Validation>\n",
      " [==============================================>...]  Step: 118ms | Tot: 1s650ms | Loss: 0.70958, Dice-Coef: 0.2904 15/15 \n",
      "Validation error: \n",
      " Acc: 95.6%, Avg loss: 0.709579, Dice: 0.290421 \n",
      "\n",
      "Epoch: 1\n",
      " [=================================================>]  Step: 257ms | Tot: 1m2s | Loss: 0.44216, Dice-Coef: 0.5578 240/240 40  \n",
      "Training epoch error: \n",
      " Acc: 98.5%, Avg loss: 0.591420, Dice: 0.408580 \n",
      "\n",
      "\n",
      "\n",
      "<Validation>\n",
      " [==============================================>...]  Step: 119ms | Tot: 1s675ms | Loss: 0.55238, Dice-Coef: 0.4476 15/15 \n",
      "Validation error: \n",
      " Acc: 99.2%, Avg loss: 0.552381, Dice: 0.447619 \n",
      "\n",
      "Epoch: 2\n",
      " [=================================================>]  Step: 257ms | Tot: 1m3s | Loss: 0.56882, Dice-Coef: 0.4311 240/240 40  \n",
      "Training epoch error: \n",
      " Acc: 99.0%, Avg loss: 0.493729, Dice: 0.506271 \n",
      "\n",
      "\n",
      "\n",
      "<Validation>\n",
      " [==============================================>...]  Step: 117ms | Tot: 1s685ms | Loss: 0.32816, Dice-Coef: 0.6718 15/15 \n",
      "Validation error: \n",
      " Acc: 99.3%, Avg loss: 0.328162, Dice: 0.671838 \n",
      "\n",
      "Epoch: 3\n",
      " [=================================================>]  Step: 266ms | Tot: 1m3s | Loss: 0.36171, Dice-Coef: 0.6382 240/240 40  \n",
      "Training epoch error: \n",
      " Acc: 99.1%, Avg loss: 0.464290, Dice: 0.535710 \n",
      "\n",
      "\n",
      "\n",
      "<Validation>\n",
      " [==============================================>...]  Step: 123ms | Tot: 1s716ms | Loss: 0.26952, Dice-Coef: 0.7304 15/15 \n",
      "Validation error: \n",
      " Acc: 98.5%, Avg loss: 0.269523, Dice: 0.730477 \n",
      "\n",
      "Epoch: 4\n",
      " [=================================================>]  Step: 266ms | Tot: 1m3s | Loss: 0.40996, Dice-Coef: 0.5900 240/240 40  \n",
      "Training epoch error: \n",
      " Acc: 99.1%, Avg loss: 0.451828, Dice: 0.548172 \n",
      "\n",
      "\n",
      "\n",
      "<Validation>\n",
      " [==============================================>...]  Step: 122ms | Tot: 1s679ms | Loss: 0.26496, Dice-Coef: 0.7350 15/15 \n",
      "Validation error: \n",
      " Acc: 99.3%, Avg loss: 0.264960, Dice: 0.735040 \n",
      "\n",
      "Epoch: 5\n",
      " [=================================================>]  Step: 262ms | Tot: 1m3s | Loss: 0.17512, Dice-Coef: 0.8248 240/240 40  \n",
      "Training epoch error: \n",
      " Acc: 99.2%, Avg loss: 0.442707, Dice: 0.557293 \n",
      "\n",
      "\n",
      "\n",
      "<Validation>\n",
      " [==============================================>...]  Step: 117ms | Tot: 1s688ms | Loss: 0.29754, Dice-Coef: 0.7024 15/15 \n",
      "Validation error: \n",
      " Acc: 99.3%, Avg loss: 0.297538, Dice: 0.702462 \n",
      "\n",
      "Epoch: 6\n",
      " [=================================================>]  Step: 259ms | Tot: 1m2s | Loss: 0.21942, Dice-Coef: 0.7805 240/240 40  \n",
      "Training epoch error: \n",
      " Acc: 99.2%, Avg loss: 0.425750, Dice: 0.574250 \n",
      "\n",
      "\n",
      "\n",
      "<Validation>\n",
      " [==============================================>...]  Step: 124ms | Tot: 1s684ms | Loss: 0.46904, Dice-Coef: 0.5309 15/15 \n",
      "Validation error: \n",
      " Acc: 99.3%, Avg loss: 0.469036, Dice: 0.530964 \n",
      "\n",
      "Epoch: 7\n",
      " [=================================================>]  Step: 268ms | Tot: 1m3s | Loss: 0.21620, Dice-Coef: 0.7838 240/240 40  \n",
      "Training epoch error: \n",
      " Acc: 99.3%, Avg loss: 0.413161, Dice: 0.586839 \n",
      "\n",
      "\n",
      "\n",
      "<Validation>\n",
      " [==============================================>...]  Step: 115ms | Tot: 1s708ms | Loss: 0.27997, Dice-Coef: 0.7200 15/15 \n"
     ]
    },
    {
     "name": "stderr",
     "output_type": "stream",
     "text": [
      "\u001b[32m[I 2022-03-22 22:42:55,568]\u001b[0m Trial 24 pruned. \u001b[0m\n"
     ]
    },
    {
     "name": "stdout",
     "output_type": "stream",
     "text": [
      "Validation error: \n",
      " Acc: 99.3%, Avg loss: 0.279968, Dice: 0.720032 \n",
      "\n",
      "Layers: 4, Layer Multiplyer: 33, Batch size: 5, LR: 0.0029265043424195228, Optimizer: SGD, dropout: 0.023263822726453772\n",
      "Epoch: 0\n",
      " [=================================================>]  Step: 207ms | Tot: 1m21s | Loss: 0.85035, Dice-Coef: 0.1496 384/384 4  \n",
      "Training epoch error: \n",
      " Acc: 50.6%, Avg loss: 0.866096, Dice: 0.133904 \n",
      "\n",
      "\n",
      "\n",
      "<Validation>\n",
      " [===============================================>..]  Step: 89ms | Tot: 2s54ms | Loss: 0.85446, Dice-Coef: 0.1455 24/24  \n"
     ]
    },
    {
     "name": "stderr",
     "output_type": "stream",
     "text": [
      "\u001b[32m[I 2022-03-22 22:44:19,195]\u001b[0m Trial 25 pruned. \u001b[0m\n"
     ]
    },
    {
     "name": "stdout",
     "output_type": "stream",
     "text": [
      "Validation error: \n",
      " Acc: 94.3%, Avg loss: 0.854464, Dice: 0.145536 \n",
      "\n",
      "Layers: 4, Layer Multiplyer: 29, Batch size: 11, LR: 0.005675398370675976, Optimizer: Adam, dropout: 0.018075819776608566\n",
      "Epoch: 0\n",
      " [=================================================>]  Step: 374ms | Tot: 1m4s | Loss: 0.50300, Dice-Coef: 0.4970 174/174 74  \n",
      "Training epoch error: \n",
      " Acc: 96.8%, Avg loss: 0.616830, Dice: 0.383170 \n",
      "\n",
      "\n",
      "\n",
      "<Validation>\n",
      " [=============================================>....]  Step: 164ms | Tot: 1s457ms | Loss: 0.53194, Dice-Coef: 0.4680 10/10 \n",
      "Validation error: \n",
      " Acc: 97.5%, Avg loss: 0.531938, Dice: 0.468062 \n",
      "\n",
      "Epoch: 1\n",
      " [=================================================>]  Step: 385ms | Tot: 1m5s | Loss: 0.66260, Dice-Coef: 0.3374 174/174 74  \n",
      "Training epoch error: \n",
      " Acc: 98.9%, Avg loss: 0.517265, Dice: 0.482735 \n",
      "\n",
      "\n",
      "\n",
      "<Validation>\n",
      " [=============================================>....]  Step: 175ms | Tot: 1s525ms | Loss: 0.73731, Dice-Coef: 0.2626 10/10 \n",
      "Validation error: \n",
      " Acc: 98.9%, Avg loss: 0.737306, Dice: 0.262694 \n",
      "\n",
      "Epoch: 2\n",
      " [=================================================>]  Step: 370ms | Tot: 1m4s | Loss: 0.54261, Dice-Coef: 0.4573 174/174 74  \n",
      "Training epoch error: \n",
      " Acc: 98.9%, Avg loss: 0.493786, Dice: 0.506214 \n",
      "\n",
      "\n",
      "\n",
      "<Validation>\n",
      " [=============================================>....]  Step: 169ms | Tot: 1s533ms | Loss: 0.49638, Dice-Coef: 0.5036 10/10 \n",
      "Validation error: \n",
      " Acc: 98.8%, Avg loss: 0.496376, Dice: 0.503624 \n",
      "\n",
      "Epoch: 3\n",
      " [=================================================>]  Step: 371ms | Tot: 1m4s | Loss: 0.52852, Dice-Coef: 0.4714 174/174 74  \n",
      "Training epoch error: \n",
      " Acc: 99.0%, Avg loss: 0.483457, Dice: 0.516543 \n",
      "\n",
      "\n",
      "\n",
      "<Validation>\n",
      " [=============================================>....]  Step: 166ms | Tot: 1s536ms | Loss: 0.56653, Dice-Coef: 0.4334 10/10 \n",
      "Validation error: \n",
      " Acc: 98.9%, Avg loss: 0.566526, Dice: 0.433474 \n",
      "\n",
      "Epoch: 4\n",
      " [=================================================>]  Step: 376ms | Tot: 1m5s | Loss: 0.32521, Dice-Coef: 0.6747 174/174 74  \n",
      "Training epoch error: \n",
      " Acc: 99.1%, Avg loss: 0.466215, Dice: 0.533785 \n",
      "\n",
      "\n",
      "\n",
      "<Validation>\n",
      " [=============================================>....]  Step: 178ms | Tot: 1s546ms | Loss: 0.41743, Dice-Coef: 0.5825 10/10 \n",
      "Validation error: \n",
      " Acc: 98.7%, Avg loss: 0.417428, Dice: 0.582572 \n",
      "\n",
      "Epoch: 5\n",
      " [=================================================>]  Step: 369ms | Tot: 1m5s | Loss: 0.42007, Dice-Coef: 0.5799 174/174 74  \n",
      "Training epoch error: \n",
      " Acc: 99.1%, Avg loss: 0.446208, Dice: 0.553792 \n",
      "\n",
      "\n",
      "\n",
      "<Validation>\n",
      " [=============================================>....]  Step: 175ms | Tot: 1s574ms | Loss: 0.42732, Dice-Coef: 0.5726 10/10 \n"
     ]
    },
    {
     "name": "stderr",
     "output_type": "stream",
     "text": [
      "\u001b[32m[I 2022-03-22 22:51:01,220]\u001b[0m Trial 26 pruned. \u001b[0m\n"
     ]
    },
    {
     "name": "stdout",
     "output_type": "stream",
     "text": [
      "Validation error: \n",
      " Acc: 99.2%, Avg loss: 0.427323, Dice: 0.572677 \n",
      "\n",
      "Layers: 4, Layer Multiplyer: 37, Batch size: 7, LR: 2.4716252980784587e-05, Optimizer: SGD, dropout: 0.24076427724581295\n",
      "Epoch: 0\n",
      " [=================================================>]  Step: 311ms | Tot: 1m24s | Loss: 0.88787, Dice-Coef: 0.1121 274/274 4  \n",
      "Training epoch error: \n",
      " Acc: 49.9%, Avg loss: 0.892555, Dice: 0.107445 \n",
      "\n",
      "\n",
      "\n",
      "<Validation>\n",
      " [===============================================>..]  Step: 131ms | Tot: 2s59ms | Loss: 0.89304, Dice-Coef: 0.1069 17/17  \n"
     ]
    },
    {
     "name": "stderr",
     "output_type": "stream",
     "text": [
      "\u001b[32m[I 2022-03-22 22:52:28,303]\u001b[0m Trial 27 pruned. \u001b[0m\n"
     ]
    },
    {
     "name": "stdout",
     "output_type": "stream",
     "text": [
      "Validation error: \n",
      " Acc: 30.6%, Avg loss: 0.893037, Dice: 0.106963 \n",
      "\n",
      "Layers: 3, Layer Multiplyer: 25, Batch size: 13, LR: 0.0012625505187750024, Optimizer: Adam, dropout: 0.015144444561912357\n",
      "Epoch: 0\n",
      " [=================================================>]  Step: 367ms | Tot: 53s345ms | Loss: 0.68871, Dice-Coef: 0.3112 147/147 \n",
      "Training epoch error: \n",
      " Acc: 94.3%, Avg loss: 0.763960, Dice: 0.236040 \n",
      "\n",
      "\n",
      "\n",
      "<Validation>\n",
      " [============================================>.....]  Step: 180ms | Tot: 1s431ms | Loss: 0.67494, Dice-Coef: 0.3250 9/9 \n",
      "Validation error: \n",
      " Acc: 97.0%, Avg loss: 0.674945, Dice: 0.325055 \n",
      "\n",
      "Epoch: 1\n",
      " [=================================================>]  Step: 361ms | Tot: 53s489ms | Loss: 0.40625, Dice-Coef: 0.5937 147/147 \n",
      "Training epoch error: \n",
      " Acc: 98.8%, Avg loss: 0.560781, Dice: 0.439219 \n",
      "\n",
      "\n",
      "\n",
      "<Validation>\n",
      " [============================================>.....]  Step: 182ms | Tot: 1s459ms | Loss: 0.60779, Dice-Coef: 0.3922 9/9 \n",
      "Validation error: \n",
      " Acc: 98.9%, Avg loss: 0.607787, Dice: 0.392213 \n",
      "\n",
      "Epoch: 2\n",
      " [=================================================>]  Step: 364ms | Tot: 53s483ms | Loss: 0.52195, Dice-Coef: 0.4780 147/147 \n",
      "Training epoch error: \n",
      " Acc: 98.9%, Avg loss: 0.511451, Dice: 0.488549 \n",
      "\n",
      "\n",
      "\n",
      "<Validation>\n",
      " [============================================>.....]  Step: 191ms | Tot: 1s477ms | Loss: 0.53050, Dice-Coef: 0.4695 9/9 \n",
      "Validation error: \n",
      " Acc: 99.0%, Avg loss: 0.530498, Dice: 0.469502 \n",
      "\n",
      "Epoch: 3\n",
      " [=================================================>]  Step: 373ms | Tot: 53s412ms | Loss: 0.56494, Dice-Coef: 0.4350 147/147 \n",
      "Training epoch error: \n",
      " Acc: 99.0%, Avg loss: 0.479449, Dice: 0.520551 \n",
      "\n",
      "\n",
      "\n",
      "<Validation>\n",
      " [============================================>.....]  Step: 188ms | Tot: 1s508ms | Loss: 0.45571, Dice-Coef: 0.5442 9/9 \n",
      "Validation error: \n",
      " Acc: 98.3%, Avg loss: 0.455713, Dice: 0.544287 \n",
      "\n",
      "Epoch: 4\n",
      " [=================================================>]  Step: 361ms | Tot: 53s518ms | Loss: 0.39668, Dice-Coef: 0.6033 147/147 \n",
      "Training epoch error: \n",
      " Acc: 99.0%, Avg loss: 0.467715, Dice: 0.532285 \n",
      "\n",
      "\n",
      "\n",
      "<Validation>\n",
      " [============================================>.....]  Step: 182ms | Tot: 1s468ms | Loss: 0.51193, Dice-Coef: 0.4880 9/9 \n",
      "Validation error: \n",
      " Acc: 99.2%, Avg loss: 0.511934, Dice: 0.488066 \n",
      "\n",
      "Epoch: 5\n",
      " [=================================================>]  Step: 361ms | Tot: 53s452ms | Loss: 0.45263, Dice-Coef: 0.5473 147/147 \n",
      "Training epoch error: \n",
      " Acc: 99.0%, Avg loss: 0.452697, Dice: 0.547303 \n",
      "\n",
      "\n",
      "\n",
      "<Validation>\n",
      " [============================================>.....]  Step: 171ms | Tot: 1s450ms | Loss: 0.41835, Dice-Coef: 0.5816 9/9 \n"
     ]
    },
    {
     "name": "stderr",
     "output_type": "stream",
     "text": [
      "\u001b[32m[I 2022-03-22 22:58:01,238]\u001b[0m Trial 28 pruned. \u001b[0m\n"
     ]
    },
    {
     "name": "stdout",
     "output_type": "stream",
     "text": [
      "Validation error: \n",
      " Acc: 99.2%, Avg loss: 0.418349, Dice: 0.581651 \n",
      "\n",
      "Layers: 4, Layer Multiplyer: 22, Batch size: 7, LR: 0.024930597163470576, Optimizer: RMSprop, dropout: 0.07324488062862566\n",
      "Epoch: 0\n",
      " [=================================================>]  Step: 208ms | Tot: 57s24ms | Loss: 0.75025, Dice-Coef: 0.2497 274/274  ...........................]  Step: 201ms | Tot: 19s831ms | Loss: 0.75128, Dice-Coef: 0.2487 96/274 ====================>............]  Step: 200ms | Tot: 43s179ms | Loss: 0.75046, Dice-Coef: 0.2495 208/274 \n",
      "Training epoch error: \n",
      " Acc: 98.5%, Avg loss: 0.750950, Dice: 0.249050 \n",
      "\n",
      "\n",
      "\n",
      "<Validation>\n",
      " [============================================>.....]  Step: 100ms | Tot: 1s567ms | Loss: 0.75050, Dice-Coef: 0.2495 16/17 ====================================>..]  Step: 100ms | Tot: 1s668ms | Loss: 0.75093, Dice-Coef: 0.2490 17/17 \n"
     ]
    },
    {
     "name": "stderr",
     "output_type": "stream",
     "text": [
      "\u001b[32m[I 2022-03-22 22:59:00,421]\u001b[0m Trial 29 pruned. \u001b[0m\n"
     ]
    },
    {
     "name": "stdout",
     "output_type": "stream",
     "text": [
      "Validation error: \n",
      " Acc: 99.0%, Avg loss: 0.750934, Dice: 0.249066 \n",
      "\n",
      "Layers: 3, Layer Multiplyer: 29, Batch size: 5, LR: 0.0002659483963118121, Optimizer: SGD, dropout: 0.04185415439149543\n",
      "Epoch: 0\n",
      " [=================================================>]  Step: 222ms | Tot: 1m2s | Loss: 0.91299, Dice-Coef: 0.0870 384/384 84  \n",
      "Training epoch error: \n",
      " Acc: 0.6%, Avg loss: 0.910172, Dice: 0.089828 \n",
      "\n",
      "\n",
      "\n",
      "<Validation>\n",
      " [===============================================>..]  Step: 77ms | Tot: 1s784ms | Loss: 0.90922, Dice-Coef: 0.0907 24/24 \n"
     ]
    },
    {
     "name": "stderr",
     "output_type": "stream",
     "text": [
      "\u001b[32m[I 2022-03-22 23:00:04,678]\u001b[0m Trial 30 pruned. \u001b[0m\n"
     ]
    },
    {
     "name": "stdout",
     "output_type": "stream",
     "text": [
      "Validation error: \n",
      " Acc: 0.6%, Avg loss: 0.909224, Dice: 0.090776 \n",
      "\n",
      "Layers: 4, Layer Multiplyer: 27, Batch size: 9, LR: 0.0004938151068258121, Optimizer: Adam, dropout: 0.010694747379727927\n",
      "Epoch: 0\n",
      " [=================================================>]  Step: 295ms | Tot: 1m3s | Loss: 0.71477, Dice-Coef: 0.2852 213/213 13  \n",
      "Training epoch error: \n",
      " Acc: 92.5%, Avg loss: 0.774651, Dice: 0.225349 \n",
      "\n",
      "\n",
      "\n",
      "<Validation>\n",
      " [==============================================>...]  Step: 137ms | Tot: 1s638ms | Loss: 0.72862, Dice-Coef: 0.2713 13/13 \n",
      "Validation error: \n",
      " Acc: 95.0%, Avg loss: 0.728623, Dice: 0.271377 \n",
      "\n",
      "Epoch: 1\n",
      " [=================================================>]  Step: 294ms | Tot: 1m3s | Loss: 0.42261, Dice-Coef: 0.5773 213/213 13  \n",
      "Training epoch error: \n",
      " Acc: 98.5%, Avg loss: 0.594858, Dice: 0.405142 \n",
      "\n",
      "\n",
      "\n",
      "<Validation>\n",
      " [==============================================>...]  Step: 138ms | Tot: 1s637ms | Loss: 0.41210, Dice-Coef: 0.5879 13/13 \n",
      "Validation error: \n",
      " Acc: 99.1%, Avg loss: 0.412104, Dice: 0.587896 \n",
      "\n",
      "Epoch: 2\n",
      " [=================================================>]  Step: 295ms | Tot: 1m3s | Loss: 0.39977, Dice-Coef: 0.6002 213/213 13  \n",
      "Training epoch error: \n",
      " Acc: 99.0%, Avg loss: 0.489079, Dice: 0.510921 \n",
      "\n",
      "\n",
      "\n",
      "<Validation>\n",
      " [==============================================>...]  Step: 135ms | Tot: 1s640ms | Loss: 0.30718, Dice-Coef: 0.6928 13/13 \n",
      "Validation error: \n",
      " Acc: 97.7%, Avg loss: 0.307183, Dice: 0.692817 \n",
      "\n",
      "Epoch: 3\n",
      " [=================================================>]  Step: 302ms | Tot: 1m3s | Loss: 0.60782, Dice-Coef: 0.3921 213/213 13  \n",
      "Training epoch error: \n",
      " Acc: 99.1%, Avg loss: 0.454729, Dice: 0.545271 \n",
      "\n",
      "\n",
      "\n",
      "<Validation>\n",
      " [==============================================>...]  Step: 147ms | Tot: 1s662ms | Loss: 0.37014, Dice-Coef: 0.6298 13/13 \n",
      "Validation error: \n",
      " Acc: 99.1%, Avg loss: 0.370142, Dice: 0.629858 \n",
      "\n",
      "Epoch: 4\n",
      " [=================================================>]  Step: 301ms | Tot: 1m3s | Loss: 0.60731, Dice-Coef: 0.3926 213/213 13  \n",
      "Training epoch error: \n",
      " Acc: 99.2%, Avg loss: 0.424242, Dice: 0.575758 \n",
      "\n",
      "\n",
      "\n",
      "<Validation>\n",
      " [==============================================>...]  Step: 129ms | Tot: 1s657ms | Loss: 0.22470, Dice-Coef: 0.7753 13/13 \n",
      "Validation error: \n",
      " Acc: 99.4%, Avg loss: 0.224702, Dice: 0.775298 \n",
      "\n",
      "Epoch: 5\n",
      " [=================================================>]  Step: 293ms | Tot: 1m3s | Loss: 0.53179, Dice-Coef: 0.4682 213/213 13  \n",
      "Training epoch error: \n",
      " Acc: 99.3%, Avg loss: 0.405751, Dice: 0.594249 \n",
      "\n",
      "\n",
      "\n",
      "<Validation>\n",
      " [==============================================>...]  Step: 130ms | Tot: 1s640ms | Loss: 0.34013, Dice-Coef: 0.6598 13/13 \n",
      "Validation error: \n",
      " Acc: 99.3%, Avg loss: 0.340128, Dice: 0.659872 \n",
      "\n",
      "Epoch: 6\n",
      " [=================================================>]  Step: 293ms | Tot: 1m3s | Loss: 0.64634, Dice-Coef: 0.3536 213/213 13  \n",
      "Training epoch error: \n",
      " Acc: 99.3%, Avg loss: 0.399800, Dice: 0.600200 \n",
      "\n",
      "\n",
      "\n",
      "<Validation>\n",
      " [==============================================>...]  Step: 140ms | Tot: 1s733ms | Loss: 0.16963, Dice-Coef: 0.8303 13/13 \n",
      "Validation error: \n",
      " Acc: 99.4%, Avg loss: 0.169626, Dice: 0.830374 \n",
      "\n",
      "Epoch: 7\n",
      " [=================================================>]  Step: 297ms | Tot: 1m3s | Loss: 0.34459, Dice-Coef: 0.6554 213/213 13  \n",
      "Training epoch error: \n",
      " Acc: 99.3%, Avg loss: 0.397781, Dice: 0.602219 \n",
      "\n",
      "\n",
      "\n",
      "<Validation>\n",
      " [==============================================>...]  Step: 132ms | Tot: 1s644ms | Loss: 0.23919, Dice-Coef: 0.7608 13/13 \n",
      "Validation error: \n",
      " Acc: 99.4%, Avg loss: 0.239195, Dice: 0.760805 \n",
      "\n",
      "Epoch: 8\n",
      " [=================================================>]  Step: 293ms | Tot: 1m3s | Loss: 0.34284, Dice-Coef: 0.6571 213/213 13  \n",
      "Training epoch error: \n",
      " Acc: 99.3%, Avg loss: 0.395558, Dice: 0.604442 \n",
      "\n",
      "\n",
      "\n",
      "<Validation>\n",
      " [==============================================>...]  Step: 128ms | Tot: 1s630ms | Loss: 0.16675, Dice-Coef: 0.8332 13/13 \n",
      "Validation error: \n",
      " Acc: 99.4%, Avg loss: 0.166747, Dice: 0.833253 \n",
      "\n",
      "Epoch: 9\n",
      " [=================================================>]  Step: 294ms | Tot: 1m3s | Loss: 0.40282, Dice-Coef: 0.5971 213/213 13  \n",
      "Training epoch error: \n",
      " Acc: 99.3%, Avg loss: 0.385688, Dice: 0.614312 \n",
      "\n",
      "\n",
      "\n",
      "<Validation>\n",
      " [==============================================>...]  Step: 129ms | Tot: 1s629ms | Loss: 0.15249, Dice-Coef: 0.8475 13/13 \n",
      "Validation error: \n",
      " Acc: 99.5%, Avg loss: 0.152486, Dice: 0.847514 \n",
      "\n",
      "Epoch: 10\n",
      " [=================================================>]  Step: 300ms | Tot: 1m3s | Loss: 0.49870, Dice-Coef: 0.5013 213/213 13  \n",
      "Training epoch error: \n",
      " Acc: 99.4%, Avg loss: 0.370660, Dice: 0.629340 \n",
      "\n",
      "\n",
      "\n",
      "<Validation>\n",
      " [==============================================>...]  Step: 139ms | Tot: 1s616ms | Loss: 0.23151, Dice-Coef: 0.7684 13/13 \n",
      "Validation error: \n",
      " Acc: 99.4%, Avg loss: 0.231512, Dice: 0.768488 \n",
      "\n",
      "Epoch: 11\n",
      " [=================================================>]  Step: 303ms | Tot: 1m3s | Loss: 0.43673, Dice-Coef: 0.5632 213/213 13  \n",
      "Training epoch error: \n",
      " Acc: 99.4%, Avg loss: 0.361064, Dice: 0.638936 \n",
      "\n",
      "\n",
      "\n",
      "<Validation>\n",
      " [==============================================>...]  Step: 130ms | Tot: 1s630ms | Loss: 0.15073, Dice-Coef: 0.8492 13/13 \n",
      "Validation error: \n",
      " Acc: 99.5%, Avg loss: 0.150732, Dice: 0.849268 \n",
      "\n",
      "Epoch: 12\n",
      " [=================================================>]  Step: 296ms | Tot: 1m3s | Loss: 0.66045, Dice-Coef: 0.3395 213/213 13  \n",
      "Training epoch error: \n",
      " Acc: 99.4%, Avg loss: 0.357978, Dice: 0.642022 \n",
      "\n",
      "\n",
      "\n",
      "<Validation>\n",
      " [==============================================>...]  Step: 131ms | Tot: 1s625ms | Loss: 0.19079, Dice-Coef: 0.8092 13/13 \n",
      "Validation error: \n",
      " Acc: 99.4%, Avg loss: 0.190787, Dice: 0.809213 \n",
      "\n",
      "Epoch: 13\n",
      " [=================================================>]  Step: 301ms | Tot: 1m3s | Loss: 0.53450, Dice-Coef: 0.4655 213/213 13  \n",
      "Training epoch error: \n",
      " Acc: 99.4%, Avg loss: 0.349736, Dice: 0.650264 \n",
      "\n",
      "\n",
      "\n",
      "<Validation>\n",
      " [==============================================>...]  Step: 131ms | Tot: 1s652ms | Loss: 0.14028, Dice-Coef: 0.8597 13/13 \n",
      "Validation error: \n",
      " Acc: 99.5%, Avg loss: 0.140284, Dice: 0.859716 \n",
      "\n",
      "Epoch: 14\n",
      " [=================================================>]  Step: 290ms | Tot: 1m3s | Loss: 0.24256, Dice-Coef: 0.7574 213/213 13  \n",
      "Training epoch error: \n",
      " Acc: 99.4%, Avg loss: 0.347502, Dice: 0.652498 \n",
      "\n",
      "\n",
      "\n",
      "<Validation>\n",
      " [==============================================>...]  Step: 134ms | Tot: 1s661ms | Loss: 0.16073, Dice-Coef: 0.8392 13/13 \n",
      "Validation error: \n",
      " Acc: 99.5%, Avg loss: 0.160735, Dice: 0.839265 \n",
      "\n",
      "Epoch: 15\n",
      " [=================================================>]  Step: 302ms | Tot: 1m3s | Loss: 0.23482, Dice-Coef: 0.7651 213/213 13  \n",
      "Training epoch error: \n",
      " Acc: 99.4%, Avg loss: 0.338651, Dice: 0.661349 \n",
      "\n",
      "\n",
      "\n",
      "<Validation>\n",
      " [==============================================>...]  Step: 138ms | Tot: 1s644ms | Loss: 0.16230, Dice-Coef: 0.8377 13/13 \n",
      "Validation error: \n",
      " Acc: 99.4%, Avg loss: 0.162296, Dice: 0.837704 \n",
      "\n",
      "Epoch: 16\n",
      " [=================================================>]  Step: 297ms | Tot: 1m3s | Loss: 0.61179, Dice-Coef: 0.3882 213/213 13  \n",
      "Training epoch error: \n",
      " Acc: 99.4%, Avg loss: 0.340154, Dice: 0.659846 \n",
      "\n",
      "\n",
      "\n",
      "<Validation>\n",
      " [==============================================>...]  Step: 131ms | Tot: 1s661ms | Loss: 0.13309, Dice-Coef: 0.8669 13/13 \n",
      "Validation error: \n",
      " Acc: 99.5%, Avg loss: 0.133092, Dice: 0.866908 \n",
      "\n",
      "Epoch: 17\n",
      " [=================================================>]  Step: 285ms | Tot: 1m3s | Loss: 0.27351, Dice-Coef: 0.7264 213/213 13  \n",
      "Training epoch error: \n",
      " Acc: 99.5%, Avg loss: 0.331440, Dice: 0.668560 \n",
      "\n",
      "\n",
      "\n",
      "<Validation>\n",
      " [==============================================>...]  Step: 141ms | Tot: 1s524ms | Loss: 0.17042, Dice-Coef: 0.8295 13/13 \n",
      "Validation error: \n",
      " Acc: 99.5%, Avg loss: 0.170416, Dice: 0.829584 \n",
      "\n",
      "Epoch: 18\n",
      " [=================================================>]  Step: 284ms | Tot: 1m1s | Loss: 0.13775, Dice-Coef: 0.8622 213/213 13  \n",
      "Training epoch error: \n",
      " Acc: 99.5%, Avg loss: 0.318956, Dice: 0.681044 \n",
      "\n",
      "\n",
      "\n",
      "<Validation>\n",
      " [==============================================>...]  Step: 131ms | Tot: 1s577ms | Loss: 0.15753, Dice-Coef: 0.8424 13/13 \n"
     ]
    },
    {
     "name": "stderr",
     "output_type": "stream",
     "text": [
      "\u001b[32m[I 2022-03-22 23:20:52,359]\u001b[0m Trial 31 pruned. \u001b[0m\n"
     ]
    },
    {
     "name": "stdout",
     "output_type": "stream",
     "text": [
      "Validation error: \n",
      " Acc: 99.5%, Avg loss: 0.157526, Dice: 0.842474 \n",
      "\n",
      "Layers: 4, Layer Multiplyer: 28, Batch size: 9, LR: 0.0007673712152708573, Optimizer: Adam, dropout: 0.010272039862813102\n",
      "Epoch: 0\n",
      " [=================================================>]  Step: 303ms | Tot: 1m1s | Loss: 0.63724, Dice-Coef: 0.3627 213/213 13  \n",
      "Training epoch error: \n",
      " Acc: 94.4%, Avg loss: 0.750828, Dice: 0.249172 \n",
      "\n",
      "\n",
      "\n",
      "<Validation>\n",
      " [==============================================>...]  Step: 122ms | Tot: 1s569ms | Loss: 0.67142, Dice-Coef: 0.3285 13/13 \n",
      "Validation error: \n",
      " Acc: 96.2%, Avg loss: 0.671424, Dice: 0.328576 \n",
      "\n",
      "Epoch: 1\n",
      " [=================================================>]  Step: 295ms | Tot: 1m1s | Loss: 0.38344, Dice-Coef: 0.6165 213/213 13  \n",
      "Training epoch error: \n",
      " Acc: 98.8%, Avg loss: 0.544457, Dice: 0.455543 \n",
      "\n",
      "\n",
      "\n",
      "<Validation>\n",
      " [==============================================>...]  Step: 133ms | Tot: 1s600ms | Loss: 0.46295, Dice-Coef: 0.5370 13/13 \n",
      "Validation error: \n",
      " Acc: 98.9%, Avg loss: 0.462953, Dice: 0.537047 \n",
      "\n",
      "Epoch: 2\n",
      " [=================================================>]  Step: 289ms | Tot: 1m1s | Loss: 0.24190, Dice-Coef: 0.7581 213/213 13  \n",
      "Training epoch error: \n",
      " Acc: 99.0%, Avg loss: 0.469370, Dice: 0.530630 \n",
      "\n",
      "\n",
      "\n",
      "<Validation>\n",
      " [==============================================>...]  Step: 123ms | Tot: 1s544ms | Loss: 0.64694, Dice-Coef: 0.3530 13/13 \n",
      "Validation error: \n",
      " Acc: 99.1%, Avg loss: 0.646941, Dice: 0.353059 \n",
      "\n",
      "Epoch: 3\n",
      " [=================================================>]  Step: 296ms | Tot: 1m2s | Loss: 0.58716, Dice-Coef: 0.4128 213/213 13  \n",
      "Training epoch error: \n",
      " Acc: 99.1%, Avg loss: 0.441678, Dice: 0.558322 \n",
      "\n",
      "\n",
      "\n",
      "<Validation>\n",
      " [==============================================>...]  Step: 124ms | Tot: 1s560ms | Loss: 0.42222, Dice-Coef: 0.5777 13/13 \n",
      "Validation error: \n",
      " Acc: 99.2%, Avg loss: 0.422215, Dice: 0.577785 \n",
      "\n",
      "Epoch: 4\n",
      " [=================================================>]  Step: 291ms | Tot: 1m2s | Loss: 0.35895, Dice-Coef: 0.6410 213/213 13  \n",
      "Training epoch error: \n",
      " Acc: 99.2%, Avg loss: 0.430489, Dice: 0.569511 \n",
      "\n",
      "\n",
      "\n",
      "<Validation>\n",
      " [==============================================>...]  Step: 125ms | Tot: 1s581ms | Loss: 0.26008, Dice-Coef: 0.7399 13/13 \n",
      "Validation error: \n",
      " Acc: 99.2%, Avg loss: 0.260076, Dice: 0.739924 \n",
      "\n",
      "Epoch: 5\n",
      " [=================================================>]  Step: 286ms | Tot: 1m1s | Loss: 0.47912, Dice-Coef: 0.5208 213/213 13  \n",
      "Training epoch error: \n",
      " Acc: 99.2%, Avg loss: 0.415230, Dice: 0.584770 \n",
      "\n",
      "\n",
      "\n",
      "<Validation>\n",
      " [==============================================>...]  Step: 126ms | Tot: 1s551ms | Loss: 0.22237, Dice-Coef: 0.7776 13/13 \n",
      "Validation error: \n",
      " Acc: 99.3%, Avg loss: 0.222372, Dice: 0.777628 \n",
      "\n",
      "Epoch: 6\n",
      " [=================================================>]  Step: 298ms | Tot: 1m2s | Loss: 0.36316, Dice-Coef: 0.6368 213/213 13  \n",
      "Training epoch error: \n",
      " Acc: 99.2%, Avg loss: 0.414213, Dice: 0.585787 \n",
      "\n",
      "\n",
      "\n",
      "<Validation>\n",
      " [==============================================>...]  Step: 123ms | Tot: 1s550ms | Loss: 0.16888, Dice-Coef: 0.8311 13/13 \n",
      "Validation error: \n",
      " Acc: 99.3%, Avg loss: 0.168878, Dice: 0.831122 \n",
      "\n",
      "Epoch: 7\n",
      " [=================================================>]  Step: 288ms | Tot: 1m2s | Loss: 0.53263, Dice-Coef: 0.4673 213/213 13  \n",
      "Training epoch error: \n",
      " Acc: 99.3%, Avg loss: 0.396029, Dice: 0.603971 \n",
      "\n",
      "\n",
      "\n",
      "<Validation>\n",
      " [==============================================>...]  Step: 137ms | Tot: 1s610ms | Loss: 0.20590, Dice-Coef: 0.7941 13/13 \n",
      "Validation error: \n",
      " Acc: 99.3%, Avg loss: 0.205896, Dice: 0.794104 \n",
      "\n",
      "Epoch: 8\n",
      " [=================================================>]  Step: 310ms | Tot: 1m2s | Loss: 0.19888, Dice-Coef: 0.8011 213/213 13  \n",
      "Training epoch error: \n",
      " Acc: 99.3%, Avg loss: 0.402539, Dice: 0.597461 \n",
      "\n",
      "\n",
      "\n",
      "<Validation>\n",
      " [==============================================>...]  Step: 139ms | Tot: 1s586ms | Loss: 0.19629, Dice-Coef: 0.8037 13/13 \n"
     ]
    },
    {
     "name": "stderr",
     "output_type": "stream",
     "text": [
      "\u001b[32m[I 2022-03-22 23:30:28,649]\u001b[0m Trial 32 pruned. \u001b[0m\n"
     ]
    },
    {
     "name": "stdout",
     "output_type": "stream",
     "text": [
      "Validation error: \n",
      " Acc: 99.2%, Avg loss: 0.196292, Dice: 0.803708 \n",
      "\n",
      "Layers: 4, Layer Multiplyer: 31, Batch size: 11, LR: 0.00017503833521947327, Optimizer: Adam, dropout: 0.01274190485893624\n",
      "Epoch: 0\n",
      " [=================================================>]  Step: 361ms | Tot: 1m3s | Loss: 0.81026, Dice-Coef: 0.1897 174/174 74  \n",
      "Training epoch error: \n",
      " Acc: 76.8%, Avg loss: 0.843518, Dice: 0.156482 \n",
      "\n",
      "\n",
      "\n",
      "<Validation>\n",
      " [=============================================>....]  Step: 178ms | Tot: 1s463ms | Loss: 0.81206, Dice-Coef: 0.1879 10/10 \n"
     ]
    },
    {
     "name": "stderr",
     "output_type": "stream",
     "text": [
      "\u001b[32m[I 2022-03-22 23:31:34,405]\u001b[0m Trial 33 pruned. \u001b[0m\n"
     ]
    },
    {
     "name": "stdout",
     "output_type": "stream",
     "text": [
      "Validation error: \n",
      " Acc: 84.2%, Avg loss: 0.812060, Dice: 0.187940 \n",
      "\n",
      "Layers: 4, Layer Multiplyer: 25, Batch size: 6, LR: 0.0018788389632603778, Optimizer: Adam, dropout: 0.010156439698074787\n",
      "Epoch: 0\n",
      " [=================================================>]  Step: 187ms | Tot: 1m1s | Loss: 0.45193, Dice-Coef: 0.5480 320/320 20  ===============>........................]  Step: 201ms | Tot: 31s944ms | Loss: 0.60496, Dice-Coef: 0.3950 167/320 \n",
      "Training epoch error: \n",
      " Acc: 97.1%, Avg loss: 0.664374, Dice: 0.335626 \n",
      "\n",
      "\n",
      "\n",
      "<Validation>\n",
      " [===============================================>..]  Step: 85ms | Tot: 1s714ms | Loss: 0.49980, Dice-Coef: 0.5002 20/20  \n",
      "Validation error: \n",
      " Acc: 97.8%, Avg loss: 0.499803, Dice: 0.500197 \n",
      "\n",
      "Epoch: 1\n",
      " [=================================================>]  Step: 196ms | Tot: 1m3s | Loss: 0.28129, Dice-Coef: 0.7187 320/320 20  .............................]  Step: 200ms | Tot: 7s712ms | Loss: 0.75148, Dice-Coef: 0.2485 41/320 =============>....................................]  Step: 200ms | Tot: 16s737ms | Loss: 0.44833, Dice-Coef: 0.5516 86/32 140/320 =============>...........................]  Step: 201ms | Tot: 28s992ms | Loss: 0.70865, Dice-Coef: 0.2913 147/320 ================>..........................]  Step: 200ms | Tot: 29s794ms | Loss: 0.38035, Dice-Coef: 0.6196 151/320 =========>..........................]  Step: 200ms | Tot: 29s994ms | Loss: 0.68376, Dice-Coef: 0.3162 152/320 ====================>......................]  Step: 201ms | Tot: 35s328ms | Loss: 0.66210, Dice-Coef: 0.3379 179/320 196/320 =====================>..................]  Step: 200ms | Tot: 40s582ms | Loss: 0.70159, Dice-Coef: 0.2984 205/320 ============================>.................]  Step: 200ms | Tot: 40s782ms | Loss: 0.36765, Dice-Coef: 0.6323 206/320 =================>..............]  Step: 199ms | Tot: 45s926ms | Loss: 0.75139, Dice-Coef: 0.2486 231/320 =================================>.......]  Step: 200ms | Tot: 54s124ms | Loss: 0.42895, Dice-Coef: 0.5710 272/320 =========================>......]  Step: 201ms | Tot: 55s328ms | Loss: 0.73366, Dice-Coef: 0.2663 278/320 ============================================>.....]  Step: 201ms | Tot: 56s534ms | Loss: 0.46508, Dice-Coef: 0.5349 284/320 \n",
      "Training epoch error: \n",
      " Acc: 98.6%, Avg loss: 0.561978, Dice: 0.438022 \n",
      "\n",
      "\n",
      "\n",
      "<Validation>\n",
      " [===============================================>..]  Step: 92ms | Tot: 1s760ms | Loss: 0.50605, Dice-Coef: 0.4939 20/20 \n",
      "Validation error: \n",
      " Acc: 99.1%, Avg loss: 0.506053, Dice: 0.493947 \n",
      "\n",
      "Epoch: 2\n",
      " [=================================================>]  Step: 197ms | Tot: 1m3s | Loss: 0.74967, Dice-Coef: 0.2503 320/320 20  ..................................]  Step: 201ms | Tot: 1s594ms | Loss: 0.49813, Dice-Coef: 0.5018 9/320 ......................................]  Step: 200ms | Tot: 2s193ms | Loss: 0.36834, Dice-Coef: 0.6316 12/320 ====>.............................................]  Step: 203ms | Tot: 5s588ms | Loss: 0.42902, Dice-Coef: 0.5709 29/320 ...................................]  Step: 200ms | Tot: 14s964ms | Loss: 0.53226, Dice-Coef: 0.4677 76/320 ......................]  Step: 199ms | Tot: 20s169ms | Loss: 0.46500, Dice-Coef: 0.5350 102/320 ========>...........................]  Step: 201ms | Tot: 28s678ms | Loss: 0.70537, Dice-Coef: 0.2946 145/320 =============>...........................]  Step: 200ms | Tot: 29s82ms | Loss: 0.46263, Dice-Coef: 0.5373 147/320 ========>..........................]  Step: 199ms | Tot: 29s682ms | Loss: 0.55243, Dice-Coef: 0.4475 150/320 ===============>........................]  Step: 200ms | Tot: 32s276ms | Loss: 0.66251, Dice-Coef: 0.3374 163/320 ========================>.......................]  Step: 200ms | Tot: 33s476ms | Loss: 0.50732, Dice-Coef: 0.4926 169/320 ==============================>..............]  Step: 200ms | Tot: 44s856ms | Loss: 0.60789, Dice-Coef: 0.3921 226/320 ============================>........]  Step: 200ms | Tot: 52s818ms | Loss: 0.37894, Dice-Coef: 0.6210 266/320 ========================>......]  Step: 199ms | Tot: 55s394ms | Loss: 0.56114, Dice-Coef: 0.4388 279/320 \n",
      "Training epoch error: \n",
      " Acc: 98.7%, Avg loss: 0.541148, Dice: 0.458852 \n",
      "\n",
      "\n",
      "\n",
      "<Validation>\n",
      " [===============================================>..]  Step: 90ms | Tot: 1s784ms | Loss: 0.45150, Dice-Coef: 0.5485 20/20 \n",
      "Validation error: \n",
      " Acc: 99.1%, Avg loss: 0.451503, Dice: 0.548497 \n",
      "\n",
      "Epoch: 3\n",
      " [=================================================>]  Step: 198ms | Tot: 1m3s | Loss: 0.31806, Dice-Coef: 0.6819 320/320 20  ........................................]  Step: 201ms | Tot: 3s178ms | Loss: 0.53201, Dice-Coef: 0.4679 17/320 >........................................]  Step: 200ms | Tot: 11s979ms | Loss: 0.67250, Dice-Coef: 0.3275 61/320 .............................]  Step: 200ms | Tot: 18s182ms | Loss: 0.37555, Dice-Coef: 0.6244 92/320 ========>..............................]  Step: 200ms | Tot: 24s976ms | Loss: 0.46864, Dice-Coef: 0.5313 126/320 =======>............................]  Step: 200ms | Tot: 27s373ms | Loss: 0.59299, Dice-Coef: 0.4070 138/320 ===============>.........................]  Step: 200ms | Tot: 30s768ms | Loss: 0.68324, Dice-Coef: 0.3167 155/320 ================>.....................]  Step: 200ms | Tot: 36s735ms | Loss: 0.61986, Dice-Coef: 0.3801 185/320 ==========================>.........]  Step: 200ms | Tot: 51s694ms | Loss: 0.54403, Dice-Coef: 0.4559 260/320 =================================>.......]  Step: 200ms | Tot: 53s687ms | Loss: 0.52679, Dice-Coef: 0.4732 270/320 ==========================================>.......]  Step: 200ms | Tot: 54s285ms | Loss: 0.56727, Dice-Coef: 0.4327 273/320 297/32 308/320 ====================================>]  Step: 200ms | Tot: 1m3s | Loss: 0.41887, Dice-Coef: 0.5811 319/320 \n",
      "Training epoch error: \n",
      " Acc: 98.8%, Avg loss: 0.521164, Dice: 0.478836 \n",
      "\n",
      "\n",
      "\n",
      "<Validation>\n",
      " [===============================================>..]  Step: 92ms | Tot: 1s797ms | Loss: 0.39040, Dice-Coef: 0.6096 20/20 \n",
      "Validation error: \n",
      " Acc: 99.1%, Avg loss: 0.390395, Dice: 0.609605 \n",
      "\n",
      "Epoch: 4\n",
      " [=================================================>]  Step: 206ms | Tot: 1m3s | Loss: 0.75162, Dice-Coef: 0.2483 320/320 20  ..............................]  Step: 200ms | Tot: 12s597ms | Loss: 0.55743, Dice-Coef: 0.4425 64/320 >......................................]  Step: 201ms | Tot: 14s395ms | Loss: 0.59821, Dice-Coef: 0.4017 73/32 104/320 ======================>...........................]  Step: 200ms | Tot: 28s360ms | Loss: 0.75207, Dice-Coef: 0.2479 143/320 ===============>...........................]  Step: 200ms | Tot: 28s561ms | Loss: 0.40802, Dice-Coef: 0.5919 144/320 ===============>.......................]  Step: 200ms | Tot: 33s936ms | Loss: 0.38111, Dice-Coef: 0.6188 171/320 ======================>............]  Step: 200ms | Tot: 48s516ms | Loss: 0.62040, Dice-Coef: 0.3796 244/320 =================================>....]  Step: 200ms | Tot: 58s539ms | Loss: 0.56791, Dice-Coef: 0.4320 294/320 ========================================>]  Step: 200ms | Tot: 1m3s | Loss: 0.53853, Dice-Coef: 0.4614 317/320 \n",
      "Training epoch error: \n",
      " Acc: 98.9%, Avg loss: 0.505796, Dice: 0.494204 \n",
      "\n",
      "\n",
      "\n",
      "<Validation>\n",
      " [===============================================>..]  Step: 92ms | Tot: 1s768ms | Loss: 0.37616, Dice-Coef: 0.6238 20/20 \n"
     ]
    },
    {
     "name": "stderr",
     "output_type": "stream",
     "text": [
      "\u001b[32m[I 2022-03-22 23:37:00,986]\u001b[0m Trial 34 pruned. \u001b[0m\n"
     ]
    },
    {
     "name": "stdout",
     "output_type": "stream",
     "text": [
      "Validation error: \n",
      " Acc: 99.0%, Avg loss: 0.376157, Dice: 0.623843 \n",
      "\n",
      "Layers: 4, Layer Multiplyer: 22, Batch size: 9, LR: 9.228341055325633e-05, Optimizer: Adam, dropout: 0.15364996439734807\n",
      "Epoch: 0\n",
      " [=================================================>]  Step: 265ms | Tot: 57s200ms | Loss: 0.85466, Dice-Coef: 0.1453 213/213 \n",
      "Training epoch error: \n",
      " Acc: 44.6%, Avg loss: 0.876171, Dice: 0.123829 \n",
      "\n",
      "\n",
      "\n",
      "<Validation>\n",
      " [==============================================>...]  Step: 124ms | Tot: 1s576ms | Loss: 0.86323, Dice-Coef: 0.1367 13/13 \n"
     ]
    },
    {
     "name": "stderr",
     "output_type": "stream",
     "text": [
      "\u001b[32m[I 2022-03-22 23:38:00,273]\u001b[0m Trial 35 pruned. \u001b[0m\n"
     ]
    },
    {
     "name": "stdout",
     "output_type": "stream",
     "text": [
      "Validation error: \n",
      " Acc: 92.5%, Avg loss: 0.863231, Dice: 0.136769 \n",
      "\n",
      "Layers: 3, Layer Multiplyer: 31, Batch size: 17, LR: 1.0985407566410351e-05, Optimizer: RMSprop, dropout: 0.02323309925978669\n",
      "Epoch: 0\n",
      " [=================================================>]  Step: 505ms | Tot: 58s282ms | Loss: 0.86882, Dice-Coef: 0.1311 112/112 \n",
      "Training epoch error: \n",
      " Acc: 76.1%, Avg loss: 0.873165, Dice: 0.126835 \n",
      "\n",
      "\n",
      "\n",
      "<Validation>\n",
      " [==========================================>.......]  Step: 247ms | Tot: 1s461ms | Loss: 0.86399, Dice-Coef: 0.1360 7/7 \n"
     ]
    },
    {
     "name": "stderr",
     "output_type": "stream",
     "text": [
      "\u001b[32m[I 2022-03-22 23:39:00,841]\u001b[0m Trial 36 pruned. \u001b[0m\n"
     ]
    },
    {
     "name": "stdout",
     "output_type": "stream",
     "text": [
      "Validation error: \n",
      " Acc: 88.9%, Avg loss: 0.863994, Dice: 0.136006 \n",
      "\n",
      "Layers: 3, Layer Multiplyer: 24, Batch size: 8, LR: 0.00046446897709035876, Optimizer: SGD, dropout: 0.015706235650400916\n",
      "Epoch: 0\n",
      " [=================================================>]  Step: 225ms | Tot: 54s66ms | Loss: 0.89083, Dice-Coef: 0.1091 240/240  \n",
      "Training epoch error: \n",
      " Acc: 17.0%, Avg loss: 0.896014, Dice: 0.103986 \n",
      "\n",
      "\n",
      "\n",
      "<Validation>\n",
      " [==============================================>...]  Step: 119ms | Tot: 1s617ms | Loss: 0.89735, Dice-Coef: 0.1026 15/15 \n"
     ]
    },
    {
     "name": "stderr",
     "output_type": "stream",
     "text": [
      "\u001b[32m[I 2022-03-22 23:39:57,073]\u001b[0m Trial 37 pruned. \u001b[0m\n"
     ]
    },
    {
     "name": "stdout",
     "output_type": "stream",
     "text": [
      "Validation error: \n",
      " Acc: 41.1%, Avg loss: 0.897350, Dice: 0.102650 \n",
      "\n",
      "Layers: 4, Layer Multiplyer: 26, Batch size: 10, LR: 0.006370661646526448, Optimizer: Adam, dropout: 0.012185862680667967\n",
      "Epoch: 0\n",
      " [=================================================>]  Step: 321ms | Tot: 1m1s | Loss: 0.59719, Dice-Coef: 0.4028 192/192 92  \n",
      "Training epoch error: \n",
      " Acc: 97.3%, Avg loss: 0.622434, Dice: 0.377566 \n",
      "\n",
      "\n",
      "\n",
      "<Validation>\n",
      " [=============================================>....]  Step: 150ms | Tot: 1s600ms | Loss: 0.57568, Dice-Coef: 0.4243 12/12 \n",
      "Validation error: \n",
      " Acc: 96.8%, Avg loss: 0.575679, Dice: 0.424321 \n",
      "\n",
      "Epoch: 1\n",
      " [=================================================>]  Step: 331ms | Tot: 1m1s | Loss: 0.60303, Dice-Coef: 0.3969 192/192 92  \n",
      "Training epoch error: \n",
      " Acc: 98.9%, Avg loss: 0.530495, Dice: 0.469505 \n",
      "\n",
      "\n",
      "\n",
      "<Validation>\n",
      " [=============================================>....]  Step: 143ms | Tot: 1s612ms | Loss: 0.75015, Dice-Coef: 0.2498 12/12 \n",
      "Validation error: \n",
      " Acc: 99.0%, Avg loss: 0.750155, Dice: 0.249845 \n",
      "\n",
      "Epoch: 2\n",
      " [=================================================>]  Step: 313ms | Tot: 1m1s | Loss: 0.59523, Dice-Coef: 0.4047 192/192 92  \n",
      "Training epoch error: \n",
      " Acc: 98.8%, Avg loss: 0.522330, Dice: 0.477670 \n",
      "\n",
      "\n",
      "\n",
      "<Validation>\n",
      " [=============================================>....]  Step: 145ms | Tot: 1s619ms | Loss: 0.53559, Dice-Coef: 0.4644 12/12 \n",
      "Validation error: \n",
      " Acc: 99.1%, Avg loss: 0.535591, Dice: 0.464409 \n",
      "\n",
      "Epoch: 3\n",
      " [=================================================>]  Step: 313ms | Tot: 1m1s | Loss: 0.58932, Dice-Coef: 0.4106 192/192 92  \n",
      "Training epoch error: \n",
      " Acc: 98.9%, Avg loss: 0.501874, Dice: 0.498126 \n",
      "\n",
      "\n",
      "\n",
      "<Validation>\n",
      " [=============================================>....]  Step: 160ms | Tot: 1s667ms | Loss: 0.36592, Dice-Coef: 0.6340 12/12 \n",
      "Validation error: \n",
      " Acc: 98.6%, Avg loss: 0.365920, Dice: 0.634080 \n",
      "\n",
      "Epoch: 4\n",
      " [=================================================>]  Step: 331ms | Tot: 1m1s | Loss: 0.45196, Dice-Coef: 0.5480 192/192 92  \n",
      "Training epoch error: \n",
      " Acc: 98.9%, Avg loss: 0.487699, Dice: 0.512301 \n",
      "\n",
      "\n",
      "\n",
      "<Validation>\n",
      " [=============================================>....]  Step: 155ms | Tot: 1s622ms | Loss: 0.38939, Dice-Coef: 0.6106 12/12 \n"
     ]
    },
    {
     "name": "stderr",
     "output_type": "stream",
     "text": [
      "\u001b[32m[I 2022-03-22 23:45:15,017]\u001b[0m Trial 38 pruned. \u001b[0m\n"
     ]
    },
    {
     "name": "stdout",
     "output_type": "stream",
     "text": [
      "Validation error: \n",
      " Acc: 98.4%, Avg loss: 0.389392, Dice: 0.610608 \n",
      "\n",
      "Layers: 4, Layer Multiplyer: 33, Batch size: 5, LR: 0.03160486114416425, Optimizer: RMSprop, dropout: 0.027458891709853224\n",
      "Epoch: 0\n",
      " [=================================================>]  Step: 213ms | Tot: 1m22s | Loss: 0.75077, Dice-Coef: 0.2492 384/384 4  \n",
      "Training epoch error: \n",
      " Acc: 98.0%, Avg loss: 0.637512, Dice: 0.362488 \n",
      "\n",
      "\n",
      "\n",
      "<Validation>\n",
      " [===============================================>..]  Step: 95ms | Tot: 2s112ms | Loss: 0.75099, Dice-Coef: 0.2490 24/24 \n",
      "Validation error: \n",
      " Acc: 99.0%, Avg loss: 0.750992, Dice: 0.249008 \n",
      "\n",
      "Epoch: 1\n",
      " [=================================================>]  Step: 211ms | Tot: 1m22s | Loss: 0.75248, Dice-Coef: 0.2475 384/384 4  \n",
      "Training epoch error: \n",
      " Acc: 98.9%, Avg loss: 0.619206, Dice: 0.380794 \n",
      "\n",
      "\n",
      "\n",
      "<Validation>\n",
      " [===============================================>..]  Step: 91ms | Tot: 2s131ms | Loss: 0.75099, Dice-Coef: 0.2490 24/24  \n",
      "Validation error: \n",
      " Acc: 99.0%, Avg loss: 0.750992, Dice: 0.249008 \n",
      "\n",
      "Epoch: 2\n",
      " [=================================================>]  Step: 214ms | Tot: 1m22s | Loss: 0.25000, Dice-Coef: 0.7500 384/384 4  \n",
      "Training epoch error: \n",
      " Acc: 98.9%, Avg loss: 0.617251, Dice: 0.382749 \n",
      "\n",
      "\n",
      "\n",
      "<Validation>\n",
      " [===============================================>..]  Step: 90ms | Tot: 2s118ms | Loss: 0.75099, Dice-Coef: 0.2490 24/24 \n",
      "Validation error: \n",
      " Acc: 99.0%, Avg loss: 0.750992, Dice: 0.249008 \n",
      "\n",
      "Epoch: 3\n",
      " [=================================================>]  Step: 216ms | Tot: 1m22s | Loss: 0.75108, Dice-Coef: 0.2489 384/384 4  \n",
      "Training epoch error: \n",
      " Acc: 98.9%, Avg loss: 0.602925, Dice: 0.397075 \n",
      "\n",
      "\n",
      "\n",
      "<Validation>\n",
      " [===============================================>..]  Step: 90ms | Tot: 2s106ms | Loss: 0.75099, Dice-Coef: 0.2490 24/24 \n"
     ]
    },
    {
     "name": "stderr",
     "output_type": "stream",
     "text": [
      "\u001b[32m[I 2022-03-22 23:50:56,253]\u001b[0m Trial 39 pruned. \u001b[0m\n"
     ]
    },
    {
     "name": "stdout",
     "output_type": "stream",
     "text": [
      "Validation error: \n",
      " Acc: 99.0%, Avg loss: 0.750992, Dice: 0.249008 \n",
      "\n"
     ]
    }
   ],
   "source": [
    "\n",
    "\n",
    "\n",
    "\n",
    "def train(traindataload,net,optimizer, grad_sc,epoch,device):\n",
    "        \n",
    "        loss = 0\n",
    "        epoch_loss = 0\n",
    "        size=0\n",
    "        acc=0\n",
    "        nbatch = len(traindataload)\n",
    "        for idx, (inputs, targets) in enumerate(traindataload):\n",
    "                torch.cuda.empty_cache()\n",
    "                inputs, targets = inputs.to(device).to(memory_format=torch.contiguous_format), targets.to(device).to(memory_format=torch.contiguous_format)\n",
    "                outputs = net(inputs)\n",
    "                size += outputs.shape[0]*outputs.shape[2]*outputs.shape[3]\n",
    "                batch_loss = dice_loss(outputs.softmax(1),targets, multiclass=True)\n",
    "                optimizer.zero_grad()\n",
    "                grad_sc.scale(batch_loss).backward()\n",
    "                grad_sc.step(optimizer)\n",
    "                grad_sc.update()\n",
    "                loss = batch_loss.item()\n",
    "                epoch_loss += loss\n",
    "                acc += (outputs.argmax(1) == targets.argmax(1)).type(torch.float).sum().item()\n",
    "                progress_bar(idx, len(traindataload), 'Loss: %.5f, Dice-Coef: %.5f'\n",
    "                         %(loss, 1-loss))#(loss/(idx+1)), (1-(loss/(idx+1)))))\n",
    "                #log_msg = '\\n'.join(['Training (%d/%d): Epoch: %d, Loss: %.5f,  Dice-Coef:  %.5f' %(idx,nbatch, epoch,loss, 1-loss)])\n",
    "                #logging.info(log_msg)\n",
    "        epoch_loss /= nbatch\n",
    "        acc /= size\n",
    "        \n",
    "        print(f\"Training epoch error: \\n Acc: {(100*acc):>0.1f}%, Avg loss: {epoch_loss:>8f}, Dice: {(1-epoch_loss):>8f} \\n\")\n",
    "        \n",
    "        \n",
    "        \n",
    "def validation(validationload,net,epoch,device):\n",
    "        loss = 0\n",
    "        acc = 0\n",
    "        epoch_loss=0\n",
    "        size=0\n",
    "        nbatch = len(validationload)\n",
    "        net.eval()\n",
    "        with torch.no_grad():\n",
    "                for idx, (inputs, targets) in enumerate(validationload):\n",
    "                        inputs, targets = inputs.to(device), targets.to(device)\n",
    "                        outputs = net(inputs)\n",
    "                        batch_loss = dice_loss(outputs.softmax(1),targets, multiclass=True).item()\n",
    "                        loss = batch_loss\n",
    "                        epoch_loss +=loss\n",
    "                        acc += (outputs.argmax(1) == targets.argmax(1)).type(torch.float).sum().item()\n",
    "                        size += outputs.shape[0]*outputs.shape[2]*outputs.shape[3]\n",
    "            \n",
    "                        \n",
    "                        progress_bar(idx, len(validationload), 'Loss: %.5f, Dice-Coef: %.5f' %(loss, 1-loss))\n",
    "                        #log_msg = '\\n'.join(['Validation (%d/%d): Epoch: %d  Loss: %.5f,  Dice-Coef:  %.5f'\n",
    "                #%(idx, nbatch, epoch, loss, 1-loss)])\n",
    "                 #       logging.info(log_msg)\n",
    "        \n",
    "        epoch_loss /= nbatch\n",
    "        acc /= size\n",
    "        net.train()                \n",
    "        print(f\"Validation error: \\n Acc: {(100*acc):>0.1f}%, Avg loss: {loss:>8f}, Dice: {(1-loss):>8f} \\n\")\n",
    "        return epoch_loss, acc\n",
    "                                \n",
    "        \n",
    "        \n",
    "    \n",
    "def optumaParams(trial):\n",
    "        device = torch.device(\"cuda:0\" if torch.cuda.is_available() else \"cpu\")\n",
    "        config = {\n",
    "        \"layer_multipler\": trial.suggest_int(\"layer_multipler\", 16,42),\n",
    "        \"lr\": trial.suggest_loguniform(\"lr\", 1e-5, 1e-1),\n",
    "        \"drop_rate\": trial.suggest_loguniform(\"drop_rate\", 1e-2, 2.5e-1),\n",
    "        \"n_layers\": trial.suggest_int(\"n_layers\",3,4),\n",
    "        \"batch_size\": trial.suggest_int(\"batch_size\",4,20),\n",
    "        \"optimizer\": trial.suggest_categorical(\"optimizer\", [\"SGD\", \"Adam\", \"RMSprop\"])\n",
    "    }\n",
    "\n",
    "        \n",
    "        net = uNet(4,4, layer_multipler= config[\"layer_multipler\"], n_layers=config[\"n_layers\"],\n",
    "                   drop_rate=config[\"drop_rate\"], bilinear=True)\n",
    "        #print(f'Layer_Muti: {config[\"layer_multipler\"]}')\n",
    "        net = net.to(device)    \n",
    "        optimizer = getattr(optim, config[\"optimizer\"])(net.parameters(), lr=config[\"lr\"])\n",
    "        scheduler = torch.optim.lr_scheduler.ReduceLROnPlateau(optimizer, 'max', patience=2)  \n",
    "        \n",
    "        traindataload = data_load(file_path_train, batch_size = config[\"batch_size\"],datatype='Train')\n",
    "        validationload = data_load(file_path_validation,batch_size =  config[\"batch_size\"],datatype = 'Validation')\n",
    "        \n",
    "        print(f'Layers: {config[\"n_layers\"]}, Layer Multiplyer: {config[\"layer_multipler\"]}, Batch size: {config[\"batch_size\"]}, LR: {config[\"lr\"]}, Optimizer: {config[\"optimizer\"]}, dropout: {config[\"drop_rate\"]}')\n",
    "        #file_path_train = \"/home/jay/Documents/courses/Aicourse/Brats/HYPER/train/\"\n",
    "    \n",
    "    \n",
    "        #file_path_validation = \"/home/jay/Documents/courses/Aicourse/Brats/HYPER/validation/\"\n",
    "        #print('loading Data')\n",
    "    #net=NestedUNet(4,4, layer_multipler= config[\"layer_multipler\"])   #load_model(args, class_num=4, mode='train')\n",
    "    #optimizer = SGD(net.parameters(), lr=config[\"lr\"], momentum=0.9, weight_decay=1e-8)\n",
    "        \n",
    "    \n",
    "        \n",
    "        #traindataload = data_load(file_path_train, batch_size = config[\"batch_size\"],datatype='Train')\n",
    "        #validationload = data_load(file_path_validation,batch_size = config[\"batch_size\"],datatype = 'Validation')\n",
    "    \n",
    "        grad_sc = torch.cuda.amp.GradScaler(enabled=True)\n",
    "        \n",
    "        \n",
    "        \n",
    "        dice =1\n",
    "        nodice =0\n",
    "        for epoch in range(epochs):\n",
    "        # Train Model\n",
    "                print(f'Epoch: {epoch}')\n",
    "                train(traindataload,net,optimizer, grad_sc,epoch,device)\n",
    "                print('\\n\\n<Validation>')\n",
    "                [validloss, acc] = validation(validationload,net,epoch,device)\n",
    "                trial.report(validloss,epoch)\n",
    "                \n",
    "                if trial.should_prune():\n",
    "                    raise optuna.exceptions.TrialPruned()\n",
    "                    \n",
    "                if dice > validloss:\n",
    "                    \n",
    "                    dice = validloss\n",
    "                    nodice=0\n",
    "                    best_wei = net.state_dict()\n",
    "                    \n",
    "                elif dice < validloss:\n",
    "                    nodice+=1\n",
    "                    if nodice >3:\n",
    "                        early_stop=True\n",
    "                        torch.save(best_wei, 'uNET'+ str(trial.number)+'_earlystop.pth')\n",
    "                        return validloss\n",
    "        \n",
    "        model_save = 'model_save_trial' + str(trial.number) + '.pth'\n",
    "        torch.save(net.state_dict(), model_save)\n",
    "        torch.cuda.empty_cache()\n",
    "        return validloss   \n",
    "        \n",
    "\n",
    "        \n",
    "\n",
    "# In[5]:\n",
    "\n",
    "\n",
    "\n",
    "\n",
    "\n",
    "# In[ ]:\n",
    "\n",
    "\n",
    "\n",
    "#if __name__ == \"__main__\":\n",
    "file_path_train = \"/home/jay/Documents/courses/Aicourse/Brats/HYPER/train/\"\n",
    "    \n",
    "    \n",
    "file_path_validation = \"/home/jay/Documents/courses/Aicourse/Brats/HYPER/validation/\"\n",
    "    \n",
    "    \n",
    "    \n",
    "    \n",
    "    \n",
    "epochs = 20\n",
    "studyOptuma = optuna.create_study(direction=\"minimize\", sampler=optuna.samplers.TPESampler(),pruner=optuna.pruners.MedianPruner(), study_name='studyUnet',  )\n",
    "studyOptuma.optimize(optumaParams, n_trials=40, gc_after_trial=True)\n",
    "joblib.dump(studyOptuma, \"studyuNet.pkl\")\n",
    "torch.cuda.empty_cache()"
   ]
  },
  {
   "cell_type": "markdown",
   "metadata": {},
   "source": []
  },
  {
   "cell_type": "code",
   "execution_count": 5,
   "metadata": {},
   "outputs": [
    {
     "name": "stdout",
     "output_type": "stream",
     "text": [
      "Best trial until now: 21\n",
      " Params: \n",
      "    layer_multipler: 28\n",
      "    lr: 0.0004864966815635306\n",
      "    drop_rate: 0.01000895884293722\n",
      "    n_layers: 4\n",
      "    batch_size: 9\n",
      "    optimizer: Adam\n"
     ]
    }
   ],
   "source": [
    "study = joblib.load(\"studyuNet.pkl\")\n",
    "print(\"Best trial until now:\", study.best_trial.number)\n",
    "print(\" Params: \")\n",
    "for key, value in study.best_trial.params.items():\n",
    "    print(f\"    {key}: {value}\")"
   ]
  },
  {
   "cell_type": "markdown",
   "metadata": {},
   "source": []
  },
  {
   "cell_type": "code",
   "execution_count": 6,
   "metadata": {},
   "outputs": [
    {
     "data": {
      "application/vnd.plotly.v1+json": {
       "config": {
        "plotlyServerURL": "https://plot.ly"
       },
       "data": [
        {
         "marker": {
          "maxdisplayed": 10
         },
         "mode": "lines+markers",
         "name": "Trial0",
         "type": "scatter",
         "x": [
          0,
          1,
          2,
          3,
          4,
          5,
          6
         ],
         "y": [
          0.9078282117843628,
          0.9080276787281036,
          0.9073384612798691,
          0.9086780965328216,
          0.9084541887044907,
          0.9077686667442322,
          0.9079156190156936
         ]
        },
        {
         "marker": {
          "maxdisplayed": 10
         },
         "mode": "lines+markers",
         "name": "Trial1",
         "type": "scatter",
         "x": [
          0,
          1,
          2,
          3,
          4,
          5,
          6,
          7,
          8,
          9,
          10,
          11,
          12,
          13,
          14,
          15,
          16,
          17,
          18,
          19
         ],
         "y": [
          0.7512898359979902,
          0.751289861542838,
          0.7512897763933454,
          0.7512897763933454,
          0.7512897678783962,
          0.7512897678783962,
          0.7512897678783962,
          0.7539523669651577,
          0.7269053374017987,
          0.6949712038040161,
          0.6457672885486058,
          0.6551539812769208,
          0.6212608643940517,
          0.6103941372462681,
          0.6086325389998299,
          0.6361779570579529,
          0.6906633462224688,
          0.6444891606058393,
          0.6041444199425834,
          0.6022211057799203
         ]
        },
        {
         "marker": {
          "maxdisplayed": 10
         },
         "mode": "lines+markers",
         "name": "Trial2",
         "type": "scatter",
         "x": [
          0,
          1,
          2,
          3,
          4,
          5,
          6,
          7,
          8,
          9,
          10,
          11,
          12,
          13,
          14,
          15,
          16,
          17,
          18,
          19
         ],
         "y": [
          0.8266807168722152,
          0.7672052651643753,
          0.7117172211408616,
          0.661056712269783,
          0.6175440579652787,
          0.6147998094558715,
          0.5477160692214966,
          0.5267420709133148,
          0.5058129906654358,
          0.49518837928771975,
          0.6305674850940705,
          0.41567273437976837,
          0.4499844998121262,
          0.5009792119264602,
          0.5532672941684723,
          0.4042345225811005,
          0.4109092205762863,
          0.3829407304525375,
          0.40045115947723386,
          0.40245755612850187
         ]
        },
        {
         "marker": {
          "maxdisplayed": 10
         },
         "mode": "lines+markers",
         "name": "Trial3",
         "type": "scatter",
         "x": [
          0,
          1,
          2,
          3,
          4,
          5,
          6,
          7,
          8,
          9,
          10,
          11,
          12,
          13,
          14,
          15
         ],
         "y": [
          0.7292326092720032,
          0.6413310209910075,
          0.6362062215805053,
          0.5499251127243042,
          0.5260124802589417,
          0.4650737762451172,
          0.46635468006134034,
          0.3846122543017069,
          0.40613611936569216,
          0.3857946515083313,
          0.3650386412938436,
          0.32400434017181395,
          0.3779066880544027,
          0.3479245106379191,
          0.3621009667714437,
          0.3270519971847534
         ]
        },
        {
         "marker": {
          "maxdisplayed": 10
         },
         "mode": "lines+markers",
         "name": "Trial4",
         "type": "scatter",
         "x": [
          0,
          1,
          2,
          3,
          4,
          5,
          6,
          7,
          8,
          9,
          10,
          11,
          12
         ],
         "y": [
          0.6272650599479676,
          0.6238239705562592,
          0.7000797033309937,
          0.6152188301086425,
          0.6016466200351716,
          0.6024087071418762,
          0.6236195981502533,
          0.5583772361278534,
          0.5529135882854461,
          0.591168475151062,
          0.5625289380550385,
          0.6163862943649292,
          0.5668200492858887
         ]
        },
        {
         "marker": {
          "maxdisplayed": 10
         },
         "mode": "lines+markers",
         "name": "Trial5",
         "type": "scatter",
         "x": [
          0,
          1,
          2,
          3,
          4,
          5,
          6,
          7
         ],
         "y": [
          0.6050495877861977,
          0.5961607843637466,
          0.5893925428390503,
          0.6457188129425049,
          0.5810116529464722,
          0.6071110442280769,
          0.5856394991278648,
          0.5749206617474556
         ]
        },
        {
         "marker": {
          "maxdisplayed": 10
         },
         "mode": "lines+markers",
         "name": "Trial6",
         "type": "scatter",
         "x": [
          0
         ],
         "y": [
          0.7766926209131877
         ]
        },
        {
         "marker": {
          "maxdisplayed": 10
         },
         "mode": "lines+markers",
         "name": "Trial7",
         "type": "scatter",
         "x": [
          0
         ],
         "y": [
          0.8120064397652944
         ]
        },
        {
         "marker": {
          "maxdisplayed": 10
         },
         "mode": "lines+markers",
         "name": "Trial8",
         "type": "scatter",
         "x": [
          0,
          1,
          2,
          3,
          4,
          5,
          6,
          7,
          8,
          9,
          10,
          11
         ],
         "y": [
          0.6346039672692617,
          0.6060948471228281,
          0.5916499296824137,
          0.5778979510068893,
          0.5707271248102188,
          0.5420872966448466,
          0.5820408215125402,
          0.5625985711812973,
          0.5249599466721216,
          0.5826348016659418,
          0.6014662434657415,
          0.5938072750965754
         ]
        },
        {
         "marker": {
          "maxdisplayed": 10
         },
         "mode": "lines+markers",
         "name": "Trial9",
         "type": "scatter",
         "x": [
          0,
          1,
          2,
          3,
          4,
          5,
          6,
          7,
          8
         ],
         "y": [
          0.7369420180718104,
          0.5418208787838618,
          0.45285656054814655,
          0.395936240752538,
          0.37701434393723804,
          0.3775036583344142,
          0.41269299884637195,
          0.3928349167108536,
          0.3793478359778722
         ]
        },
        {
         "marker": {
          "maxdisplayed": 10
         },
         "mode": "lines+markers",
         "name": "Trial10",
         "type": "scatter",
         "x": [
          0
         ],
         "y": [
          0.893783688545227
         ]
        },
        {
         "marker": {
          "maxdisplayed": 10
         },
         "mode": "lines+markers",
         "name": "Trial11",
         "type": "scatter",
         "x": [
          0,
          1,
          2,
          3,
          4,
          5,
          6,
          7,
          8,
          9,
          10,
          11,
          12,
          13,
          14,
          15,
          16,
          17,
          18,
          19
         ],
         "y": [
          0.7251450969622686,
          0.6578485186283405,
          0.47180689298189604,
          0.5975417769872226,
          0.44975324318959164,
          0.42889260328733003,
          0.39324668737558216,
          0.4234844721280612,
          0.37645071286421555,
          0.33871126633424026,
          0.3950675909335797,
          0.34431769297673154,
          0.33677156613423276,
          0.37452056316229015,
          0.3519997321642362,
          0.32895763562275815,
          0.3938802205599271,
          0.3432609759844266,
          0.3340169879106375,
          0.3303191799383897
         ]
        },
        {
         "marker": {
          "maxdisplayed": 10
         },
         "mode": "lines+markers",
         "name": "Trial12",
         "type": "scatter",
         "x": [
          0,
          1,
          2,
          3,
          4,
          5,
          6,
          7,
          8,
          9,
          10,
          11,
          12,
          13,
          14,
          15,
          16,
          17,
          18
         ],
         "y": [
          0.7041972600496732,
          0.5778212134654706,
          0.4554851926290072,
          0.451513423369481,
          0.47932114050938535,
          0.44935142535429734,
          0.4212554143025325,
          0.4289357387102567,
          0.3786389552629911,
          0.3461993932723999,
          0.3725636372199425,
          0.3696125333125775,
          0.39081143415891206,
          0.3393300909262437,
          0.3104439102686368,
          0.3924177655806908,
          0.3536825409302345,
          0.3227482025439923,
          0.3348881739836473
         ]
        },
        {
         "marker": {
          "maxdisplayed": 10
         },
         "mode": "lines+markers",
         "name": "Trial13",
         "type": "scatter",
         "x": [
          0
         ],
         "y": [
          0.7676686684290568
         ]
        },
        {
         "marker": {
          "maxdisplayed": 10
         },
         "mode": "lines+markers",
         "name": "Trial14",
         "type": "scatter",
         "x": [
          0
         ],
         "y": [
          0.8855790793895721
         ]
        },
        {
         "marker": {
          "maxdisplayed": 10
         },
         "mode": "lines+markers",
         "name": "Trial15",
         "type": "scatter",
         "x": [
          0,
          1,
          2,
          3,
          4
         ],
         "y": [
          0.6300693899393082,
          0.5672862976789474,
          0.844031997025013,
          0.5935784429311752,
          0.5970354750752449
         ]
        },
        {
         "marker": {
          "maxdisplayed": 10
         },
         "mode": "lines+markers",
         "name": "Trial16",
         "type": "scatter",
         "x": [
          0
         ],
         "y": [
          0.8951551177922417
         ]
        },
        {
         "marker": {
          "maxdisplayed": 10
         },
         "mode": "lines+markers",
         "name": "Trial17",
         "type": "scatter",
         "x": [
          0
         ],
         "y": [
          0.8802148401737213
         ]
        },
        {
         "marker": {
          "maxdisplayed": 10
         },
         "mode": "lines+markers",
         "name": "Trial18",
         "type": "scatter",
         "x": [
          0
         ],
         "y": [
          0.8712807819247246
         ]
        },
        {
         "marker": {
          "maxdisplayed": 10
         },
         "mode": "lines+markers",
         "name": "Trial19",
         "type": "scatter",
         "x": [
          0,
          1,
          2,
          3,
          4,
          5,
          6,
          7
         ],
         "y": [
          0.5970643440882365,
          0.5376853942871094,
          0.5022694587707519,
          0.5070001284281412,
          0.4943610151608785,
          0.46063300768534343,
          0.4666837255160014,
          0.4720810135205587
         ]
        },
        {
         "marker": {
          "maxdisplayed": 10
         },
         "mode": "lines+markers",
         "name": "Trial20",
         "type": "scatter",
         "x": [
          0,
          1,
          2,
          3,
          4,
          5,
          6
         ],
         "y": [
          0.7315959751605987,
          0.6247368216514587,
          0.5736864000558853,
          0.5937553435564041,
          0.5206539064645768,
          0.5327736794948578,
          0.5233585745096206
         ]
        },
        {
         "marker": {
          "maxdisplayed": 10
         },
         "mode": "lines+markers",
         "name": "Trial21",
         "type": "scatter",
         "x": [
          0,
          1,
          2,
          3,
          4,
          5,
          6,
          7,
          8,
          9,
          10,
          11,
          12,
          13,
          14,
          15,
          16,
          17,
          18,
          19
         ],
         "y": [
          0.702655567572667,
          0.5564521321883569,
          0.4484629722741934,
          0.4678047849581792,
          0.43878278823999256,
          0.4488288393387428,
          0.38029301166534424,
          0.3945529552606436,
          0.3782879435099088,
          0.3728961761181171,
          0.35484998042766863,
          0.3345926908346323,
          0.3514931110235361,
          0.3569264045128456,
          0.317090589266557,
          0.321689628637754,
          0.34005911075151884,
          0.32819260083712065,
          0.3159031913830684,
          0.3263024275119488
         ]
        },
        {
         "marker": {
          "maxdisplayed": 10
         },
         "mode": "lines+markers",
         "name": "Trial22",
         "type": "scatter",
         "x": [
          0
         ],
         "y": [
          0.8187641088779156
         ]
        },
        {
         "marker": {
          "maxdisplayed": 10
         },
         "mode": "lines+markers",
         "name": "Trial23",
         "type": "scatter",
         "x": [
          0
         ],
         "y": [
          0.7871273855368296
         ]
        },
        {
         "marker": {
          "maxdisplayed": 10
         },
         "mode": "lines+markers",
         "name": "Trial24",
         "type": "scatter",
         "x": [
          0,
          1,
          2,
          3,
          4,
          5,
          6,
          7
         ],
         "y": [
          0.7037394483884175,
          0.5800641059875489,
          0.5004398465156555,
          0.4713635166486104,
          0.447754967212677,
          0.48348040183385216,
          0.4912455956141154,
          0.43525211413701376
         ]
        },
        {
         "marker": {
          "maxdisplayed": 10
         },
         "mode": "lines+markers",
         "name": "Trial25",
         "type": "scatter",
         "x": [
          0
         ],
         "y": [
          0.8542705476284027
         ]
        },
        {
         "marker": {
          "maxdisplayed": 10
         },
         "mode": "lines+markers",
         "name": "Trial26",
         "type": "scatter",
         "x": [
          0,
          1,
          2,
          3,
          4,
          5
         ],
         "y": [
          0.6008691847324371,
          0.6419720590114594,
          0.5070199012756348,
          0.5873398602008819,
          0.5187696576118469,
          0.4871809661388397
         ]
        },
        {
         "marker": {
          "maxdisplayed": 10
         },
         "mode": "lines+markers",
         "name": "Trial27",
         "type": "scatter",
         "x": [
          0
         ],
         "y": [
          0.8907297989901375
         ]
        },
        {
         "marker": {
          "maxdisplayed": 10
         },
         "mode": "lines+markers",
         "name": "Trial28",
         "type": "scatter",
         "x": [
          0,
          1,
          2,
          3,
          4,
          5
         ],
         "y": [
          0.6759486728244357,
          0.6316935022672018,
          0.5634937617513869,
          0.5394136706988016,
          0.5223601659138998,
          0.4783296187718709
         ]
        },
        {
         "marker": {
          "maxdisplayed": 10
         },
         "mode": "lines+markers",
         "name": "Trial29",
         "type": "scatter",
         "x": [
          0
         ],
         "y": [
          0.7512931297807133
         ]
        },
        {
         "marker": {
          "maxdisplayed": 10
         },
         "mode": "lines+markers",
         "name": "Trial30",
         "type": "scatter",
         "x": [
          0
         ],
         "y": [
          0.9072626382112503
         ]
        },
        {
         "marker": {
          "maxdisplayed": 10
         },
         "mode": "lines+markers",
         "name": "Trial31",
         "type": "scatter",
         "x": [
          0,
          1,
          2,
          3,
          4,
          5,
          6,
          7,
          8,
          9,
          10,
          11,
          12,
          13,
          14,
          15,
          16,
          17,
          18
         ],
         "y": [
          0.7187523062412555,
          0.549176940551171,
          0.5173761111039382,
          0.4956183112584628,
          0.4495740028528067,
          0.5202329388031592,
          0.4303447099832388,
          0.4050081509810228,
          0.39085479424549985,
          0.36784053307313186,
          0.47921817577802217,
          0.3839852030460651,
          0.3636781435746413,
          0.3691928753486046,
          0.3464102790905879,
          0.3742954318340008,
          0.34143160856687105,
          0.3464430066255423,
          0.34764713048934937
         ]
        },
        {
         "marker": {
          "maxdisplayed": 10
         },
         "mode": "lines+markers",
         "name": "Trial32",
         "type": "scatter",
         "x": [
          0,
          1,
          2,
          3,
          4,
          5,
          6,
          7,
          8
         ],
         "y": [
          0.6776284346213708,
          0.52240572984402,
          0.6273765151317303,
          0.5335313310989966,
          0.4614428373483511,
          0.49562278160682094,
          0.4606647537304805,
          0.4073547904308026,
          0.400955278139848
         ]
        },
        {
         "marker": {
          "maxdisplayed": 10
         },
         "mode": "lines+markers",
         "name": "Trial33",
         "type": "scatter",
         "x": [
          0
         ],
         "y": [
          0.8091284155845642
         ]
        },
        {
         "marker": {
          "maxdisplayed": 10
         },
         "mode": "lines+markers",
         "name": "Trial34",
         "type": "scatter",
         "x": [
          0,
          1,
          2,
          3,
          4
         ],
         "y": [
          0.6181467324495316,
          0.5863120526075363,
          0.5837285846471787,
          0.5413521587848663,
          0.5676671743392945
         ]
        },
        {
         "marker": {
          "maxdisplayed": 10
         },
         "mode": "lines+markers",
         "name": "Trial35",
         "type": "scatter",
         "x": [
          0
         ],
         "y": [
          0.860716489645151
         ]
        },
        {
         "marker": {
          "maxdisplayed": 10
         },
         "mode": "lines+markers",
         "name": "Trial36",
         "type": "scatter",
         "x": [
          0
         ],
         "y": [
          0.8632725477218628
         ]
        },
        {
         "marker": {
          "maxdisplayed": 10
         },
         "mode": "lines+markers",
         "name": "Trial37",
         "type": "scatter",
         "x": [
          0
         ],
         "y": [
          0.8916763623555501
         ]
        },
        {
         "marker": {
          "maxdisplayed": 10
         },
         "mode": "lines+markers",
         "name": "Trial38",
         "type": "scatter",
         "x": [
          0,
          1,
          2,
          3,
          4
         ],
         "y": [
          0.6349372913440069,
          0.7052096575498581,
          0.5882167319456736,
          0.5332468748092651,
          0.5369658172130585
         ]
        },
        {
         "marker": {
          "maxdisplayed": 10
         },
         "mode": "lines+markers",
         "name": "Trial39",
         "type": "scatter",
         "x": [
          0,
          1,
          2,
          3
         ],
         "y": [
          0.6158662587404251,
          0.6158655484517416,
          0.6158654938141505,
          0.615865483880043
         ]
        }
       ],
       "layout": {
        "showlegend": false,
        "template": {
         "data": {
          "bar": [
           {
            "error_x": {
             "color": "#2a3f5f"
            },
            "error_y": {
             "color": "#2a3f5f"
            },
            "marker": {
             "line": {
              "color": "#E5ECF6",
              "width": 0.5
             },
             "pattern": {
              "fillmode": "overlay",
              "size": 10,
              "solidity": 0.2
             }
            },
            "type": "bar"
           }
          ],
          "barpolar": [
           {
            "marker": {
             "line": {
              "color": "#E5ECF6",
              "width": 0.5
             },
             "pattern": {
              "fillmode": "overlay",
              "size": 10,
              "solidity": 0.2
             }
            },
            "type": "barpolar"
           }
          ],
          "carpet": [
           {
            "aaxis": {
             "endlinecolor": "#2a3f5f",
             "gridcolor": "white",
             "linecolor": "white",
             "minorgridcolor": "white",
             "startlinecolor": "#2a3f5f"
            },
            "baxis": {
             "endlinecolor": "#2a3f5f",
             "gridcolor": "white",
             "linecolor": "white",
             "minorgridcolor": "white",
             "startlinecolor": "#2a3f5f"
            },
            "type": "carpet"
           }
          ],
          "choropleth": [
           {
            "colorbar": {
             "outlinewidth": 0,
             "ticks": ""
            },
            "type": "choropleth"
           }
          ],
          "contour": [
           {
            "colorbar": {
             "outlinewidth": 0,
             "ticks": ""
            },
            "colorscale": [
             [
              0,
              "#0d0887"
             ],
             [
              0.1111111111111111,
              "#46039f"
             ],
             [
              0.2222222222222222,
              "#7201a8"
             ],
             [
              0.3333333333333333,
              "#9c179e"
             ],
             [
              0.4444444444444444,
              "#bd3786"
             ],
             [
              0.5555555555555556,
              "#d8576b"
             ],
             [
              0.6666666666666666,
              "#ed7953"
             ],
             [
              0.7777777777777778,
              "#fb9f3a"
             ],
             [
              0.8888888888888888,
              "#fdca26"
             ],
             [
              1,
              "#f0f921"
             ]
            ],
            "type": "contour"
           }
          ],
          "contourcarpet": [
           {
            "colorbar": {
             "outlinewidth": 0,
             "ticks": ""
            },
            "type": "contourcarpet"
           }
          ],
          "heatmap": [
           {
            "colorbar": {
             "outlinewidth": 0,
             "ticks": ""
            },
            "colorscale": [
             [
              0,
              "#0d0887"
             ],
             [
              0.1111111111111111,
              "#46039f"
             ],
             [
              0.2222222222222222,
              "#7201a8"
             ],
             [
              0.3333333333333333,
              "#9c179e"
             ],
             [
              0.4444444444444444,
              "#bd3786"
             ],
             [
              0.5555555555555556,
              "#d8576b"
             ],
             [
              0.6666666666666666,
              "#ed7953"
             ],
             [
              0.7777777777777778,
              "#fb9f3a"
             ],
             [
              0.8888888888888888,
              "#fdca26"
             ],
             [
              1,
              "#f0f921"
             ]
            ],
            "type": "heatmap"
           }
          ],
          "heatmapgl": [
           {
            "colorbar": {
             "outlinewidth": 0,
             "ticks": ""
            },
            "colorscale": [
             [
              0,
              "#0d0887"
             ],
             [
              0.1111111111111111,
              "#46039f"
             ],
             [
              0.2222222222222222,
              "#7201a8"
             ],
             [
              0.3333333333333333,
              "#9c179e"
             ],
             [
              0.4444444444444444,
              "#bd3786"
             ],
             [
              0.5555555555555556,
              "#d8576b"
             ],
             [
              0.6666666666666666,
              "#ed7953"
             ],
             [
              0.7777777777777778,
              "#fb9f3a"
             ],
             [
              0.8888888888888888,
              "#fdca26"
             ],
             [
              1,
              "#f0f921"
             ]
            ],
            "type": "heatmapgl"
           }
          ],
          "histogram": [
           {
            "marker": {
             "pattern": {
              "fillmode": "overlay",
              "size": 10,
              "solidity": 0.2
             }
            },
            "type": "histogram"
           }
          ],
          "histogram2d": [
           {
            "colorbar": {
             "outlinewidth": 0,
             "ticks": ""
            },
            "colorscale": [
             [
              0,
              "#0d0887"
             ],
             [
              0.1111111111111111,
              "#46039f"
             ],
             [
              0.2222222222222222,
              "#7201a8"
             ],
             [
              0.3333333333333333,
              "#9c179e"
             ],
             [
              0.4444444444444444,
              "#bd3786"
             ],
             [
              0.5555555555555556,
              "#d8576b"
             ],
             [
              0.6666666666666666,
              "#ed7953"
             ],
             [
              0.7777777777777778,
              "#fb9f3a"
             ],
             [
              0.8888888888888888,
              "#fdca26"
             ],
             [
              1,
              "#f0f921"
             ]
            ],
            "type": "histogram2d"
           }
          ],
          "histogram2dcontour": [
           {
            "colorbar": {
             "outlinewidth": 0,
             "ticks": ""
            },
            "colorscale": [
             [
              0,
              "#0d0887"
             ],
             [
              0.1111111111111111,
              "#46039f"
             ],
             [
              0.2222222222222222,
              "#7201a8"
             ],
             [
              0.3333333333333333,
              "#9c179e"
             ],
             [
              0.4444444444444444,
              "#bd3786"
             ],
             [
              0.5555555555555556,
              "#d8576b"
             ],
             [
              0.6666666666666666,
              "#ed7953"
             ],
             [
              0.7777777777777778,
              "#fb9f3a"
             ],
             [
              0.8888888888888888,
              "#fdca26"
             ],
             [
              1,
              "#f0f921"
             ]
            ],
            "type": "histogram2dcontour"
           }
          ],
          "mesh3d": [
           {
            "colorbar": {
             "outlinewidth": 0,
             "ticks": ""
            },
            "type": "mesh3d"
           }
          ],
          "parcoords": [
           {
            "line": {
             "colorbar": {
              "outlinewidth": 0,
              "ticks": ""
             }
            },
            "type": "parcoords"
           }
          ],
          "pie": [
           {
            "automargin": true,
            "type": "pie"
           }
          ],
          "scatter": [
           {
            "marker": {
             "colorbar": {
              "outlinewidth": 0,
              "ticks": ""
             }
            },
            "type": "scatter"
           }
          ],
          "scatter3d": [
           {
            "line": {
             "colorbar": {
              "outlinewidth": 0,
              "ticks": ""
             }
            },
            "marker": {
             "colorbar": {
              "outlinewidth": 0,
              "ticks": ""
             }
            },
            "type": "scatter3d"
           }
          ],
          "scattercarpet": [
           {
            "marker": {
             "colorbar": {
              "outlinewidth": 0,
              "ticks": ""
             }
            },
            "type": "scattercarpet"
           }
          ],
          "scattergeo": [
           {
            "marker": {
             "colorbar": {
              "outlinewidth": 0,
              "ticks": ""
             }
            },
            "type": "scattergeo"
           }
          ],
          "scattergl": [
           {
            "marker": {
             "colorbar": {
              "outlinewidth": 0,
              "ticks": ""
             }
            },
            "type": "scattergl"
           }
          ],
          "scattermapbox": [
           {
            "marker": {
             "colorbar": {
              "outlinewidth": 0,
              "ticks": ""
             }
            },
            "type": "scattermapbox"
           }
          ],
          "scatterpolar": [
           {
            "marker": {
             "colorbar": {
              "outlinewidth": 0,
              "ticks": ""
             }
            },
            "type": "scatterpolar"
           }
          ],
          "scatterpolargl": [
           {
            "marker": {
             "colorbar": {
              "outlinewidth": 0,
              "ticks": ""
             }
            },
            "type": "scatterpolargl"
           }
          ],
          "scatterternary": [
           {
            "marker": {
             "colorbar": {
              "outlinewidth": 0,
              "ticks": ""
             }
            },
            "type": "scatterternary"
           }
          ],
          "surface": [
           {
            "colorbar": {
             "outlinewidth": 0,
             "ticks": ""
            },
            "colorscale": [
             [
              0,
              "#0d0887"
             ],
             [
              0.1111111111111111,
              "#46039f"
             ],
             [
              0.2222222222222222,
              "#7201a8"
             ],
             [
              0.3333333333333333,
              "#9c179e"
             ],
             [
              0.4444444444444444,
              "#bd3786"
             ],
             [
              0.5555555555555556,
              "#d8576b"
             ],
             [
              0.6666666666666666,
              "#ed7953"
             ],
             [
              0.7777777777777778,
              "#fb9f3a"
             ],
             [
              0.8888888888888888,
              "#fdca26"
             ],
             [
              1,
              "#f0f921"
             ]
            ],
            "type": "surface"
           }
          ],
          "table": [
           {
            "cells": {
             "fill": {
              "color": "#EBF0F8"
             },
             "line": {
              "color": "white"
             }
            },
            "header": {
             "fill": {
              "color": "#C8D4E3"
             },
             "line": {
              "color": "white"
             }
            },
            "type": "table"
           }
          ]
         },
         "layout": {
          "annotationdefaults": {
           "arrowcolor": "#2a3f5f",
           "arrowhead": 0,
           "arrowwidth": 1
          },
          "autotypenumbers": "strict",
          "coloraxis": {
           "colorbar": {
            "outlinewidth": 0,
            "ticks": ""
           }
          },
          "colorscale": {
           "diverging": [
            [
             0,
             "#8e0152"
            ],
            [
             0.1,
             "#c51b7d"
            ],
            [
             0.2,
             "#de77ae"
            ],
            [
             0.3,
             "#f1b6da"
            ],
            [
             0.4,
             "#fde0ef"
            ],
            [
             0.5,
             "#f7f7f7"
            ],
            [
             0.6,
             "#e6f5d0"
            ],
            [
             0.7,
             "#b8e186"
            ],
            [
             0.8,
             "#7fbc41"
            ],
            [
             0.9,
             "#4d9221"
            ],
            [
             1,
             "#276419"
            ]
           ],
           "sequential": [
            [
             0,
             "#0d0887"
            ],
            [
             0.1111111111111111,
             "#46039f"
            ],
            [
             0.2222222222222222,
             "#7201a8"
            ],
            [
             0.3333333333333333,
             "#9c179e"
            ],
            [
             0.4444444444444444,
             "#bd3786"
            ],
            [
             0.5555555555555556,
             "#d8576b"
            ],
            [
             0.6666666666666666,
             "#ed7953"
            ],
            [
             0.7777777777777778,
             "#fb9f3a"
            ],
            [
             0.8888888888888888,
             "#fdca26"
            ],
            [
             1,
             "#f0f921"
            ]
           ],
           "sequentialminus": [
            [
             0,
             "#0d0887"
            ],
            [
             0.1111111111111111,
             "#46039f"
            ],
            [
             0.2222222222222222,
             "#7201a8"
            ],
            [
             0.3333333333333333,
             "#9c179e"
            ],
            [
             0.4444444444444444,
             "#bd3786"
            ],
            [
             0.5555555555555556,
             "#d8576b"
            ],
            [
             0.6666666666666666,
             "#ed7953"
            ],
            [
             0.7777777777777778,
             "#fb9f3a"
            ],
            [
             0.8888888888888888,
             "#fdca26"
            ],
            [
             1,
             "#f0f921"
            ]
           ]
          },
          "colorway": [
           "#636efa",
           "#EF553B",
           "#00cc96",
           "#ab63fa",
           "#FFA15A",
           "#19d3f3",
           "#FF6692",
           "#B6E880",
           "#FF97FF",
           "#FECB52"
          ],
          "font": {
           "color": "#2a3f5f"
          },
          "geo": {
           "bgcolor": "white",
           "lakecolor": "white",
           "landcolor": "#E5ECF6",
           "showlakes": true,
           "showland": true,
           "subunitcolor": "white"
          },
          "hoverlabel": {
           "align": "left"
          },
          "hovermode": "closest",
          "mapbox": {
           "style": "light"
          },
          "paper_bgcolor": "white",
          "plot_bgcolor": "#E5ECF6",
          "polar": {
           "angularaxis": {
            "gridcolor": "white",
            "linecolor": "white",
            "ticks": ""
           },
           "bgcolor": "#E5ECF6",
           "radialaxis": {
            "gridcolor": "white",
            "linecolor": "white",
            "ticks": ""
           }
          },
          "scene": {
           "xaxis": {
            "backgroundcolor": "#E5ECF6",
            "gridcolor": "white",
            "gridwidth": 2,
            "linecolor": "white",
            "showbackground": true,
            "ticks": "",
            "zerolinecolor": "white"
           },
           "yaxis": {
            "backgroundcolor": "#E5ECF6",
            "gridcolor": "white",
            "gridwidth": 2,
            "linecolor": "white",
            "showbackground": true,
            "ticks": "",
            "zerolinecolor": "white"
           },
           "zaxis": {
            "backgroundcolor": "#E5ECF6",
            "gridcolor": "white",
            "gridwidth": 2,
            "linecolor": "white",
            "showbackground": true,
            "ticks": "",
            "zerolinecolor": "white"
           }
          },
          "shapedefaults": {
           "line": {
            "color": "#2a3f5f"
           }
          },
          "ternary": {
           "aaxis": {
            "gridcolor": "white",
            "linecolor": "white",
            "ticks": ""
           },
           "baxis": {
            "gridcolor": "white",
            "linecolor": "white",
            "ticks": ""
           },
           "bgcolor": "#E5ECF6",
           "caxis": {
            "gridcolor": "white",
            "linecolor": "white",
            "ticks": ""
           }
          },
          "title": {
           "x": 0.05
          },
          "xaxis": {
           "automargin": true,
           "gridcolor": "white",
           "linecolor": "white",
           "ticks": "",
           "title": {
            "standoff": 15
           },
           "zerolinecolor": "white",
           "zerolinewidth": 2
          },
          "yaxis": {
           "automargin": true,
           "gridcolor": "white",
           "linecolor": "white",
           "ticks": "",
           "title": {
            "standoff": 15
           },
           "zerolinecolor": "white",
           "zerolinewidth": 2
          }
         }
        },
        "title": {
         "text": "Intermediate Values Plot"
        },
        "xaxis": {
         "title": {
          "text": "Step"
         }
        },
        "yaxis": {
         "title": {
          "text": "Intermediate Value"
         }
        }
       }
      }
     },
     "metadata": {},
     "output_type": "display_data"
    }
   ],
   "source": [
    "optuna.visualization.plot_intermediate_values(study)"
   ]
  },
  {
   "cell_type": "code",
   "execution_count": 7,
   "metadata": {},
   "outputs": [
    {
     "data": {
      "application/vnd.plotly.v1+json": {
       "config": {
        "plotlyServerURL": "https://plot.ly"
       },
       "data": [
        {
         "cliponaxis": false,
         "hovertemplate": [
          "n_layers (IntUniformDistribution): 0.02567422270337612<extra></extra>",
          "optimizer (CategoricalDistribution): 0.09143606302156947<extra></extra>",
          "layer_multipler (IntUniformDistribution): 0.13654664214825687<extra></extra>",
          "lr (LogUniformDistribution): 0.14038162182622835<extra></extra>",
          "batch_size (IntUniformDistribution): 0.21301925798996588<extra></extra>",
          "drop_rate (LogUniformDistribution): 0.3929421923106034<extra></extra>"
         ],
         "marker": {
          "color": "rgb(66,146,198)"
         },
         "orientation": "h",
         "text": [
          "0.02567422270337612",
          "0.09143606302156947",
          "0.13654664214825687",
          "0.14038162182622835",
          "0.21301925798996588",
          "0.3929421923106034"
         ],
         "textposition": "outside",
         "texttemplate": "%{text:.2f}",
         "type": "bar",
         "x": [
          0.02567422270337612,
          0.09143606302156947,
          0.13654664214825687,
          0.14038162182622835,
          0.21301925798996588,
          0.3929421923106034
         ],
         "y": [
          "n_layers",
          "optimizer",
          "layer_multipler",
          "lr",
          "batch_size",
          "drop_rate"
         ]
        }
       ],
       "layout": {
        "showlegend": false,
        "template": {
         "data": {
          "bar": [
           {
            "error_x": {
             "color": "#2a3f5f"
            },
            "error_y": {
             "color": "#2a3f5f"
            },
            "marker": {
             "line": {
              "color": "#E5ECF6",
              "width": 0.5
             },
             "pattern": {
              "fillmode": "overlay",
              "size": 10,
              "solidity": 0.2
             }
            },
            "type": "bar"
           }
          ],
          "barpolar": [
           {
            "marker": {
             "line": {
              "color": "#E5ECF6",
              "width": 0.5
             },
             "pattern": {
              "fillmode": "overlay",
              "size": 10,
              "solidity": 0.2
             }
            },
            "type": "barpolar"
           }
          ],
          "carpet": [
           {
            "aaxis": {
             "endlinecolor": "#2a3f5f",
             "gridcolor": "white",
             "linecolor": "white",
             "minorgridcolor": "white",
             "startlinecolor": "#2a3f5f"
            },
            "baxis": {
             "endlinecolor": "#2a3f5f",
             "gridcolor": "white",
             "linecolor": "white",
             "minorgridcolor": "white",
             "startlinecolor": "#2a3f5f"
            },
            "type": "carpet"
           }
          ],
          "choropleth": [
           {
            "colorbar": {
             "outlinewidth": 0,
             "ticks": ""
            },
            "type": "choropleth"
           }
          ],
          "contour": [
           {
            "colorbar": {
             "outlinewidth": 0,
             "ticks": ""
            },
            "colorscale": [
             [
              0,
              "#0d0887"
             ],
             [
              0.1111111111111111,
              "#46039f"
             ],
             [
              0.2222222222222222,
              "#7201a8"
             ],
             [
              0.3333333333333333,
              "#9c179e"
             ],
             [
              0.4444444444444444,
              "#bd3786"
             ],
             [
              0.5555555555555556,
              "#d8576b"
             ],
             [
              0.6666666666666666,
              "#ed7953"
             ],
             [
              0.7777777777777778,
              "#fb9f3a"
             ],
             [
              0.8888888888888888,
              "#fdca26"
             ],
             [
              1,
              "#f0f921"
             ]
            ],
            "type": "contour"
           }
          ],
          "contourcarpet": [
           {
            "colorbar": {
             "outlinewidth": 0,
             "ticks": ""
            },
            "type": "contourcarpet"
           }
          ],
          "heatmap": [
           {
            "colorbar": {
             "outlinewidth": 0,
             "ticks": ""
            },
            "colorscale": [
             [
              0,
              "#0d0887"
             ],
             [
              0.1111111111111111,
              "#46039f"
             ],
             [
              0.2222222222222222,
              "#7201a8"
             ],
             [
              0.3333333333333333,
              "#9c179e"
             ],
             [
              0.4444444444444444,
              "#bd3786"
             ],
             [
              0.5555555555555556,
              "#d8576b"
             ],
             [
              0.6666666666666666,
              "#ed7953"
             ],
             [
              0.7777777777777778,
              "#fb9f3a"
             ],
             [
              0.8888888888888888,
              "#fdca26"
             ],
             [
              1,
              "#f0f921"
             ]
            ],
            "type": "heatmap"
           }
          ],
          "heatmapgl": [
           {
            "colorbar": {
             "outlinewidth": 0,
             "ticks": ""
            },
            "colorscale": [
             [
              0,
              "#0d0887"
             ],
             [
              0.1111111111111111,
              "#46039f"
             ],
             [
              0.2222222222222222,
              "#7201a8"
             ],
             [
              0.3333333333333333,
              "#9c179e"
             ],
             [
              0.4444444444444444,
              "#bd3786"
             ],
             [
              0.5555555555555556,
              "#d8576b"
             ],
             [
              0.6666666666666666,
              "#ed7953"
             ],
             [
              0.7777777777777778,
              "#fb9f3a"
             ],
             [
              0.8888888888888888,
              "#fdca26"
             ],
             [
              1,
              "#f0f921"
             ]
            ],
            "type": "heatmapgl"
           }
          ],
          "histogram": [
           {
            "marker": {
             "pattern": {
              "fillmode": "overlay",
              "size": 10,
              "solidity": 0.2
             }
            },
            "type": "histogram"
           }
          ],
          "histogram2d": [
           {
            "colorbar": {
             "outlinewidth": 0,
             "ticks": ""
            },
            "colorscale": [
             [
              0,
              "#0d0887"
             ],
             [
              0.1111111111111111,
              "#46039f"
             ],
             [
              0.2222222222222222,
              "#7201a8"
             ],
             [
              0.3333333333333333,
              "#9c179e"
             ],
             [
              0.4444444444444444,
              "#bd3786"
             ],
             [
              0.5555555555555556,
              "#d8576b"
             ],
             [
              0.6666666666666666,
              "#ed7953"
             ],
             [
              0.7777777777777778,
              "#fb9f3a"
             ],
             [
              0.8888888888888888,
              "#fdca26"
             ],
             [
              1,
              "#f0f921"
             ]
            ],
            "type": "histogram2d"
           }
          ],
          "histogram2dcontour": [
           {
            "colorbar": {
             "outlinewidth": 0,
             "ticks": ""
            },
            "colorscale": [
             [
              0,
              "#0d0887"
             ],
             [
              0.1111111111111111,
              "#46039f"
             ],
             [
              0.2222222222222222,
              "#7201a8"
             ],
             [
              0.3333333333333333,
              "#9c179e"
             ],
             [
              0.4444444444444444,
              "#bd3786"
             ],
             [
              0.5555555555555556,
              "#d8576b"
             ],
             [
              0.6666666666666666,
              "#ed7953"
             ],
             [
              0.7777777777777778,
              "#fb9f3a"
             ],
             [
              0.8888888888888888,
              "#fdca26"
             ],
             [
              1,
              "#f0f921"
             ]
            ],
            "type": "histogram2dcontour"
           }
          ],
          "mesh3d": [
           {
            "colorbar": {
             "outlinewidth": 0,
             "ticks": ""
            },
            "type": "mesh3d"
           }
          ],
          "parcoords": [
           {
            "line": {
             "colorbar": {
              "outlinewidth": 0,
              "ticks": ""
             }
            },
            "type": "parcoords"
           }
          ],
          "pie": [
           {
            "automargin": true,
            "type": "pie"
           }
          ],
          "scatter": [
           {
            "marker": {
             "colorbar": {
              "outlinewidth": 0,
              "ticks": ""
             }
            },
            "type": "scatter"
           }
          ],
          "scatter3d": [
           {
            "line": {
             "colorbar": {
              "outlinewidth": 0,
              "ticks": ""
             }
            },
            "marker": {
             "colorbar": {
              "outlinewidth": 0,
              "ticks": ""
             }
            },
            "type": "scatter3d"
           }
          ],
          "scattercarpet": [
           {
            "marker": {
             "colorbar": {
              "outlinewidth": 0,
              "ticks": ""
             }
            },
            "type": "scattercarpet"
           }
          ],
          "scattergeo": [
           {
            "marker": {
             "colorbar": {
              "outlinewidth": 0,
              "ticks": ""
             }
            },
            "type": "scattergeo"
           }
          ],
          "scattergl": [
           {
            "marker": {
             "colorbar": {
              "outlinewidth": 0,
              "ticks": ""
             }
            },
            "type": "scattergl"
           }
          ],
          "scattermapbox": [
           {
            "marker": {
             "colorbar": {
              "outlinewidth": 0,
              "ticks": ""
             }
            },
            "type": "scattermapbox"
           }
          ],
          "scatterpolar": [
           {
            "marker": {
             "colorbar": {
              "outlinewidth": 0,
              "ticks": ""
             }
            },
            "type": "scatterpolar"
           }
          ],
          "scatterpolargl": [
           {
            "marker": {
             "colorbar": {
              "outlinewidth": 0,
              "ticks": ""
             }
            },
            "type": "scatterpolargl"
           }
          ],
          "scatterternary": [
           {
            "marker": {
             "colorbar": {
              "outlinewidth": 0,
              "ticks": ""
             }
            },
            "type": "scatterternary"
           }
          ],
          "surface": [
           {
            "colorbar": {
             "outlinewidth": 0,
             "ticks": ""
            },
            "colorscale": [
             [
              0,
              "#0d0887"
             ],
             [
              0.1111111111111111,
              "#46039f"
             ],
             [
              0.2222222222222222,
              "#7201a8"
             ],
             [
              0.3333333333333333,
              "#9c179e"
             ],
             [
              0.4444444444444444,
              "#bd3786"
             ],
             [
              0.5555555555555556,
              "#d8576b"
             ],
             [
              0.6666666666666666,
              "#ed7953"
             ],
             [
              0.7777777777777778,
              "#fb9f3a"
             ],
             [
              0.8888888888888888,
              "#fdca26"
             ],
             [
              1,
              "#f0f921"
             ]
            ],
            "type": "surface"
           }
          ],
          "table": [
           {
            "cells": {
             "fill": {
              "color": "#EBF0F8"
             },
             "line": {
              "color": "white"
             }
            },
            "header": {
             "fill": {
              "color": "#C8D4E3"
             },
             "line": {
              "color": "white"
             }
            },
            "type": "table"
           }
          ]
         },
         "layout": {
          "annotationdefaults": {
           "arrowcolor": "#2a3f5f",
           "arrowhead": 0,
           "arrowwidth": 1
          },
          "autotypenumbers": "strict",
          "coloraxis": {
           "colorbar": {
            "outlinewidth": 0,
            "ticks": ""
           }
          },
          "colorscale": {
           "diverging": [
            [
             0,
             "#8e0152"
            ],
            [
             0.1,
             "#c51b7d"
            ],
            [
             0.2,
             "#de77ae"
            ],
            [
             0.3,
             "#f1b6da"
            ],
            [
             0.4,
             "#fde0ef"
            ],
            [
             0.5,
             "#f7f7f7"
            ],
            [
             0.6,
             "#e6f5d0"
            ],
            [
             0.7,
             "#b8e186"
            ],
            [
             0.8,
             "#7fbc41"
            ],
            [
             0.9,
             "#4d9221"
            ],
            [
             1,
             "#276419"
            ]
           ],
           "sequential": [
            [
             0,
             "#0d0887"
            ],
            [
             0.1111111111111111,
             "#46039f"
            ],
            [
             0.2222222222222222,
             "#7201a8"
            ],
            [
             0.3333333333333333,
             "#9c179e"
            ],
            [
             0.4444444444444444,
             "#bd3786"
            ],
            [
             0.5555555555555556,
             "#d8576b"
            ],
            [
             0.6666666666666666,
             "#ed7953"
            ],
            [
             0.7777777777777778,
             "#fb9f3a"
            ],
            [
             0.8888888888888888,
             "#fdca26"
            ],
            [
             1,
             "#f0f921"
            ]
           ],
           "sequentialminus": [
            [
             0,
             "#0d0887"
            ],
            [
             0.1111111111111111,
             "#46039f"
            ],
            [
             0.2222222222222222,
             "#7201a8"
            ],
            [
             0.3333333333333333,
             "#9c179e"
            ],
            [
             0.4444444444444444,
             "#bd3786"
            ],
            [
             0.5555555555555556,
             "#d8576b"
            ],
            [
             0.6666666666666666,
             "#ed7953"
            ],
            [
             0.7777777777777778,
             "#fb9f3a"
            ],
            [
             0.8888888888888888,
             "#fdca26"
            ],
            [
             1,
             "#f0f921"
            ]
           ]
          },
          "colorway": [
           "#636efa",
           "#EF553B",
           "#00cc96",
           "#ab63fa",
           "#FFA15A",
           "#19d3f3",
           "#FF6692",
           "#B6E880",
           "#FF97FF",
           "#FECB52"
          ],
          "font": {
           "color": "#2a3f5f"
          },
          "geo": {
           "bgcolor": "white",
           "lakecolor": "white",
           "landcolor": "#E5ECF6",
           "showlakes": true,
           "showland": true,
           "subunitcolor": "white"
          },
          "hoverlabel": {
           "align": "left"
          },
          "hovermode": "closest",
          "mapbox": {
           "style": "light"
          },
          "paper_bgcolor": "white",
          "plot_bgcolor": "#E5ECF6",
          "polar": {
           "angularaxis": {
            "gridcolor": "white",
            "linecolor": "white",
            "ticks": ""
           },
           "bgcolor": "#E5ECF6",
           "radialaxis": {
            "gridcolor": "white",
            "linecolor": "white",
            "ticks": ""
           }
          },
          "scene": {
           "xaxis": {
            "backgroundcolor": "#E5ECF6",
            "gridcolor": "white",
            "gridwidth": 2,
            "linecolor": "white",
            "showbackground": true,
            "ticks": "",
            "zerolinecolor": "white"
           },
           "yaxis": {
            "backgroundcolor": "#E5ECF6",
            "gridcolor": "white",
            "gridwidth": 2,
            "linecolor": "white",
            "showbackground": true,
            "ticks": "",
            "zerolinecolor": "white"
           },
           "zaxis": {
            "backgroundcolor": "#E5ECF6",
            "gridcolor": "white",
            "gridwidth": 2,
            "linecolor": "white",
            "showbackground": true,
            "ticks": "",
            "zerolinecolor": "white"
           }
          },
          "shapedefaults": {
           "line": {
            "color": "#2a3f5f"
           }
          },
          "ternary": {
           "aaxis": {
            "gridcolor": "white",
            "linecolor": "white",
            "ticks": ""
           },
           "baxis": {
            "gridcolor": "white",
            "linecolor": "white",
            "ticks": ""
           },
           "bgcolor": "#E5ECF6",
           "caxis": {
            "gridcolor": "white",
            "linecolor": "white",
            "ticks": ""
           }
          },
          "title": {
           "x": 0.05
          },
          "xaxis": {
           "automargin": true,
           "gridcolor": "white",
           "linecolor": "white",
           "ticks": "",
           "title": {
            "standoff": 15
           },
           "zerolinecolor": "white",
           "zerolinewidth": 2
          },
          "yaxis": {
           "automargin": true,
           "gridcolor": "white",
           "linecolor": "white",
           "ticks": "",
           "title": {
            "standoff": 15
           },
           "zerolinecolor": "white",
           "zerolinewidth": 2
          }
         }
        },
        "title": {
         "text": "Hyperparameter Importances"
        },
        "xaxis": {
         "title": {
          "text": "Importance for Objective Value"
         }
        },
        "yaxis": {
         "title": {
          "text": "Hyperparameter"
         }
        }
       }
      }
     },
     "metadata": {},
     "output_type": "display_data"
    }
   ],
   "source": [
    "optuna.visualization.plot_param_importances(study)"
   ]
  }
 ],
 "metadata": {
  "kernelspec": {
   "display_name": "Python 3",
   "language": "python",
   "name": "python3"
  },
  "language_info": {
   "codemirror_mode": {
    "name": "ipython",
    "version": 3
   },
   "file_extension": ".py",
   "mimetype": "text/x-python",
   "name": "python",
   "nbconvert_exporter": "python",
   "pygments_lexer": "ipython3",
   "version": "3.8.10"
  }
 },
 "nbformat": 4,
 "nbformat_minor": 4
}
