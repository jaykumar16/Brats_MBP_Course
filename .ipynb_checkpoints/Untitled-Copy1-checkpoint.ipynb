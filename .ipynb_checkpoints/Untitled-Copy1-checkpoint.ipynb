{
 "cells": [
  {
   "cell_type": "markdown",
   "metadata": {},
   "source": [
    "## Dataset:\n",
    "\n",
    "File:                     Multi-Modal MRI Data/person\n",
    "\n",
    "File Format:          nii.gz\n",
    "\n",
    "Image Shape:       240(Slide Width) × 240(Slide Height) × 155(Number of Slide) × 4(Multi-mode)\n",
    "\n",
    "Image Mode:        4 (Multi-mode)\n",
    "\n"
   ]
  },
  {
   "cell_type": "markdown",
   "metadata": {},
   "source": [
    "# Multimodal data\n",
    "channel 0: FLAIR                    \n",
    "channel 1: T1                     \n",
    "channel 2: T1c                            \n",
    "channel 3: T2                           \n"
   ]
  },
  {
   "cell_type": "markdown",
   "metadata": {},
   "source": [
    "## Labels\n",
    "\n",
    "channel 0: background \\\n",
    "channel 1: necrotic and non-enhancing tumor \\\n",
    "channel 2: edema \\\n",
    "channel 3: enhancing tumor \n",
    "\n",
    "will change the intensity of the mask to different values to create the binary class problem \\\n",
    "C1 = 50     # Necrotic and Non-enhancing Tumor \\\n",
    "C2 = 100    # Edema \\\n",
    "C3 = 150    # Enhancing Tumor"
   ]
  },
  {
   "cell_type": "code",
   "execution_count": 1,
   "metadata": {},
   "outputs": [],
   "source": [
    "import numpy as np\n",
    "import matplotlib.pyplot as plt\n",
    "import nibabel as nib\n",
    "import torch\n",
    "import glob\n",
    "import os, sys, time\n",
    "import h5py\n",
    "import random\n",
    "from torch.utils import data\n",
    "import helpers\n",
    "from pathlib import Path\n",
    "import cv2"
   ]
  },
  {
   "cell_type": "code",
   "execution_count": 2,
   "metadata": {},
   "outputs": [],
   "source": [
    "#Preprocessing Binary multiscale mask and normalize the intensity\n",
    "\n",
    "def hd5normalize_img(img_path, output_root):\n",
    "    img_name = (img_path.split('/')[-1]).split('.')[0]\n",
    "    print(img_path)\n",
    "    \n",
    "    output_path = os.path.join(output_root, img_name)\n",
    "    try:\n",
    "        os.makedirs(output_root)\n",
    "    except:\n",
    "        pass\n",
    "    #try:\n",
    "   #     os.makedirs(output_path)\n",
    "   # except:\n",
    "   #     pass\n",
    "    img = h5py.File(img_path,'r')['image']\n",
    "    msk = h5py.File(img_path,'r')['mask']\n",
    "    \n",
    "    image = np.zeros(np.shape(img))\n",
    "    mask = np.zeros(np.shape(msk))\n",
    "    \n",
    "    image[:,:,0] = cv2.normalize(img[:,:,0],None, norm_type=cv2.NORM_MINMAX)\n",
    "    image[:,:,1] = cv2.normalize(img[:,:,1],None, norm_type=cv2.NORM_MINMAX)\n",
    "    image[:,:,2] = cv2.normalize(img[:,:,2],None, norm_type=cv2.NORM_MINMAX)\n",
    "    image[:,:,3] = cv2.normalize(img[:,:,3],None, norm_type=cv2.NORM_MINMAX)\n",
    "    \n",
    "    \n",
    "    \n",
    "    mask[:,:,0] = msk[:,:,0]*50\n",
    "    mask[:,:,1] = msk[:,:,1]*100\n",
    "    mask[:,:,2] = msk[:,:,2]*150\n",
    "    \n",
    "    filename = os.path.join(output_root, img_name+'.h5')\n",
    "    hf = h5py.File(filename, 'w')\n",
    "    hf.create_dataset('image', data=image)\n",
    "    hf.create_dataset('mask', data=mask)\n",
    "    \n"
   ]
  },
  {
   "cell_type": "code",
   "execution_count": null,
   "metadata": {},
   "outputs": [],
   "source": [
    "# Get all the h5 file and normalize the images and rescale the mask\n",
    "\n",
    "hdfiles = glob.glob('/home/jay/Downloads/Brats/BraTS2020_training_data/content/data/*.h5')\n",
    "output_folder = '/home/jay/Downloads/Brats/BraTS2020_norm_data/'\n",
    "\n",
    "for i in range(0,128):#len(hdfiles)):\n",
    "    hd5normalize_img(hdfiles[i],output_folder)"
   ]
  },
  {
   "cell_type": "code",
   "execution_count": 6,
   "metadata": {},
   "outputs": [
    {
     "ename": "AttributeError",
     "evalue": "'Dataset' object has no attribute 'items'",
     "output_type": "error",
     "traceback": [
      "\u001b[0;31m---------------------------------------------------------------------------\u001b[0m",
      "\u001b[0;31mAttributeError\u001b[0m                            Traceback (most recent call last)",
      "Input \u001b[0;32mIn [6]\u001b[0m, in \u001b[0;36m<module>\u001b[0;34m\u001b[0m\n\u001b[0;32m----> 1\u001b[0m testset \u001b[38;5;241m=\u001b[39m \u001b[43mHDF5Dataset\u001b[49m\u001b[43m(\u001b[49m\u001b[38;5;124;43m'\u001b[39;49m\u001b[38;5;124;43m/home/jay/Downloads/Brats/BraTS2020_training_data/content/data\u001b[39;49m\u001b[38;5;124;43m'\u001b[39;49m\u001b[43m,\u001b[49m\u001b[38;5;28;43;01mFalse\u001b[39;49;00m\u001b[43m,\u001b[49m\u001b[38;5;28;43;01mFalse\u001b[39;49;00m\u001b[43m)\u001b[49m\n",
      "Input \u001b[0;32mIn [5]\u001b[0m, in \u001b[0;36mHDF5Dataset.__init__\u001b[0;34m(self, file_path, recursive, load_data, data_cache_size, transform)\u001b[0m\n\u001b[1;32m     28\u001b[0m     \u001b[38;5;28;01mraise\u001b[39;00m \u001b[38;5;167;01mRuntimeError\u001b[39;00m(\u001b[38;5;124m'\u001b[39m\u001b[38;5;124mNo hdf5 datasets found\u001b[39m\u001b[38;5;124m'\u001b[39m)\n\u001b[1;32m     30\u001b[0m \u001b[38;5;28;01mfor\u001b[39;00m h5dataset_fp \u001b[38;5;129;01min\u001b[39;00m files:\n\u001b[0;32m---> 31\u001b[0m     \u001b[38;5;28;43mself\u001b[39;49m\u001b[38;5;241;43m.\u001b[39;49m\u001b[43m_add_data_infos\u001b[49m\u001b[43m(\u001b[49m\u001b[38;5;28;43mstr\u001b[39;49m\u001b[43m(\u001b[49m\u001b[43mh5dataset_fp\u001b[49m\u001b[38;5;241;43m.\u001b[39;49m\u001b[43mresolve\u001b[49m\u001b[43m(\u001b[49m\u001b[43m)\u001b[49m\u001b[43m)\u001b[49m\u001b[43m,\u001b[49m\u001b[43m \u001b[49m\u001b[43mload_data\u001b[49m\u001b[43m)\u001b[49m\n",
      "Input \u001b[0;32mIn [5]\u001b[0m, in \u001b[0;36mHDF5Dataset._add_data_infos\u001b[0;34m(self, file_path, load_data)\u001b[0m\n\u001b[1;32m     50\u001b[0m \u001b[38;5;28;01mwith\u001b[39;00m h5py\u001b[38;5;241m.\u001b[39mFile(file_path) \u001b[38;5;28;01mas\u001b[39;00m h5_file:\n\u001b[1;32m     51\u001b[0m     \u001b[38;5;66;03m# Walk through all groups, extracting datasets\u001b[39;00m\n\u001b[1;32m     52\u001b[0m     \u001b[38;5;28;01mfor\u001b[39;00m gname, group \u001b[38;5;129;01min\u001b[39;00m h5_file\u001b[38;5;241m.\u001b[39mitems():\n\u001b[0;32m---> 53\u001b[0m         \u001b[38;5;28;01mfor\u001b[39;00m dname, ds \u001b[38;5;129;01min\u001b[39;00m \u001b[43mgroup\u001b[49m\u001b[38;5;241;43m.\u001b[39;49m\u001b[43mitems\u001b[49m():\n\u001b[1;32m     54\u001b[0m             \u001b[38;5;66;03m# if data is not loaded its cache index is -1\u001b[39;00m\n\u001b[1;32m     55\u001b[0m             idx \u001b[38;5;241m=\u001b[39m \u001b[38;5;241m-\u001b[39m\u001b[38;5;241m1\u001b[39m\n\u001b[1;32m     56\u001b[0m             \u001b[38;5;28;01mif\u001b[39;00m load_data:\n\u001b[1;32m     57\u001b[0m                 \u001b[38;5;66;03m# add data to the data cache\u001b[39;00m\n",
      "\u001b[0;31mAttributeError\u001b[0m: 'Dataset' object has no attribute 'items'"
     ]
    }
   ],
   "source": [
    "testset = HDF5Dataset('/home/jay/Downloads/Brats/BraTS2020_training_data/content/data',False,False)"
   ]
  },
  {
   "cell_type": "code",
   "execution_count": null,
   "metadata": {},
   "outputs": [],
   "source": []
  },
  {
   "cell_type": "code",
   "execution_count": null,
   "metadata": {},
   "outputs": [],
   "source": [
    "hd5normalize_img('/home/jay/Downloads/Brats/BraTS2020_training_data/content/data/volume_5_slice_90.h5','/home/jay/Downloads/Brats/trial/')"
   ]
  },
  {
   "cell_type": "code",
   "execution_count": 101,
   "metadata": {},
   "outputs": [],
   "source": [
    "img_path= '/home/jay/Downloads/Brats/trial/volume_5_slice_90.h5'\n",
    "img_name = (img_path.split('/')[-1]).split('.')[0]\n",
    "img = h5py.File(img_path,'r')\n",
    "msk = h5py.File(img_path,'r')['mask']"
   ]
  },
  {
   "cell_type": "code",
   "execution_count": 116,
   "metadata": {},
   "outputs": [
    {
     "data": {
      "text/plain": [
       "h5py._hl.dataset.Dataset"
      ]
     },
     "execution_count": 116,
     "metadata": {},
     "output_type": "execute_result"
    }
   ],
   "source": [
    "type(msk)"
   ]
  },
  {
   "cell_type": "code",
   "execution_count": 115,
   "metadata": {},
   "outputs": [
    {
     "data": {
      "text/plain": [
       "h5py._hl.dataset.Dataset"
      ]
     },
     "execution_count": 115,
     "metadata": {},
     "output_type": "execute_result"
    }
   ],
   "source": [
    "type(example_dt['image'])"
   ]
  },
  {
   "cell_type": "code",
   "execution_count": 5,
   "metadata": {},
   "outputs": [],
   "source": [
    "class HDF5Dataset(data.Dataset):\n",
    "    \"\"\"Represents an abstract HDF5 dataset.\n",
    "    \n",
    "    Input params:\n",
    "        file_path: Path to the folder containing the dataset (one or multiple HDF5 files).\n",
    "        recursive: If True, searches for h5 files in subdirectories.\n",
    "        load_data: If True, loads all the data immediately into RAM. Use this if\n",
    "            the dataset is fits into memory. Otherwise, leave this at false and \n",
    "            the data will load lazily.\n",
    "        data_cache_size: Number of HDF5 files that can be cached in the cache (default=3).\n",
    "        transform: PyTorch transform to apply to every data instance (default=None).\n",
    "    \"\"\"\n",
    "    def __init__(self, file_path, recursive, load_data, data_cache_size=3, transform=None):\n",
    "        super().__init__()\n",
    "        self.data_info = []\n",
    "        self.data_cache = {}\n",
    "        self.data_cache_size = data_cache_size\n",
    "        self.transform = transform\n",
    "\n",
    "        # Search for all h5 files\n",
    "        p = Path(file_path)\n",
    "        assert(p.is_dir())\n",
    "        if recursive:\n",
    "            files = sorted(p.glob('**/*.h5'))\n",
    "        else:\n",
    "            files = sorted(p.glob('*.h5'))\n",
    "        if len(files) < 1:\n",
    "            raise RuntimeError('No hdf5 datasets found')\n",
    "\n",
    "        for h5dataset_fp in files:\n",
    "            self._add_data_infos(str(h5dataset_fp.resolve()), load_data)\n",
    "            \n",
    "    def __getitem__(self, index):\n",
    "        # get data\n",
    "        x = self.get_data(\"image\", index)\n",
    "        if self.transform:\n",
    "            x = self.transform(x)\n",
    "        else:\n",
    "            x = torch.from_numpy(x)\n",
    "\n",
    "        # get label\n",
    "        y = self.get_data(\"mask\", index)\n",
    "        y = torch.from_numpy(y)\n",
    "        return (x, y)\n",
    "\n",
    "    def __len__(self):\n",
    "        return len(self.get_data_infos('image'))\n",
    "    \n",
    "    def _add_data_infos(self, file_path, load_data):\n",
    "        with h5py.File(file_path) as h5_file:\n",
    "            # Walk through all groups, extracting datasets\n",
    "            for dname, ds in h5_file.items():\n",
    "                    # if data is not loaded its cache index is -1\n",
    "                idx = -1\n",
    "                if load_data:\n",
    "                        # add data to the data cache\n",
    "                    if dname == \"mask\":\n",
    "                        idx = self._add_to_cache(ds[()][:,:,0]*50+ds[()][:,:,1]*100+ds[()][:,:,2]*150,file_path)\n",
    "                    else:\n",
    "                        img = np.zeros(np.shape(ds[()]))\n",
    "                        print(f'{np.shape(idx)}')\n",
    "                        img[-1] = np.nan\n",
    "                        img[:,:,0] = cv2.normalize(ds[()][:,:,0],None, norm_type=cv2.NORM_MINMAX)\n",
    "                        img[:,:,1] = cv2.normalize(ds[()][:,:,1],None, norm_type=cv2.NORM_MINMAX)\n",
    "                        img[:,:,2] = cv2.normalize(ds[()][:,:,2],None, norm_type=cv2.NORM_MINMAX)\n",
    "                        img[:,:,3] = cv2.normalize(ds[()][:,:,3],None, norm_type=cv2.NORM_MINMAX)\n",
    "                        img[np.isnan(idx)] = 0\n",
    "                        idx = self._add_to_cache(img, file_path)\n",
    "                    \n",
    "                    # type is derived from the name of the dataset; we expect the dataset\n",
    "                    # name to have a name such as 'data' or 'label' to identify its type\n",
    "                    # we also store the shape of the data in case we need it\n",
    "                    self.data_info.append({'file_path': file_path, 'type': dname, 'shape': ds.value.shape, 'cache_idx': idx})\n",
    "\n",
    "    def _load_data(self, file_path):\n",
    "        \"\"\"Load data to the cache given the file\n",
    "        path and update the cache index in the\n",
    "        data_info structure.\n",
    "        \"\"\"\n",
    "        with h5py.File(file_path) as h5_file:\n",
    "            for gname, group in h5_file.items():\n",
    "                for dname, ds in group.items():\n",
    "                    # add data to the data cache and retrieve\n",
    "                    # the cache index\n",
    "                    #idx = self._add_to_cache(ds.value, file_path)\n",
    "                    \n",
    "                    if dname == \"mask\":\n",
    "                            idx = self._add_to_cache(ds[()][:,:,0]*50+ds[()][:,:,1]*100+ds[()][:,:,2]*150,file_path)\n",
    "                    else:\n",
    "                            img = np.zeros(np.shape(ds[()]))\n",
    "                            print(f'{np.shape(idx)}')\n",
    "                            img[-1] = np.nan\n",
    "                            img[:,:,0] = cv2.normalize(ds[()][:,:,0],None, norm_type=cv2.NORM_MINMAX)\n",
    "                            img[:,:,1] = cv2.normalize(ds[()][:,:,1],None, norm_type=cv2.NORM_MINMAX)\n",
    "                            img[:,:,2] = cv2.normalize(ds[()][:,:,2],None, norm_type=cv2.NORM_MINMAX)\n",
    "                            img[:,:,3] = cv2.normalize(ds[()][:,:,3],None, norm_type=cv2.NORM_MINMAX)\n",
    "                            img[np.isnan(idx)] = 0\n",
    "                            idx = self._add_to_cache(img, file_path)\n",
    "                    \n",
    "                    # find the beginning index of the hdf5 file we are looking for\n",
    "                    file_idx = next(i for i,v in enumerate(self.data_info) if v['file_path'] == file_path)\n",
    "\n",
    "                    # the data info should have the same index since we loaded it in the same way\n",
    "                    self.data_info[file_idx + idx]['cache_idx'] = idx\n",
    "\n",
    "        # remove an element from data cache if size was exceeded\n",
    "        if len(self.data_cache) > self.data_cache_size:\n",
    "            # remove one item from the cache at random\n",
    "            removal_keys = list(self.data_cache)\n",
    "            removal_keys.remove(file_path)\n",
    "            self.data_cache.pop(removal_keys[0])\n",
    "            # remove invalid cache_idx\n",
    "            self.data_info = [{'file_path': di['file_path'], 'type': di['type'], 'shape': di['shape'], 'cache_idx': -1} if di['file_path'] == removal_keys[0] else di for di in self.data_info]\n",
    "\n",
    "    def _add_to_cache(self, data, file_path):\n",
    "        \"\"\"Adds data to the cache and returns its index. There is one cache\n",
    "        list for every file_path, containing all datasets in that file.\n",
    "        \"\"\"\n",
    "        if file_path not in self.data_cache:\n",
    "            self.data_cache[file_path] = [data]\n",
    "        else:\n",
    "            self.data_cache[file_path].append(data)\n",
    "        return len(self.data_cache[file_path]) - 1\n",
    "\n",
    "    def get_data_infos(self, type):\n",
    "        \"\"\"Get data infos belonging to a certain type of data.\n",
    "        \"\"\"\n",
    "        data_info_type = [di for di in self.data_info if di['type'] == type]\n",
    "        return data_info_type\n",
    "\n",
    "    def get_data(self, type, i):\n",
    "        \"\"\"Call this function anytime you want to access a chunk of data from the\n",
    "            dataset. This will make sure that the data is loaded in case it is\n",
    "            not part of the data cache.\n",
    "        \"\"\"\n",
    "        fp = self.get_data_infos(type)[i]['file_path']\n",
    "        if fp not in self.data_cache:\n",
    "            self._load_data(fp)\n",
    "        \n",
    "        # get new cache_idx assigned by _load_data_info\n",
    "        cache_idx = self.get_data_infos(type)[i]['cache_idx']\n",
    "        return self.data_cache[fp][cache_idx]"
   ]
  },
  {
   "cell_type": "code",
   "execution_count": 94,
   "metadata": {},
   "outputs": [],
   "source": [
    "example_dt = h5py.File('/home/jay/Downloads/Brats/BraTS2020_training_data/content/data/volume_5_slice_90.h5','r')"
   ]
  },
  {
   "cell_type": "code",
   "execution_count": 99,
   "metadata": {},
   "outputs": [
    {
     "data": {
      "text/plain": [
       "ValuesViewHDF5(<HDF5 file \"volume_5_slice_90.h5\" (mode r)>)"
      ]
     },
     "execution_count": 99,
     "metadata": {},
     "output_type": "execute_result"
    }
   ],
   "source": [
    "example_dt.values()"
   ]
  },
  {
   "cell_type": "code",
   "execution_count": 35,
   "metadata": {},
   "outputs": [
    {
     "data": {
      "text/plain": [
       "<HDF5 dataset \"mask\": shape (240, 240, 3), type \"|u1\">"
      ]
     },
     "execution_count": 35,
     "metadata": {},
     "output_type": "execute_result"
    }
   ],
   "source": [
    "example_dt['mask']"
   ]
  },
  {
   "cell_type": "code",
   "execution_count": 36,
   "metadata": {},
   "outputs": [],
   "source": [
    "mask = example_dt['mask']"
   ]
  },
  {
   "cell_type": "code",
   "execution_count": 37,
   "metadata": {},
   "outputs": [
    {
     "data": {
      "text/plain": [
       "<matplotlib.colorbar.Colorbar at 0x7f274ade4ac0>"
      ]
     },
     "execution_count": 37,
     "metadata": {},
     "output_type": "execute_result"
    },
    {
     "data": {
      "image/png": "[encoded data removed]",
      "text/plain": [
       "<Figure size 432x288 with 2 Axes>"
      ]
     },
     "metadata": {
      "needs_background": "light"
     },
     "output_type": "display_data"
    }
   ],
   "source": [
    "plt.imshow(mask[:,:,2])\n",
    "plt.colorbar()"
   ]
  },
  {
   "cell_type": "code",
   "execution_count": 41,
   "metadata": {},
   "outputs": [
    {
     "data": {
      "text/plain": [
       "<matplotlib.colorbar.Colorbar at 0x7f274ac147f0>"
      ]
     },
     "execution_count": 41,
     "metadata": {},
     "output_type": "execute_result"
    },
    {
     "data": {
      "image/png": "[encoded data removed]",
      "text/plain": [
       "<Figure size 432x288 with 2 Axes>"
      ]
     },
     "metadata": {
      "needs_background": "light"
     },
     "output_type": "display_data"
    }
   ],
   "source": [
    "plt.imshow(image[:,:,3])\n",
    "plt.colorbar()"
   ]
  },
  {
   "cell_type": "code",
   "execution_count": null,
   "metadata": {},
   "outputs": [],
   "source": []
  }
 ],
 "metadata": {
  "kernelspec": {
   "display_name": "Python 3",
   "language": "python",
   "name": "python3"
  },
  "language_info": {
   "codemirror_mode": {
    "name": "ipython",
    "version": 3
   },
   "file_extension": ".py",
   "mimetype": "text/x-python",
   "name": "python",
   "nbconvert_exporter": "python",
   "pygments_lexer": "ipython3",
   "version": "3.8.10"
  }
 },
 "nbformat": 4,
 "nbformat_minor": 4
}
